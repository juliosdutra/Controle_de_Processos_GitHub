{
  "nbformat": 4,
  "nbformat_minor": 0,
  "metadata": {
    "colab": {
      "provenance": [],
      "authorship_tag": "ABX9TyNzlNACu6RGSkKXi9HQwmqs",
      "include_colab_link": true
    },
    "kernelspec": {
      "name": "python3",
      "display_name": "Python 3"
    },
    "language_info": {
      "name": "python"
    }
  },
  "cells": [
    {
      "cell_type": "markdown",
      "metadata": {
        "id": "view-in-github",
        "colab_type": "text"
      },
      "source": [
        "<a href=\"https://colab.research.google.com/github/juliosdutra/Controle_de_Processos_UFES/blob/main/rotinas_auxiliares.ipynb\" target=\"_parent\"><img src=\"https://colab.research.google.com/assets/colab-badge.svg\" alt=\"Open In Colab\"/></a>"
      ]
    },
    {
      "cell_type": "markdown",
      "source": [
        "<left><img src=\"https://github.com/juliosdutra/Controle_de_Processos_UFES/blob/main/imagens/cabe%C3%A7alho-geral.jpg?raw=true\" width=\"700\" height=\"175\">\n",
        "</left>"
      ],
      "metadata": {
        "id": "0Fp1odrjeGpb"
      }
    },
    {
      "cell_type": "markdown",
      "source": [
        "<br>\n",
        "<div style=\"text-align:center\">\n",
        "    <img src=\"https://github.com/juliosdutra/Controle_de_Processos_UFES/blob/main/imagens/aprox_linear_.jpg?raw=true\" width=\"auto\" height=\"200\" alt=\"Descrição da Imagem\">\n",
        "</div>"
      ],
      "metadata": {
        "id": "vPpHl2vxd9tO"
      }
    },
    {
      "cell_type": "code",
      "source": [],
      "metadata": {
        "id": "a7VTy8knd-Sj"
      },
      "execution_count": null,
      "outputs": []
    }
  ]
}
{
  "nbformat": 4,
  "nbformat_minor": 0,
  "metadata": {
    "colab": {
      "provenance": [],
      "authorship_tag": "ABX9TyPBwcxuRthBuUHBKKDizGP7",
      "include_colab_link": true
    },
    "kernelspec": {
      "name": "python3",
      "display_name": "Python 3"
    },
    "language_info": {
      "name": "python"
    }
  },
  "cells": [
    {
      "cell_type": "markdown",
      "metadata": {
        "id": "view-in-github",
        "colab_type": "text"
      },
      "source": [
        "<a href=\"https://colab.research.google.com/github/juliosdutra/Controle_de_Processos_UFES/blob/main/7.Controller-tuning/Sintonia_de_controladores.ipynb\" target=\"_parent\"><img src=\"https://colab.research.google.com/assets/colab-badge.svg\" alt=\"Open In Colab\"/></a>"
      ]
    },
    {
      "cell_type": "markdown",
      "source": [
        "# Instalar e importas as bibliotecas necessárias"
      ],
      "metadata": {
        "id": "BT7eWG6R4TB1"
      }
    },
    {
      "cell_type": "code",
      "execution_count": 7,
      "metadata": {
        "id": "okiMBJr17XdR"
      },
      "outputs": [],
      "source": [
        "! pip install -qq control"
      ]
    },
    {
      "cell_type": "code",
      "source": [
        "import numpy as np\n",
        "import control as ct\n",
        "import matplotlib.pyplot as plt\n",
        "from sklearn.metrics import r2_score"
      ],
      "metadata": {
        "id": "1CgBgVtH7uwc"
      },
      "execution_count": 12,
      "outputs": []
    },
    {
      "cell_type": "markdown",
      "source": [
        "# Identificar o modelo do processo\n",
        "\n",
        "Considere um problema em que a corrente de um processo deve ser aquecida usando um trocador de calor de casco e tubo. A temperatura de saída é controlada ajustando a válvula de vapor.\n",
        "\n",
        "Durante um teste experimental em malha aberta, a pressão do vapor Ps foi alterada repentinamente de 18 a 20 psi e foram obtidos os dados de temperatura na tabela de dados experimentais."
      ],
      "metadata": {
        "id": "AacuHT6Q4uCd"
      }
    },
    {
      "cell_type": "code",
      "source": [
        "# Dados experimentais\n",
        "t = np.array([0, 1, 2, 3, 4, 5, 6, 7, 8, 9, 10, 11, 12])\n",
        "T_2m = np.array([12, 12, 12.5, 13.1, 14, 14.8, 15.4, 16.1, 16.4, 16.8, 16.9, 17, 16.9])\n",
        "\n",
        "plt.figure(1)\n",
        "plt.plot(t,T_2m, '--or', label = 'valor medido')\n",
        "plt.xlabel('Tempo, min')\n",
        "plt.ylabel('Variável observada, mA')\n",
        "plt.legend()\n",
        "plt.grid()"
      ],
      "metadata": {
        "id": "n11G2yWK4xj-",
        "outputId": "efc902f6-c1cf-4e65-bda9-551f57fd836d",
        "colab": {
          "base_uri": "https://localhost:8080/",
          "height": 449
        }
      },
      "execution_count": 11,
      "outputs": [
        {
          "output_type": "display_data",
          "data": {
            "text/plain": [
              "<Figure size 640x480 with 1 Axes>"
            ],
            "image/png": "[encoded data removed]"
          },
          "metadata": {}
        }
      ]
    },
    {
      "cell_type": "markdown",
      "source": [
        "## Identificação do processo segundo Sundaresan e Krishnaswamy"
      ],
      "metadata": {
        "id": "es8h25xhXRaF"
      }
    },
    {
      "cell_type": "code",
      "source": [
        "Delta_Ps = 20-18\n",
        "Delta_T2m = 17-T_2m[0]\n",
        "\n",
        "t1 =  # 35.3% de Delta_T2m\n",
        "t2 =  # 85.3% de Delta_T2m\n",
        "\n",
        "theta = 1.3*t1 - 0.29*t2\n",
        "tau = 0.67*(t2-t1)\n",
        "Kp =  Delta_T2m/Delta_Ps\n",
        "print('\\nProcesso: Kp = %1.3f  tau = %1.3f  theta = %1.3f' %(Kp, tau, theta))\n"
      ],
      "metadata": {
        "id": "IOPpjPvYXNXO"
      },
      "execution_count": null,
      "outputs": []
    },
    {
      "cell_type": "markdown",
      "source": [
        "## Validar o modelo identificado"
      ],
      "metadata": {
        "id": "9pW9SPRIXXsa"
      }
    },
    {
      "cell_type": "code",
      "source": [
        "# Implementar o modelo\n",
        "s = ct.tf('s')\n",
        "Gtd = ct.tf(*ct.pade(theta,5,3))\n",
        "Gp = Kp/(tau*s+1)*Gtd\n",
        "\n",
        "# Testar o modelo na mesma condição dos dados\n",
        "tval, yval = ct.step_response(Gp,T=t)\n",
        "Tval = Delta_Ps*yval + T_2m[0]\n",
        "print('Qualidade do modelo -> R-quadrado = %1.2f' %r2_score(T_2m, Tval) )\n",
        "\n",
        "yval,tval = ct.step_response(Gp,T=t[-1])\n",
        "plt.plot(tval, Delta_Ps*yval + T_2m[0] , label='valor predito')\n",
        "\n",
        "plt.xlabel('tempo, min')\n",
        "plt.ylabel(r'$T_{2m}$, mA')\n",
        "plt.legend()\n",
        "plt.tight_layout()\n",
        "plt.show()"
      ],
      "metadata": {
        "id": "P1pfbJyYXela"
      },
      "execution_count": null,
      "outputs": []
    },
    {
      "cell_type": "markdown",
      "source": [
        "# Ajuste dos parâmetros do controlador"
      ],
      "metadata": {
        "id": "AMuPnXQy4oA9"
      }
    },
    {
      "cell_type": "code",
      "source": [
        "# Sistema a ser controlado\n",
        "Kv = 0.9\n",
        "Kip = 0.75\n",
        "G = Kv*Kip*Gp # Gtil\n",
        "K = G.dcgain()\n",
        "print('\\nSistema: K = %1.3f  tau = %1.3f  theta = %1.3f' %(K, tau, theta))\n",
        "\n",
        "\n",
        "# sintonia IMC\n",
        "tau_c = theta # Skogestad\n",
        "\n",
        "# Sintonias dos controladores\n",
        "## IMC\n",
        "\n",
        "## ITAE\n",
        "\n",
        "\n",
        "# Simulação da malha fechada\n",
        "\n"
      ],
      "metadata": {
        "id": "WmncS9Hu40P4"
      },
      "execution_count": 12,
      "outputs": []
    },
    {
      "cell_type": "markdown",
      "source": [
        "# Análise dos resultados"
      ],
      "metadata": {
        "id": "FZHOwzw7Zby6"
      }
    },
    {
      "cell_type": "markdown",
      "source": [],
      "metadata": {
        "id": "8khn3r-7ZiPg"
      }
    }
  ]
}
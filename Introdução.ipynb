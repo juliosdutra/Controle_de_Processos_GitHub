{
  "nbformat": 4,
  "nbformat_minor": 0,
  "metadata": {
    "colab": {
      "provenance": [],
      "toc_visible": true
    },
    "kernelspec": {
      "name": "python3",
      "display_name": "Python 3"
    },
    "language_info": {
      "name": "python"
    }
  },
  "cells": [
    {
      "cell_type": "markdown",
      "source": [
        "# Controle de Processos\n"
      ],
      "metadata": {
        "id": "FM_7gftjPtds"
      }
    },
    {
      "cell_type": "markdown",
      "source": [
        "# Simulação de um processo: reator CSTR"
      ],
      "metadata": {
        "id": "6dNOFPHNPzmv"
      }
    },
    {
      "cell_type": "code",
      "execution_count": null,
      "metadata": {
        "id": "KIZpdYyiPsu1"
      },
      "outputs": [],
      "source": []
    },
    {
      "cell_type": "markdown",
      "source": [
        "# Linearização automática de um modelo não linear"
      ],
      "metadata": {
        "id": "gMkAnth-P5Bt"
      }
    },
    {
      "cell_type": "code",
      "source": [],
      "metadata": {
        "id": "Oq-3PRDnP-b0"
      },
      "execution_count": null,
      "outputs": []
    }
  ]
}
{
  "cells": [
    {
      "cell_type": "markdown",
      "metadata": {
        "id": "FM_7gftjPtds"
      },
      "source": [
        "# Controle de Processos\n"
      ]
    },
    {
      "cell_type": "markdown",
      "metadata": {},
      "source": [
        "Com o objetivo de aplicar os conceitos da disciplina de Controle de Processos, é proposta a realização de uma série de atividades aplicadas a exemplos da Engenharia Química ou de áreas afins. Isto é feito no intuito de desenvolver habilidades computacionais essenciais para o uso de software de computador para ajudar a descrever e projetar sistemas de controle, importantes também para as áreas de modelagem e simulação.\n",
        "A partir da literatura, será selecionado um exemplo com modelagem matemática fenomenológica com dinâmica no tempo, bem como o conjunto de parâmetros necessários para a simulação. Para não elevar a complexidade de implementação computacional dos modelos, será escolhido um modelo com parâmetros concentrados. Uma cópia do trabalho selecionado será compartilhada na sala virtual.\n",
        "No contexto de ensino-aprendizagem remoto emergencial (EARTE), o desenvolvimento das atividades práticas da disciplina poderá ser executado em grupos, cujos resultados serão entregues por escrito na forma de um relatório.\n",
        "\n",
        "Serão trabalhadas as seguintes atividades:\n",
        "a)\tImplementação de modelo matemático\n",
        "b)\tLinearização do modelo não lineares\n",
        "c)\tObtenção de funções de transferência\n",
        "d)\tAnálise do processo (ordem, polos, zeros, ...)\n",
        "e)\tProjeto de controladores e sintonia\n",
        "f)\tSimulação computacional - em malha fechada, com testes regulador e servo\n",
        "\n",
        "Esses conteúdos serão desenvolvidos em Python. Esta linguagem de programação ganhou notoriedade na área de Ciência de Dados, mas também tem tido preferência como plataforma de solução de problemas de engenharia. Existem diversas opções de ambientes para desenvolvimento em Python, sendo que a plataforma mais popular hoje é a Anaconda. Ela contém ferramentas importantes como o Spyder (que é um ambiente para programar em Python), além de um conjunto enorme de pacotes populares já instalados (numpy, scipy, matlibplot, etc). Por isso, é necessário que os alunos façam o download da plataforma Anaconda em seus computadores a partir do site www.anaconda.com/, e procedam a instalação que é muito simples. \n"
      ]
    },
    {
      "cell_type": "markdown",
      "metadata": {
        "id": "6dNOFPHNPzmv"
      },
      "source": [
        "# Simulação de um processo: reator CSTR"
      ]
    },
    {
      "cell_type": "code",
      "execution_count": null,
      "metadata": {
        "id": "KIZpdYyiPsu1"
      },
      "outputs": [],
      "source": []
    },
    {
      "cell_type": "markdown",
      "metadata": {
        "id": "gMkAnth-P5Bt"
      },
      "source": [
        "# Linearização automática de um modelo não linear"
      ]
    },
    {
      "cell_type": "code",
      "execution_count": null,
      "metadata": {
        "id": "Oq-3PRDnP-b0"
      },
      "outputs": [],
      "source": []
    }
  ],
  "metadata": {
    "colab": {
      "provenance": [],
      "toc_visible": true
    },
    "kernelspec": {
      "display_name": "Python 3",
      "name": "python3"
    },
    "language_info": {
      "name": "python"
    }
  },
  "nbformat": 4,
  "nbformat_minor": 0
}

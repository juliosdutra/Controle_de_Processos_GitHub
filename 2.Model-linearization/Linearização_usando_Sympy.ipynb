{
  "nbformat": 4,
  "nbformat_minor": 0,
  "metadata": {
    "colab": {
      "provenance": [],
      "authorship_tag": "ABX9TyMe+yxxUdXszv+ZCGizyfrY",
      "include_colab_link": true
    },
    "kernelspec": {
      "name": "python3",
      "display_name": "Python 3"
    },
    "language_info": {
      "name": "python"
    }
  },
  "cells": [
    {
      "cell_type": "markdown",
      "metadata": {
        "id": "view-in-github",
        "colab_type": "text"
      },
      "source": [
        "<a href=\"https://colab.research.google.com/github/juliosdutra/Controle_de_Processos_UFES/blob/main/2.Model-linearization/Lineariza%C3%A7%C3%A3o_usando_Sympy.ipynb\" target=\"_parent\"><img src=\"https://colab.research.google.com/assets/colab-badge.svg\" alt=\"Open In Colab\"/></a>"
      ]
    },
    {
      "cell_type": "markdown",
      "source": [
        "<left><img src=\"https://github.com/juliosdutra/Controle_de_Processos_UFES/blob/main/imagens/cabe%C3%A7alho-geral.jpg?raw=true\" width=\"700\" height=\"175\">\n",
        "</left>"
      ],
      "metadata": {
        "id": "87SKPhrYYZmD"
      }
    },
    {
      "cell_type": "markdown",
      "source": [
        "**Resolução de parte do exercício nº 3 da Lista 2**\n",
        "\n",
        "A Questão 3 da Lista 2 trata do descarte de um poluente somente se o efluente apresentar no máximo $5~\\mathrm{ppm}$. Para alcançar esse objetivo, um reator agitado é empregado. Esse reator opera com volume, densidade e temperatura constantes, sendo regido pelo seguinte modelo dinâmico:\n",
        "\n",
        "$$ \\frac{dCa}{dt} = D(t)\\cdot[Ca_{f}(t)-Ca] - Ra $$\n",
        "\n",
        "O poluente é alimentado com taxa de diluição D e concentração Caf e tem a seguinte taxa de reação: $$Ra = 15Ca/(1+0.1Ca)~\\mathrm{[ppm\\cdot h^{-1}]}$$\n",
        "\n",
        "A condição estacionária é dada por $D_s=4.95~\\mathrm{h^{-1}}$, $Ca_{f,s}=10 ~\\mathrm{ppm}$ e $Ca_s=3.0~\\mathrm{ppm}$.\n",
        "\n",
        "Nesse contexto, o desafio consiste em determinar o modelo linear usando variáveis-desvio."
      ],
      "metadata": {
        "id": "mfxFHjxNJLyE"
      }
    },
    {
      "cell_type": "markdown",
      "source": [
        "O módulo *sympy* é uma biblioteca poderosa para manipulação simbólica e cálculos matemáticos em Python. Aqui está um exemplo de como você pode usar o *sympy* para linearizar o modelo em variáveis-desvio:"
      ],
      "metadata": {
        "id": "cI8BVFJeempY"
      }
    },
    {
      "cell_type": "code",
      "source": [
        "import sympy as sp\n",
        "\n",
        "# Definindo as variáveis simbólicas\n",
        "D, Caf, Ca = sp.symbols('D Caf Ca')\n",
        "\n",
        "# Definindo a taxa de reação\n",
        "Ra = 15 * Ca / (1 + 0.1 * Ca)\n",
        "\n",
        "# Definindo a função do modelo dinâmico\n",
        "f_nao_linear = D*(Caf-Ca) - Ra\n",
        "f_nao_linear"
      ],
      "metadata": {
        "colab": {
          "base_uri": "https://localhost:8080/",
          "height": 53
        },
        "id": "qz7BCjiTqRYO",
        "outputId": "24a7d09b-d2a6-4916-85ba-0ba59d2ef262"
      },
      "execution_count": 12,
      "outputs": [
        {
          "output_type": "execute_result",
          "data": {
            "text/plain": [
              "-15*Ca/(0.1*Ca + 1) + D*(-Ca + Caf)"
            ],
            "text/latex": "$\\displaystyle - \\frac{15 Ca}{0.1 Ca + 1} + D \\left(- Ca + Caf\\right)$"
          },
          "metadata": {},
          "execution_count": 12
        }
      ]
    },
    {
      "cell_type": "code",
      "source": [
        "# Dicionário com a condição estacionária (ponto de equilíbrio)\n",
        "nominal = {Ca: 3, D: 4.95, Caf: 10}"
      ],
      "metadata": {
        "id": "d_JXGORurVT8"
      },
      "execution_count": 13,
      "outputs": []
    },
    {
      "cell_type": "code",
      "source": [
        "# Derivada de f em relação a Ca\n",
        "f_nao_linear.diff(Ca).simplify()"
      ],
      "metadata": {
        "colab": {
          "base_uri": "https://localhost:8080/",
          "height": 58
        },
        "id": "JN9P-Av3qXOt",
        "outputId": "6028f345-ca56-406f-aa83-9e48e65bc989"
      },
      "execution_count": 14,
      "outputs": [
        {
          "output_type": "execute_result",
          "data": {
            "text/plain": [
              "-D - 15/(0.1*Ca + 1)**2"
            ],
            "text/latex": "$\\displaystyle - D - \\frac{15}{\\left(0.1 Ca + 1\\right)^{2}}$"
          },
          "metadata": {},
          "execution_count": 14
        }
      ]
    },
    {
      "cell_type": "code",
      "source": [
        "# Derivada de f em relação a D\n",
        "f_nao_linear.diff(D).simplify()"
      ],
      "metadata": {
        "colab": {
          "base_uri": "https://localhost:8080/",
          "height": 39
        },
        "id": "tMbwRiruq-Yu",
        "outputId": "237bcb9f-ca62-4e75-afec-97a75edf8280"
      },
      "execution_count": 15,
      "outputs": [
        {
          "output_type": "execute_result",
          "data": {
            "text/plain": [
              "-Ca + Caf"
            ],
            "text/latex": "$\\displaystyle - Ca + Caf$"
          },
          "metadata": {},
          "execution_count": 15
        }
      ]
    },
    {
      "cell_type": "code",
      "source": [
        "# Derivada de f em relação a Caf\n",
        "f_nao_linear.diff(Caf).simplify()"
      ],
      "metadata": {
        "colab": {
          "base_uri": "https://localhost:8080/",
          "height": 39
        },
        "id": "yyVxHhqprJdh",
        "outputId": "06e3889c-c051-48f4-917a-8ceda2244052"
      },
      "execution_count": 16,
      "outputs": [
        {
          "output_type": "execute_result",
          "data": {
            "text/plain": [
              "D"
            ],
            "text/latex": "$\\displaystyle D$"
          },
          "metadata": {},
          "execution_count": 16
        }
      ]
    },
    {
      "cell_type": "code",
      "source": [
        "# Calculando o valor das derivadas no ponto nominal\n",
        "f_Cas =  f_nao_linear.diff(Ca).subs(nominal)\n",
        "f_Cafs =  f_nao_linear.diff(Caf).subs(nominal)\n",
        "f_Ds =  f_nao_linear.diff(D).subs(nominal)"
      ],
      "metadata": {
        "id": "7QP_iZZaKjls"
      },
      "execution_count": 17,
      "outputs": []
    },
    {
      "cell_type": "code",
      "source": [
        "# Expressão de f linearizada\n",
        "f_linear = f_Cas*Ca + f_Cafs*Caf + f_Ds*D\n",
        "f_linear"
      ],
      "metadata": {
        "colab": {
          "base_uri": "https://localhost:8080/",
          "height": 39
        },
        "id": "JPYVwj8jK7qs",
        "outputId": "b2edaf9f-ba76-4ef6-b811-050c274ec4c9"
      },
      "execution_count": 18,
      "outputs": [
        {
          "output_type": "execute_result",
          "data": {
            "text/plain": [
              "-13.8257396449704*Ca + 4.95*Caf + 7*D"
            ],
            "text/latex": "$\\displaystyle - 13.8257396449704 Ca + 4.95 Caf + 7 D$"
          },
          "metadata": {},
          "execution_count": 18
        }
      ]
    },
    {
      "cell_type": "markdown",
      "source": [
        "A partir deste ponto, pode-se escrever que\n",
        "\n",
        "$$ \\frac{dCa}{dt}  = -13.826 Ca + 4.95 Caf + 7 D $$\n",
        "\n",
        "Na forma padrão:\n",
        "\n",
        "\\begin{align*}\n",
        "&\\frac{dCa}{dt} +13.826 Ca =  4.95 Caf + 7 D \\\\ \\\\\n",
        "&\\frac{1}{13.826} \\frac{dCa}{dt} + Ca =  \\frac{4.95}{13.826} Caf + \\frac{7}{13.826} D\n",
        "\\end{align*}\n",
        "<br>\n",
        "<br>\n",
        "Finalmente, em termo de variáveis-desvio, o modelo linearizado é:\n",
        "<br>\n",
        "<br>\n",
        "\\begin{align*}\n",
        "&0.072 \\frac{dCa}{dt} + Ca = 0.358 Caf + 0.506 D \\\\ \\\\\n",
        "&Ca(0) = 0\n",
        "\\end{align*}"
      ],
      "metadata": {
        "id": "TnQO6UMTLIlM"
      }
    },
    {
      "cell_type": "markdown",
      "source": [
        "Agora o mesmo exercício será resolvido usando a função \"linearize\" do pacote *control*.\n"
      ],
      "metadata": {
        "id": "AJCkIoN-9zEe"
      }
    },
    {
      "cell_type": "code",
      "source": [
        "! pip install -qq control"
      ],
      "metadata": {
        "id": "pawjYkGVfq-f"
      },
      "execution_count": 19,
      "outputs": []
    },
    {
      "cell_type": "code",
      "source": [
        "import control as ct\n",
        "from control import linearize"
      ],
      "metadata": {
        "id": "muxUtQu4-UAW"
      },
      "execution_count": 20,
      "outputs": []
    },
    {
      "cell_type": "code",
      "source": [
        "def processo(t,x,u, params={}):\n",
        "\n",
        "    '''modelo de um reator agitado.'''\n",
        "\n",
        "    # variáveis de estado\n",
        "    Ca = x\n",
        "\n",
        "    # variáveis de entrada\n",
        "    Caf, D = u\n",
        "\n",
        "    # equação do modelo\n",
        "    Ra = 15*Ca/(1+0.1*Ca)\n",
        "    dCa = D*(Caf-Ca) - Ra\n",
        "\n",
        "    # saida do modelo\n",
        "    return dCa"
      ],
      "metadata": {
        "id": "A7eo39Co-Yg9"
      },
      "execution_count": 28,
      "outputs": []
    },
    {
      "cell_type": "code",
      "source": [
        "# Instanciar o sistema I/O\n",
        "reator = ct.NonlinearIOSystem(\n",
        "            processo,\n",
        "            outfcn = None,\n",
        "            states = ('Ca'),\n",
        "            inputs = ('Caf', 'D'),\n",
        "            outputs = None)"
      ],
      "metadata": {
        "id": "uxzcha2w-4X9"
      },
      "execution_count": 29,
      "outputs": []
    },
    {
      "cell_type": "code",
      "source": [
        "# Variáveis de entrada\n",
        "Caf0 = 10.0 # Vazão de alimentação\n",
        "D0 = 4.95 # Substrato na alimentação\n",
        "\n",
        "# Variáveis de estado\n",
        "Ca0 = 3.0\n",
        "\n",
        "# condição inicial (ponto estacionário)\n",
        "xs = [Ca0]\n",
        "us = [Caf0, D0]\n",
        "\n",
        "reator_linear = linearize(reator, xeq=xs, ueq=us)\n",
        "\n",
        "reator_linear"
      ],
      "metadata": {
        "id": "OyxY4tgG_GPW",
        "outputId": "4cfd88db-23cc-4b30-a50d-3de2ed1fbb84",
        "colab": {
          "base_uri": "https://localhost:8080/",
          "height": 58
        }
      },
      "execution_count": 30,
      "outputs": [
        {
          "output_type": "execute_result",
          "data": {
            "text/plain": [
              "StateSpace(array([[-13.82573896]]), array([[4.95, 7.  ]]), array([[1.]]), array([[0., 0.]]))"
            ],
            "text/latex": "$$\n\\left(\\begin{array}{rll|rllrll}\n-13.&\\hspace{-1em}8&\\hspace{-1em}\\phantom{\\cdot}&4.&\\hspace{-1em}95&\\hspace{-1em}\\phantom{\\cdot}&7\\phantom{.}&\\hspace{-1em}&\\hspace{-1em}\\phantom{\\cdot}\\\\\n\\hline\n1\\phantom{.}&\\hspace{-1em}&\\hspace{-1em}\\phantom{\\cdot}&0\\phantom{.}&\\hspace{-1em}&\\hspace{-1em}\\phantom{\\cdot}&0\\phantom{.}&\\hspace{-1em}&\\hspace{-1em}\\phantom{\\cdot}\\\\\n\\end{array}\\right)\n$$"
          },
          "metadata": {},
          "execution_count": 30
        }
      ]
    },
    {
      "cell_type": "code",
      "source": [
        "print(reator_linear.A, reator_linear.B)"
      ],
      "metadata": {
        "id": "0evbBL8EApkl",
        "outputId": "9082dc3f-22a3-4e8a-8a66-15ec95ce5218",
        "colab": {
          "base_uri": "https://localhost:8080/"
        }
      },
      "execution_count": 31,
      "outputs": [
        {
          "output_type": "stream",
          "name": "stdout",
          "text": [
            "[[-13.82573896]] [[4.95 7.  ]]\n"
          ]
        }
      ]
    },
    {
      "cell_type": "markdown",
      "source": [
        "A partir do resultado em espaço de estados, pode-se escrever a equação do modelo linerizado na seguinte forma:\n",
        "\n",
        "$$\\frac{dCa}{dt} = -13.825 Ca + 4.95 Ca_f + 7 D$$\n",
        "\n",
        "o qual também pode ser colocado na forma padrão como feito na resolução anterior. Em termos de variáveis-desvio, o modelo linear é dado por:\n",
        "\n",
        "\\begin{align*}\n",
        "  &0.072 \\frac{dCa}{dt} + Ca = 0.358 Caf + 0.506 D \\\\ \\\\\n",
        "  &Ca(0) = 0\n",
        "\\end{align*}"
      ],
      "metadata": {
        "id": "8w6N0m8fAZZ1"
      }
    },
    {
      "cell_type": "code",
      "source": [],
      "metadata": {
        "id": "hvu107fQ_2Ig"
      },
      "execution_count": 23,
      "outputs": []
    }
  ]
}
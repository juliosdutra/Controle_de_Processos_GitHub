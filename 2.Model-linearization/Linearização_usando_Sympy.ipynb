{
  "nbformat": 4,
  "nbformat_minor": 0,
  "metadata": {
    "colab": {
      "provenance": [],
      "authorship_tag": "ABX9TyNePhlAs5hOoOHjfNKMkaf6",
      "include_colab_link": true
    },
    "kernelspec": {
      "name": "python3",
      "display_name": "Python 3"
    },
    "language_info": {
      "name": "python"
    }
  },
  "cells": [
    {
      "cell_type": "markdown",
      "metadata": {
        "id": "view-in-github",
        "colab_type": "text"
      },
      "source": [
        "<a href=\"https://colab.research.google.com/github/juliosdutra/Controle_de_Processos_UFES/blob/main/2.Model-linearization/Lineariza%C3%A7%C3%A3o_usando_Sympy.ipynb\" target=\"_parent\"><img src=\"https://colab.research.google.com/assets/colab-badge.svg\" alt=\"Open In Colab\"/></a>"
      ]
    },
    {
      "cell_type": "markdown",
      "source": [
        "<left><img src=\"https://github.com/juliosdutra/Controle_de_Processos_UFES/blob/main/imagens/cabe%C3%A7alho-geral.jpg?raw=true\" width=\"700\" height=\"175\">\n",
        "</left>"
      ],
      "metadata": {
        "id": "87SKPhrYYZmD"
      }
    },
    {
      "cell_type": "markdown",
      "source": [
        "**Resolução de parte do exercício nº 3 da Lista 2**\n",
        "\n",
        "A Questão 3 da Lista 2 trata do descarte de um poluente somente se o efluente apresentar no máximo $5~\\mathrm{ppm}$. Para alcançar esse objetivo, um reator agitado é empregado. Esse reator opera com volume, densidade e temperatura constantes, sendo regido pelo seguinte modelo dinâmico:\n",
        "\n",
        "$$ \\frac{dCa}{dt} = D(t)\\cdot[Ca_{f}(t)-Ca] - Ra $$\n",
        "\n",
        "O poluente é alimentado com taxa de diluição D e concentração Caf e tem a seguinte taxa de reação: $$Ra = 15Ca/(1+0.1Ca)~\\mathrm{[ppm\\cdot h^{-1}]}$$\n",
        "\n",
        "A condição estacionária é dada por $D_s=4.95~\\mathrm{h^{-1}}$, $Ca_{f,s}=10 ~\\mathrm{ppm}$ e $Ca_s=3.0~\\mathrm{ppm}$.\n",
        "\n",
        "Nesse contexto, o desafio consiste em determinar o modelo linear usando variáveis-desvio."
      ],
      "metadata": {
        "id": "mfxFHjxNJLyE"
      }
    },
    {
      "cell_type": "markdown",
      "source": [
        "O módulo *sympy* é uma biblioteca poderosa para manipulação simbólica e cálculos matemáticos em Python. Aqui está um exemplo de como você pode usar o *sympy* para linearizar o modelo em variáveis-desvio:"
      ],
      "metadata": {
        "id": "cI8BVFJeempY"
      }
    },
    {
      "cell_type": "code",
      "source": [
        "import sympy as sp\n",
        "\n",
        "# Definindo as variáveis simbólicas\n",
        "D, Caf, Ca = sp.symbols('D Caf Ca')\n",
        "\n",
        "# Definindo a taxa de reação\n",
        "Ra = 15 * Ca / (1 + 0.1 * Ca)\n",
        "\n",
        "# Definindo a função do modelo dinâmico\n",
        "f_nao_linear = D*(Caf-Ca) - Ra\n",
        "f_nao_linear"
      ],
      "metadata": {
        "colab": {
          "base_uri": "https://localhost:8080/",
          "height": 53
        },
        "id": "qz7BCjiTqRYO",
        "outputId": "9579d130-f0d8-475b-c51a-41beab38d1b0"
      },
      "execution_count": null,
      "outputs": [
        {
          "output_type": "execute_result",
          "data": {
            "text/plain": [
              "-15*Ca/(0.1*Ca + 1) + D*(-Ca + Caf)"
            ],
            "text/latex": "$\\displaystyle - \\frac{15 Ca}{0.1 Ca + 1} + D \\left(- Ca + Caf\\right)$"
          },
          "metadata": {},
          "execution_count": 17
        }
      ]
    },
    {
      "cell_type": "code",
      "source": [
        "# Dicionário com a condição estacionária (ponto de equilíbrio)\n",
        "nominal = {Ca: 3, D: 4.95, Caf: 10}"
      ],
      "metadata": {
        "id": "d_JXGORurVT8"
      },
      "execution_count": null,
      "outputs": []
    },
    {
      "cell_type": "code",
      "source": [
        "# Derivada de f em relação a Ca\n",
        "f_nao_linear.diff(Ca).simplify()"
      ],
      "metadata": {
        "colab": {
          "base_uri": "https://localhost:8080/",
          "height": 58
        },
        "id": "JN9P-Av3qXOt",
        "outputId": "7f859eb3-b6c5-4606-85b2-8abd2b988976"
      },
      "execution_count": null,
      "outputs": [
        {
          "output_type": "execute_result",
          "data": {
            "text/plain": [
              "-D - 15/(0.1*Ca + 1)**2"
            ],
            "text/latex": "$\\displaystyle - D - \\frac{15}{\\left(0.1 Ca + 1\\right)^{2}}$"
          },
          "metadata": {},
          "execution_count": 19
        }
      ]
    },
    {
      "cell_type": "code",
      "source": [
        "# Derivada de f em relação a D\n",
        "f_nao_linear.diff(D).simplify()"
      ],
      "metadata": {
        "colab": {
          "base_uri": "https://localhost:8080/",
          "height": 38
        },
        "id": "tMbwRiruq-Yu",
        "outputId": "d68bade4-6d06-4e72-c3fa-b18539219944"
      },
      "execution_count": null,
      "outputs": [
        {
          "output_type": "execute_result",
          "data": {
            "text/plain": [
              "-Ca + Caf"
            ],
            "text/latex": "$\\displaystyle - Ca + Caf$"
          },
          "metadata": {},
          "execution_count": 20
        }
      ]
    },
    {
      "cell_type": "code",
      "source": [
        "# Derivada de f em relação a Caf\n",
        "f_nao_linear.diff(Caf).simplify()"
      ],
      "metadata": {
        "colab": {
          "base_uri": "https://localhost:8080/",
          "height": 38
        },
        "id": "yyVxHhqprJdh",
        "outputId": "98109e2e-b39d-415d-c229-157f1f1e9588"
      },
      "execution_count": null,
      "outputs": [
        {
          "output_type": "execute_result",
          "data": {
            "text/plain": [
              "D"
            ],
            "text/latex": "$\\displaystyle D$"
          },
          "metadata": {},
          "execution_count": 21
        }
      ]
    },
    {
      "cell_type": "code",
      "source": [
        "# Calculando o valor das derivadas no ponto nominal\n",
        "f_Cas =  f_nao_linear.diff(Ca).subs(nominal)\n",
        "f_Cafs =  f_nao_linear.diff(Caf).subs(nominal)\n",
        "f_Ds =  f_nao_linear.diff(D).subs(nominal)"
      ],
      "metadata": {
        "id": "7QP_iZZaKjls"
      },
      "execution_count": null,
      "outputs": []
    },
    {
      "cell_type": "code",
      "source": [
        "# Expressão de f linearizada\n",
        "f_linear = f_Cas*Ca + f_Cafs*Caf + f_Ds*D\n",
        "f_linear"
      ],
      "metadata": {
        "colab": {
          "base_uri": "https://localhost:8080/",
          "height": 38
        },
        "id": "JPYVwj8jK7qs",
        "outputId": "570417eb-73cf-4c74-f223-d8a6e4f8a3a3"
      },
      "execution_count": null,
      "outputs": [
        {
          "output_type": "execute_result",
          "data": {
            "text/plain": [
              "-13.8257396449704*Ca + 4.95*Caf + 7*D"
            ],
            "text/latex": "$\\displaystyle - 13.8257396449704 Ca + 4.95 Caf + 7 D$"
          },
          "metadata": {},
          "execution_count": 23
        }
      ]
    },
    {
      "cell_type": "markdown",
      "source": [
        "A partir deste ponto, pode-se escrever que\n",
        "\n",
        "$$ \\frac{dCa}{dt}  = -13.826 Ca + 4.95 Caf + 7 D $$\n",
        "\n",
        "Na forma padrão:\n",
        "\n",
        "\\begin{align*}\n",
        "&\\frac{dCa}{dt} +13.826 Ca =  4.95 Caf + 7 D \\\\ \\\\\n",
        "&\\frac{1}{13.826} \\frac{dCa}{dt} + Ca =  \\frac{4.95}{13.826} Caf + \\frac{7}{13.826} D\n",
        "\\end{align*}\n",
        "<br>\n",
        "<br>\n",
        "Finalmente, em termo de variáveis-desvio, o modelo linearizado é:\n",
        "<br>\n",
        "<br>\n",
        "\\begin{align*}\n",
        "&0.072 \\frac{dCa}{dt} + Ca = 0.358 Caf + 0.506 D \\\\ \\\\\n",
        "&Ca(0) = 0\n",
        "\\end{align*}"
      ],
      "metadata": {
        "id": "TnQO6UMTLIlM"
      }
    },
    {
      "cell_type": "code",
      "source": [],
      "metadata": {
        "id": "pawjYkGVfq-f"
      },
      "execution_count": null,
      "outputs": []
    }
  ]
}
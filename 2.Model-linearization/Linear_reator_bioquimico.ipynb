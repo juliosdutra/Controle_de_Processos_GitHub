{
  "nbformat": 4,
  "nbformat_minor": 0,
  "metadata": {
    "colab": {
      "provenance": [],
      "authorship_tag": "ABX9TyPD5QvTs2DAccSgLtv1jM9R",
      "include_colab_link": true
    },
    "kernelspec": {
      "name": "python3",
      "display_name": "Python 3"
    },
    "language_info": {
      "name": "python"
    }
  },
  "cells": [
    {
      "cell_type": "markdown",
      "metadata": {
        "id": "view-in-github",
        "colab_type": "text"
      },
      "source": [
        "<a href=\"https://colab.research.google.com/github/juliosdutra/Controle_de_Processos_UFES/blob/main/2.Model-linearization/Linear_reator_bioquimico.ipynb\" target=\"_parent\"><img src=\"https://colab.research.google.com/assets/colab-badge.svg\" alt=\"Open In Colab\"/></a>"
      ]
    },
    {
      "cell_type": "markdown",
      "source": [
        "# 1. Instalar o pacote python-control.\n"
      ],
      "metadata": {
        "id": "0iaRd7QGTjCg"
      }
    },
    {
      "cell_type": "code",
      "execution_count": 1,
      "metadata": {
        "id": "wTsMmg76TQ7D",
        "outputId": "fb3f9067-35ca-4478-b4de-936e8ffbc2db",
        "colab": {
          "base_uri": "https://localhost:8080/"
        }
      },
      "outputs": [
        {
          "output_type": "stream",
          "name": "stdout",
          "text": [
            "\u001b[?25l   \u001b[90m━━━━━━━━━━━━━━━━━━━━━━━━━━━━━━━━━━━━━━━━\u001b[0m \u001b[32m0.0/549.6 kB\u001b[0m \u001b[31m?\u001b[0m eta \u001b[36m-:--:--\u001b[0m\r\u001b[2K   \u001b[91m━━━━━━━━━━━━━━━━━━━━━━━━━━━━━━━━━━━━━━━\u001b[0m\u001b[90m╺\u001b[0m \u001b[32m542.7/549.6 kB\u001b[0m \u001b[31m18.2 MB/s\u001b[0m eta \u001b[36m0:00:01\u001b[0m\r\u001b[2K   \u001b[90m━━━━━━━━━━━━━━━━━━━━━━━━━━━━━━━━━━━━━━━━\u001b[0m \u001b[32m549.6/549.6 kB\u001b[0m \u001b[31m11.0 MB/s\u001b[0m eta \u001b[36m0:00:00\u001b[0m\n",
            "\u001b[?25h"
          ]
        }
      ],
      "source": [
        "! pip install -qq control"
      ]
    },
    {
      "cell_type": "markdown",
      "source": [
        "# 2. Importar o pacote control e demais bibliotecas."
      ],
      "metadata": {
        "id": "9_Wj_raOTtAX"
      }
    },
    {
      "cell_type": "code",
      "source": [
        "import numpy as np\n",
        "from scipy import linalg\n",
        "import control as ct\n",
        "from control import linearize"
      ],
      "metadata": {
        "id": "tAieU_f0TvmA"
      },
      "execution_count": 2,
      "outputs": []
    },
    {
      "cell_type": "markdown",
      "source": [
        "# 3. Implementar o modelo do processo e de observação.\n"
      ],
      "metadata": {
        "id": "Wn4bcaZGTziP"
      }
    },
    {
      "cell_type": "code",
      "source": [
        "def biorreator(t,x,u, params={}):\n",
        "\n",
        "    '''modelo de um biorreator operando em batelada alimentada.'''\n",
        "\n",
        "    # parametros do modelo\n",
        "    mu_max = 0.20\n",
        "    KS = 1.0\n",
        "    Yxs = 0.5\n",
        "    Ypx = 0.2\n",
        "\n",
        "    # variáveis de estado\n",
        "    X, P, S, V = x\n",
        "\n",
        "    # variáveis de entrada\n",
        "    Sf, F = u\n",
        "\n",
        "    # equações constitutivas\n",
        "    mu = mu_max*S/(KS+S)\n",
        "    rg = mu*X\n",
        "    rp = Ypx*rg\n",
        "\n",
        "    # equações do modelo\n",
        "    dV = F\n",
        "    dX = (V*rg - dV*X)/V\n",
        "    dP = (V*rp-dV*P)/V\n",
        "    dS = (F*Sf - V*rg/Yxs - dV*S)/V\n",
        "\n",
        "    # saida do modelo\n",
        "    return [dX,dP,dS,dV]\n",
        "\n",
        "def medida(t, x, u, params={}):\n",
        "\n",
        "    '''Função de medida'''\n",
        "    return x"
      ],
      "metadata": {
        "id": "0JPfp7YwT1mp"
      },
      "execution_count": 3,
      "outputs": []
    },
    {
      "cell_type": "markdown",
      "source": [
        "# 4. Instanciar o modelo implementado.\n"
      ],
      "metadata": {
        "id": "SGRohQ1RUBMg"
      }
    },
    {
      "cell_type": "code",
      "source": [
        "# Instanciar o sistema I/O\n",
        "reator = ct.NonlinearIOSystem(\n",
        "            biorreator,\n",
        "            outfcn = medida,\n",
        "            states = ('X','P', 'S', 'V'),\n",
        "            inputs = ('Sf','F'),\n",
        "            outputs = ('X','P', 'S', 'V'))"
      ],
      "metadata": {
        "id": "H8i2D0ntUCC3"
      },
      "execution_count": 4,
      "outputs": []
    },
    {
      "cell_type": "markdown",
      "source": [
        "# 5. Linearizar o modelo instanciado."
      ],
      "metadata": {
        "id": "bIy5NXDBUS6A"
      }
    },
    {
      "cell_type": "code",
      "source": [
        "# Variáveis de entrada\n",
        "Sf0 = 10.0 # Substrato na alimentação\n",
        "F0 = 0.05 # Vazão de alimentação\n",
        "\n",
        "# Variáveis de estado\n",
        "X0 = 0.05\n",
        "S0 = 10.0\n",
        "P0 = 0.0\n",
        "V0 = 1.0\n",
        "\n",
        "# condição inicial (ponto estacionário)\n",
        "xs = [X0, P0, S0, V0]\n",
        "us = [Sf0, F0]\n",
        "\n",
        "reator_linear = linearize(reator, xeq=xs, ueq=us)"
      ],
      "metadata": {
        "id": "QZ-ZE9UBUVRI",
        "outputId": "e8762aef-a94c-41b9-d478-f2c197e1f581",
        "colab": {
          "base_uri": "https://localhost:8080/",
          "height": 180
        }
      },
      "execution_count": 8,
      "outputs": [
        {
          "output_type": "execute_result",
          "data": {
            "text/plain": [
              "StateSpace(array([[ 1.31818182e-01,  0.00000000e+00,  8.26446203e-05,\n",
              "         2.49999750e-03],\n",
              "       [ 3.63636364e-02, -5.00000000e-02,  1.65289241e-05,\n",
              "         0.00000000e+00],\n",
              "       [-3.63636364e-01,  0.00000000e+00, -5.01652893e-02,\n",
              "         1.73472348e-11],\n",
              "       [ 0.00000000e+00,  0.00000000e+00,  0.00000000e+00,\n",
              "         0.00000000e+00]]), array([[ 0.  , -0.05],\n",
              "       [ 0.  ,  0.  ],\n",
              "       [ 0.05,  0.  ],\n",
              "       [ 0.  ,  1.  ]]), array([[1., 0., 0., 0.],\n",
              "       [0., 1., 0., 0.],\n",
              "       [0., 0., 1., 0.],\n",
              "       [0., 0., 0., 1.]]), array([[0., 0.],\n",
              "       [0., 0.],\n",
              "       [0., 0.],\n",
              "       [0., 0.]]))"
            ],
            "text/latex": "$$\n\\left(\\begin{array}{rllrllrllrll|rllrll}\n0.&\\hspace{-1em}132&\\hspace{-1em}\\phantom{\\cdot}&0\\phantom{.}&\\hspace{-1em}&\\hspace{-1em}\\phantom{\\cdot}&8.&\\hspace{-1em}26&\\hspace{-1em}\\cdot10^{-5}&0.&\\hspace{-1em}0025&\\hspace{-1em}\\phantom{\\cdot}&0\\phantom{.}&\\hspace{-1em}&\\hspace{-1em}\\phantom{\\cdot}&-0.&\\hspace{-1em}05&\\hspace{-1em}\\phantom{\\cdot}\\\\\n0.&\\hspace{-1em}0364&\\hspace{-1em}\\phantom{\\cdot}&-0.&\\hspace{-1em}05&\\hspace{-1em}\\phantom{\\cdot}&1.&\\hspace{-1em}65&\\hspace{-1em}\\cdot10^{-5}&0\\phantom{.}&\\hspace{-1em}&\\hspace{-1em}\\phantom{\\cdot}&0\\phantom{.}&\\hspace{-1em}&\\hspace{-1em}\\phantom{\\cdot}&0\\phantom{.}&\\hspace{-1em}&\\hspace{-1em}\\phantom{\\cdot}\\\\\n-0.&\\hspace{-1em}364&\\hspace{-1em}\\phantom{\\cdot}&0\\phantom{.}&\\hspace{-1em}&\\hspace{-1em}\\phantom{\\cdot}&-0.&\\hspace{-1em}0502&\\hspace{-1em}\\phantom{\\cdot}&1.&\\hspace{-1em}73&\\hspace{-1em}\\cdot10^{-11}&0.&\\hspace{-1em}05&\\hspace{-1em}\\phantom{\\cdot}&0\\phantom{.}&\\hspace{-1em}&\\hspace{-1em}\\phantom{\\cdot}\\\\\n0\\phantom{.}&\\hspace{-1em}&\\hspace{-1em}\\phantom{\\cdot}&0\\phantom{.}&\\hspace{-1em}&\\hspace{-1em}\\phantom{\\cdot}&0\\phantom{.}&\\hspace{-1em}&\\hspace{-1em}\\phantom{\\cdot}&0\\phantom{.}&\\hspace{-1em}&\\hspace{-1em}\\phantom{\\cdot}&0\\phantom{.}&\\hspace{-1em}&\\hspace{-1em}\\phantom{\\cdot}&1\\phantom{.}&\\hspace{-1em}&\\hspace{-1em}\\phantom{\\cdot}\\\\\n\\hline\n1\\phantom{.}&\\hspace{-1em}&\\hspace{-1em}\\phantom{\\cdot}&0\\phantom{.}&\\hspace{-1em}&\\hspace{-1em}\\phantom{\\cdot}&0\\phantom{.}&\\hspace{-1em}&\\hspace{-1em}\\phantom{\\cdot}&0\\phantom{.}&\\hspace{-1em}&\\hspace{-1em}\\phantom{\\cdot}&0\\phantom{.}&\\hspace{-1em}&\\hspace{-1em}\\phantom{\\cdot}&0\\phantom{.}&\\hspace{-1em}&\\hspace{-1em}\\phantom{\\cdot}\\\\\n0\\phantom{.}&\\hspace{-1em}&\\hspace{-1em}\\phantom{\\cdot}&1\\phantom{.}&\\hspace{-1em}&\\hspace{-1em}\\phantom{\\cdot}&0\\phantom{.}&\\hspace{-1em}&\\hspace{-1em}\\phantom{\\cdot}&0\\phantom{.}&\\hspace{-1em}&\\hspace{-1em}\\phantom{\\cdot}&0\\phantom{.}&\\hspace{-1em}&\\hspace{-1em}\\phantom{\\cdot}&0\\phantom{.}&\\hspace{-1em}&\\hspace{-1em}\\phantom{\\cdot}\\\\\n0\\phantom{.}&\\hspace{-1em}&\\hspace{-1em}\\phantom{\\cdot}&0\\phantom{.}&\\hspace{-1em}&\\hspace{-1em}\\phantom{\\cdot}&1\\phantom{.}&\\hspace{-1em}&\\hspace{-1em}\\phantom{\\cdot}&0\\phantom{.}&\\hspace{-1em}&\\hspace{-1em}\\phantom{\\cdot}&0\\phantom{.}&\\hspace{-1em}&\\hspace{-1em}\\phantom{\\cdot}&0\\phantom{.}&\\hspace{-1em}&\\hspace{-1em}\\phantom{\\cdot}\\\\\n0\\phantom{.}&\\hspace{-1em}&\\hspace{-1em}\\phantom{\\cdot}&0\\phantom{.}&\\hspace{-1em}&\\hspace{-1em}\\phantom{\\cdot}&0\\phantom{.}&\\hspace{-1em}&\\hspace{-1em}\\phantom{\\cdot}&1\\phantom{.}&\\hspace{-1em}&\\hspace{-1em}\\phantom{\\cdot}&0\\phantom{.}&\\hspace{-1em}&\\hspace{-1em}\\phantom{\\cdot}&0\\phantom{.}&\\hspace{-1em}&\\hspace{-1em}\\phantom{\\cdot}\\\\\n\\end{array}\\right)\n$$"
          },
          "metadata": {},
          "execution_count": 8
        }
      ]
    },
    {
      "cell_type": "markdown",
      "source": [
        "# 6. Representar como espaços de estados."
      ],
      "metadata": {
        "id": "1Bjt4UaqUp9I"
      }
    },
    {
      "cell_type": "code",
      "source": [
        "# modelo linear\n",
        "A = reator_linear.A\n",
        "B = reator_linear.B\n",
        "C = reator_linear.C\n",
        "D = reator_linear.D\n",
        "\n",
        "sys = ct.ss(A,B,C,D)\n",
        "sys"
      ],
      "metadata": {
        "id": "hiteC1J2UsWP",
        "outputId": "23688b31-179b-4bcd-9991-68babacebfbe",
        "colab": {
          "base_uri": "https://localhost:8080/",
          "height": 180
        }
      },
      "execution_count": 10,
      "outputs": [
        {
          "output_type": "execute_result",
          "data": {
            "text/plain": [
              "StateSpace(array([[ 1.31818182e-01,  0.00000000e+00,  8.26446203e-05,\n",
              "         2.49999750e-03],\n",
              "       [ 3.63636364e-02, -5.00000000e-02,  1.65289241e-05,\n",
              "         0.00000000e+00],\n",
              "       [-3.63636364e-01,  0.00000000e+00, -5.01652893e-02,\n",
              "         1.73472348e-11],\n",
              "       [ 0.00000000e+00,  0.00000000e+00,  0.00000000e+00,\n",
              "         0.00000000e+00]]), array([[ 0.  , -0.05],\n",
              "       [ 0.  ,  0.  ],\n",
              "       [ 0.05,  0.  ],\n",
              "       [ 0.  ,  1.  ]]), array([[1., 0., 0., 0.],\n",
              "       [0., 1., 0., 0.],\n",
              "       [0., 0., 1., 0.],\n",
              "       [0., 0., 0., 1.]]), array([[0., 0.],\n",
              "       [0., 0.],\n",
              "       [0., 0.],\n",
              "       [0., 0.]]))"
            ],
            "text/latex": "$$\n\\left(\\begin{array}{rllrllrllrll|rllrll}\n0.&\\hspace{-1em}132&\\hspace{-1em}\\phantom{\\cdot}&0\\phantom{.}&\\hspace{-1em}&\\hspace{-1em}\\phantom{\\cdot}&8.&\\hspace{-1em}26&\\hspace{-1em}\\cdot10^{-5}&0.&\\hspace{-1em}0025&\\hspace{-1em}\\phantom{\\cdot}&0\\phantom{.}&\\hspace{-1em}&\\hspace{-1em}\\phantom{\\cdot}&-0.&\\hspace{-1em}05&\\hspace{-1em}\\phantom{\\cdot}\\\\\n0.&\\hspace{-1em}0364&\\hspace{-1em}\\phantom{\\cdot}&-0.&\\hspace{-1em}05&\\hspace{-1em}\\phantom{\\cdot}&1.&\\hspace{-1em}65&\\hspace{-1em}\\cdot10^{-5}&0\\phantom{.}&\\hspace{-1em}&\\hspace{-1em}\\phantom{\\cdot}&0\\phantom{.}&\\hspace{-1em}&\\hspace{-1em}\\phantom{\\cdot}&0\\phantom{.}&\\hspace{-1em}&\\hspace{-1em}\\phantom{\\cdot}\\\\\n-0.&\\hspace{-1em}364&\\hspace{-1em}\\phantom{\\cdot}&0\\phantom{.}&\\hspace{-1em}&\\hspace{-1em}\\phantom{\\cdot}&-0.&\\hspace{-1em}0502&\\hspace{-1em}\\phantom{\\cdot}&1.&\\hspace{-1em}73&\\hspace{-1em}\\cdot10^{-11}&0.&\\hspace{-1em}05&\\hspace{-1em}\\phantom{\\cdot}&0\\phantom{.}&\\hspace{-1em}&\\hspace{-1em}\\phantom{\\cdot}\\\\\n0\\phantom{.}&\\hspace{-1em}&\\hspace{-1em}\\phantom{\\cdot}&0\\phantom{.}&\\hspace{-1em}&\\hspace{-1em}\\phantom{\\cdot}&0\\phantom{.}&\\hspace{-1em}&\\hspace{-1em}\\phantom{\\cdot}&0\\phantom{.}&\\hspace{-1em}&\\hspace{-1em}\\phantom{\\cdot}&0\\phantom{.}&\\hspace{-1em}&\\hspace{-1em}\\phantom{\\cdot}&1\\phantom{.}&\\hspace{-1em}&\\hspace{-1em}\\phantom{\\cdot}\\\\\n\\hline\n1\\phantom{.}&\\hspace{-1em}&\\hspace{-1em}\\phantom{\\cdot}&0\\phantom{.}&\\hspace{-1em}&\\hspace{-1em}\\phantom{\\cdot}&0\\phantom{.}&\\hspace{-1em}&\\hspace{-1em}\\phantom{\\cdot}&0\\phantom{.}&\\hspace{-1em}&\\hspace{-1em}\\phantom{\\cdot}&0\\phantom{.}&\\hspace{-1em}&\\hspace{-1em}\\phantom{\\cdot}&0\\phantom{.}&\\hspace{-1em}&\\hspace{-1em}\\phantom{\\cdot}\\\\\n0\\phantom{.}&\\hspace{-1em}&\\hspace{-1em}\\phantom{\\cdot}&1\\phantom{.}&\\hspace{-1em}&\\hspace{-1em}\\phantom{\\cdot}&0\\phantom{.}&\\hspace{-1em}&\\hspace{-1em}\\phantom{\\cdot}&0\\phantom{.}&\\hspace{-1em}&\\hspace{-1em}\\phantom{\\cdot}&0\\phantom{.}&\\hspace{-1em}&\\hspace{-1em}\\phantom{\\cdot}&0\\phantom{.}&\\hspace{-1em}&\\hspace{-1em}\\phantom{\\cdot}\\\\\n0\\phantom{.}&\\hspace{-1em}&\\hspace{-1em}\\phantom{\\cdot}&0\\phantom{.}&\\hspace{-1em}&\\hspace{-1em}\\phantom{\\cdot}&1\\phantom{.}&\\hspace{-1em}&\\hspace{-1em}\\phantom{\\cdot}&0\\phantom{.}&\\hspace{-1em}&\\hspace{-1em}\\phantom{\\cdot}&0\\phantom{.}&\\hspace{-1em}&\\hspace{-1em}\\phantom{\\cdot}&0\\phantom{.}&\\hspace{-1em}&\\hspace{-1em}\\phantom{\\cdot}\\\\\n0\\phantom{.}&\\hspace{-1em}&\\hspace{-1em}\\phantom{\\cdot}&0\\phantom{.}&\\hspace{-1em}&\\hspace{-1em}\\phantom{\\cdot}&0\\phantom{.}&\\hspace{-1em}&\\hspace{-1em}\\phantom{\\cdot}&1\\phantom{.}&\\hspace{-1em}&\\hspace{-1em}\\phantom{\\cdot}&0\\phantom{.}&\\hspace{-1em}&\\hspace{-1em}\\phantom{\\cdot}&0\\phantom{.}&\\hspace{-1em}&\\hspace{-1em}\\phantom{\\cdot}\\\\\n\\end{array}\\right)\n$$"
          },
          "metadata": {},
          "execution_count": 10
        }
      ]
    },
    {
      "cell_type": "markdown",
      "source": [
        "# 7. Checar estabilidade"
      ],
      "metadata": {
        "id": "Y5UmnXPDUxWw"
      }
    },
    {
      "cell_type": "code",
      "source": [
        "p, v = linalg.eig(A)\n",
        "\n",
        "print('\\n autovalores = \\n', p)\n",
        "print('\\n autovetores = \\n', v)\n",
        "\n",
        "if any(np.real(p)>0):\n",
        "    print('\\n O sistema é INSTÁVEL.')\n",
        "else:\n",
        "    print('\\n O sistema é ESTÁVEL.')"
      ],
      "metadata": {
        "id": "16dhIZHaUzTn",
        "outputId": "7a1e9c65-35ee-445e-c16a-17db2d1ada28",
        "colab": {
          "base_uri": "https://localhost:8080/"
        }
      },
      "execution_count": 7,
      "outputs": [
        {
          "output_type": "stream",
          "name": "stdout",
          "text": [
            "\n",
            " autovalores = \n",
            " [-0.05      +0.j  0.13165289+0.j -0.05      +0.j  0.        +0.j]\n",
            "\n",
            " autovetores = \n",
            " [[ 0.00000000e+00  4.45435403e-01 -4.54545363e-04 -1.88678294e-02]\n",
            " [ 1.00000000e+00  8.90870806e-02 -9.72664330e-05 -1.36768450e-02]\n",
            " [ 0.00000000e+00 -8.90870806e-01  9.99999892e-01  1.36768450e-01]\n",
            " [ 0.00000000e+00  0.00000000e+00  0.00000000e+00  9.90328905e-01]]\n",
            "\n",
            " O sistema é INSTÁVEL.\n"
          ]
        }
      ]
    }
  ]
}
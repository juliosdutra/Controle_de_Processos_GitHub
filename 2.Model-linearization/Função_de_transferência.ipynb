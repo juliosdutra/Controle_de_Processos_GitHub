{
  "nbformat": 4,
  "nbformat_minor": 0,
  "metadata": {
    "colab": {
      "provenance": [],
      "authorship_tag": "ABX9TyM9dQ6TEhGEgUrWg16wNuQc",
      "include_colab_link": true
    },
    "kernelspec": {
      "name": "python3",
      "display_name": "Python 3"
    },
    "language_info": {
      "name": "python"
    }
  },
  "cells": [
    {
      "cell_type": "markdown",
      "metadata": {
        "id": "view-in-github",
        "colab_type": "text"
      },
      "source": [
        "<a href=\"https://colab.research.google.com/github/juliosdutra/Controle_de_Processos_UFES/blob/main/2.Model-linearization/Fun%C3%A7%C3%A3o_de_transfer%C3%AAncia.ipynb\" target=\"_parent\"><img src=\"https://colab.research.google.com/assets/colab-badge.svg\" alt=\"Open In Colab\"/></a>"
      ]
    },
    {
      "cell_type": "markdown",
      "source": [],
      "metadata": {
        "id": "sjlLk499YROt"
      }
    },
    {
      "cell_type": "code",
      "source": [
        "! pip install -qq control"
      ],
      "metadata": {
        "id": "Kg7mc0Y2XMk9"
      },
      "execution_count": 8,
      "outputs": []
    },
    {
      "cell_type": "code",
      "source": [
        "import numpy as np\n",
        "import control as ct"
      ],
      "metadata": {
        "id": "PWvRihjdWlBc"
      },
      "execution_count": 5,
      "outputs": []
    },
    {
      "cell_type": "code",
      "source": [
        "# modelo linear\n",
        "A = np.array([[-1.14 , -0.01 ],\n",
        "              [29.332, -0.947]])\n",
        "B = np.array([[0.001, 1.   , 0.   ],\n",
        "              [0.255, 0.   , 2.092]])\n",
        "C = np.array([[1., 0.],\n",
        "              [0., 1.]])\n",
        "D = np.array([[0., 0., 0.],\n",
        "              [0., 0., 0.]])\n",
        "\n",
        "sys = ct.ss(A,B,C,D)\n",
        "\n",
        "sys"
      ],
      "metadata": {
        "colab": {
          "base_uri": "https://localhost:8080/",
          "height": 99
        },
        "id": "uUS9d0yaWf-O",
        "outputId": "1f4be54f-0152-41bd-e539-d0f27dad4031"
      },
      "execution_count": 6,
      "outputs": [
        {
          "output_type": "execute_result",
          "data": {
            "text/plain": [
              "<LinearIOSystem:sys[2]:['u[0]', 'u[1]', 'u[2]']->['y[0]', 'y[1]']>"
            ],
            "text/latex": "$$\n\\left(\\begin{array}{rllrll|rllrllrll}\n-1.&\\hspace{-1em}14&\\hspace{-1em}\\phantom{\\cdot}&-0.&\\hspace{-1em}01&\\hspace{-1em}\\phantom{\\cdot}&0.&\\hspace{-1em}001&\\hspace{-1em}\\phantom{\\cdot}&1\\phantom{.}&\\hspace{-1em}&\\hspace{-1em}\\phantom{\\cdot}&0\\phantom{.}&\\hspace{-1em}&\\hspace{-1em}\\phantom{\\cdot}\\\\\n29.&\\hspace{-1em}3&\\hspace{-1em}\\phantom{\\cdot}&-0.&\\hspace{-1em}947&\\hspace{-1em}\\phantom{\\cdot}&0.&\\hspace{-1em}255&\\hspace{-1em}\\phantom{\\cdot}&0\\phantom{.}&\\hspace{-1em}&\\hspace{-1em}\\phantom{\\cdot}&2.&\\hspace{-1em}09&\\hspace{-1em}\\phantom{\\cdot}\\\\\n\\hline\n1\\phantom{.}&\\hspace{-1em}&\\hspace{-1em}\\phantom{\\cdot}&0\\phantom{.}&\\hspace{-1em}&\\hspace{-1em}\\phantom{\\cdot}&0\\phantom{.}&\\hspace{-1em}&\\hspace{-1em}\\phantom{\\cdot}&0\\phantom{.}&\\hspace{-1em}&\\hspace{-1em}\\phantom{\\cdot}&0\\phantom{.}&\\hspace{-1em}&\\hspace{-1em}\\phantom{\\cdot}\\\\\n0\\phantom{.}&\\hspace{-1em}&\\hspace{-1em}\\phantom{\\cdot}&1\\phantom{.}&\\hspace{-1em}&\\hspace{-1em}\\phantom{\\cdot}&0\\phantom{.}&\\hspace{-1em}&\\hspace{-1em}\\phantom{\\cdot}&0\\phantom{.}&\\hspace{-1em}&\\hspace{-1em}\\phantom{\\cdot}&0\\phantom{.}&\\hspace{-1em}&\\hspace{-1em}\\phantom{\\cdot}\\\\\n\\end{array}\\right)\n$$"
          },
          "metadata": {},
          "execution_count": 6
        }
      ]
    },
    {
      "cell_type": "code",
      "source": [
        "from sympy import symbols, Poly, eye\n",
        "\n",
        "def ABCD_to_tf(A,B,C,D):\n",
        "    s = symbols('s')\n",
        "    G = C*(s*eye(2) - A).inv()*B + D\n",
        "    return G.as_immutable()\n",
        "\n",
        "G = ABCD_to_tf(A,B,C,D)\n",
        "G[0,0].simplify()"
      ],
      "metadata": {
        "colab": {
          "base_uri": "https://localhost:8080/",
          "height": 52
        },
        "id": "4zLUr1BwXA5e",
        "outputId": "8fe2cc47-941e-458c-b628-3e5751fe6310"
      },
      "execution_count": 12,
      "outputs": [
        {
          "output_type": "execute_result",
          "data": {
            "text/plain": [
              "(0.029332*s - 0.047019196)/(29.332*s**2 + 61.215884*s + 40.2699028)"
            ],
            "text/latex": "$\\displaystyle \\frac{0.029332 s - 0.047019196}{29.332 s^{2} + 61.215884 s + 40.2699028}$"
          },
          "metadata": {},
          "execution_count": 12
        }
      ]
    },
    {
      "cell_type": "markdown",
      "source": [
        "Este código Python define uma função chamada `get_tf(g_exp)` que extrai os coeficientes do numerador e do denominador de uma função de transferência simbólica e converte esses coeficientes em uma função de transferência numérica. A função de transferência numérica pode então ser usada para análise e manipulação de sistemas de controle."
      ],
      "metadata": {
        "id": "jlushqixXm_M"
      }
    },
    {
      "cell_type": "code",
      "source": [
        "def get_tf(g_exp):\n",
        "    '''Extrai os coeficiente do numerador e do denominador de uma função de transferência\n",
        "    simbólica e converte para um função de transferências numérica, a qual pode ser usada\n",
        "    para extrair propriedades dos sistema.'''\n",
        "    num, den = g_exp.as_numer_denom()\n",
        "    num_float = [float(i) for i in Poly(num).all_coeffs()]\n",
        "    den_float = [float(i) for i in Poly(den).all_coeffs()]\n",
        "    return ct.tf(num_float, den_float)"
      ],
      "metadata": {
        "id": "ytwsKWHqXi0n"
      },
      "execution_count": 15,
      "outputs": []
    },
    {
      "cell_type": "code",
      "source": [
        "Gp = get_tf(G[0,0])\n",
        "Gp"
      ],
      "metadata": {
        "colab": {
          "base_uri": "https://localhost:8080/",
          "height": 39
        },
        "id": "QRbhCtlQXtuU",
        "outputId": "ef439985-5843-4939-c941-48c6bb9dbc73"
      },
      "execution_count": 21,
      "outputs": [
        {
          "output_type": "execute_result",
          "data": {
            "text/plain": [
              "TransferFunction(array([ 0.029332 , -0.0470192]), array([29.332    , 61.215884 , 40.2699028]))"
            ],
            "text/latex": "$$\\frac{0.02933 s - 0.04702}{29.33 s^2 + 61.22 s + 40.27}$$"
          },
          "metadata": {},
          "execution_count": 21
        }
      ]
    },
    {
      "cell_type": "code",
      "source": [
        "Gp.poles()"
      ],
      "metadata": {
        "colab": {
          "base_uri": "https://localhost:8080/"
        },
        "id": "HUzuZCYhXvYK",
        "outputId": "9ed671a3-3b69-4e59-9c09-69637e778bb7"
      },
      "execution_count": 22,
      "outputs": [
        {
          "output_type": "execute_result",
          "data": {
            "text/plain": [
              "array([-1.0435+0.53292378j, -1.0435-0.53292378j])"
            ]
          },
          "metadata": {},
          "execution_count": 22
        }
      ]
    },
    {
      "cell_type": "code",
      "source": [
        "Gp.zeros()"
      ],
      "metadata": {
        "colab": {
          "base_uri": "https://localhost:8080/"
        },
        "id": "1Fboj2yFYEC2",
        "outputId": "225cff18-498d-426f-b3ed-a61a3f187387"
      },
      "execution_count": 23,
      "outputs": [
        {
          "output_type": "execute_result",
          "data": {
            "text/plain": [
              "array([1.603+0.j])"
            ]
          },
          "metadata": {},
          "execution_count": 23
        }
      ]
    },
    {
      "cell_type": "code",
      "source": [],
      "metadata": {
        "id": "0dwRYdVwX_UT"
      },
      "execution_count": null,
      "outputs": []
    }
  ]
}
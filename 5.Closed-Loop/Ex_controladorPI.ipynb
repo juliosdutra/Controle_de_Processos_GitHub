{
  "nbformat": 4,
  "nbformat_minor": 0,
  "metadata": {
    "colab": {
      "provenance": [],
      "authorship_tag": "ABX9TyND1S3llYfU6Ky2tpFsU9OW",
      "include_colab_link": true
    },
    "kernelspec": {
      "name": "python3",
      "display_name": "Python 3"
    },
    "language_info": {
      "name": "python"
    }
  },
  "cells": [
    {
      "cell_type": "markdown",
      "metadata": {
        "id": "view-in-github",
        "colab_type": "text"
      },
      "source": [
        "<a href=\"https://colab.research.google.com/github/juliosdutra/Controle_de_Processos_UFES/blob/main/5.Closed-Loop/Ex_controladorPI.ipynb\" target=\"_parent\"><img src=\"https://colab.research.google.com/assets/colab-badge.svg\" alt=\"Open In Colab\"/></a>"
      ]
    },
    {
      "cell_type": "markdown",
      "source": [
        "# Controle PI de um processo integrador\n",
        "\n",
        "![image.png](data:image/png;base64,iVBORw0KGgoAAAANSUhEUgAAApMAAADmCAYAAACJZg6mAAAAAXNSR0IArs4c6QAAAARnQU1BAACxjwv8YQUAAAAJcEhZcwAADsMAAA7DAcdvqGQAAFKHSURBVHhe7b0LsCTVeeeZvTMxXk8Y6G5Y744WY0SDJwhEgKB5DAPiEQGNgEGwRtsgsxIMGlADKwk9ADcigJAANSCBNDLdMDAgLaJBwAh53IhHBAgaMeYN22aQrW7EAot37Obt8DxiN+7W79z8X74+nVWVlZV17617/7+IrMw8eR7f+c4jvzznZNaCiQ6FMcYYY4wxDfjvyr0xxhhjjDEDY2PSGGOMMcY0xsakMcYYY4xpjI1JY4wxxhjTGBuTxhhjjDGmMTYmjTFmRLz77rvlkTHGzF1sTBpjTMtgRF566aXF4YcfXtx7772la38++tGPFuedd56NUGPMWDEvjcldd921OProo8uzat56663iqquuKhYvXly6zH4ef/zxlC/kNvOXV155pTj77LP71vE6tBnXfAFD8PTTTy8effTR4qc//WlxwgknlFf685vf/KbYbrvtklH5wgsvlK7tcccdd6T+j75i3KFe0j/TVxtjZpaRGZN0WieffHKxYMGCtNGB0fi5Oc20sbNo0aLyqDs333xzceONNxbvvPNO6TK74eZw++23Fw888EDpYuYjtK+77767WL16denSnDbjmq3QT2Eoq59i43wYYwtDEjAkd95553Q8CIxofulLX0qjmq+++mrpOjzk9dZbby02bdpUuow3dfpxY8w0wT/gtMnmzZsnli5dOtFp6BOrVq2a6HRcU+7r1q1L10h2/fr1yX02g/wjUNFIQV7kNvObZcuWpa0N2oxrtkB/RJ7op9auXVu6TkysXLkytSH6qiZce+21EwsXLpx4/vnnS5fmdAzRiRNOOKE8awf63ab9L7oxxpgqWh2ZZLqBp/pnnnmmeOSRR4rzzz+/2GWXXdK17bffvjjmmGOK+++/v+gYlMnNGGNmgj/6oz8qnnrqqdRPMYMivvKVr6T9AQcckPaD8r3vfa847LDDir333rt0ac4ll1yS1lu2OTrZFPr2uTxCbYwZjlaNSaaGMSRXrFhR7LXXXqXrlmBU3nnnneWZMcZMLzfccENaDnLhhRdu1U/RP3UestN+UFjjiOH3uc99rnQZDq21ZGp6pjnnnHPGZsmPMWb6adWY/Pa3v532n/nMZ9K+G4xWHnzwweXZ5FOvFlOzZmm//fZL63sE17kB4M56yxdffHFqnRP7uABbcXGN+LgeRx60lhP3HOJmbSdh2T/33HPllQ8h/osuumgLWeP6qhg/chIPfll/FmVTGnH9KH6IG3fivO+++6bkwT2H+OO61Co/kPvjuN+aMPllk19klZvk1hpYycwmmVU2bEpf/rqBX+mQeGNZo2vORS9dQ9184xb9UUbIEcEP6XOdNNB19BPLCn95vSAvqjPIi98IcfVqA73Iw0rvOVEG9lX5rBtX7q+OvJSL2jG6iTpD//1kydPgeuwXuIZfzntx9dVXp/V2Z5xxRunSDr/4xS/SvteoZF4nkZdz1dnIwoUL05pLXuRpCjpGH0qLddVVoEeVBXvOBeE1ACC5BXLH/MS8sI/9Gcf4YY8eVLZAeipn9WP4kezUw6gj4ovhIXdTfWerqpu98gzIQdjYjo0x1bRmTNLw9eQaDcV+cEPQlNKvf/3rYvPmzakDOeWUU6Y6lffeey/tGfXEwPvJT35SfOMb3yjWrFmTRhguvvjidB04fvvtt1M8xIfhqs9skNaOO+5YOTJKJ4QxzCgAIxNf//rXK/3Rqe20004pDS1kP+SQQ1JHF+PnGNnOPPPMqc6NqbUHH3wwycbGdP8FF1yQdAcffPBB0iHx/vznPy/+4i/+IsnDSO8VV1yxRYdIGBboEzdxEYa4c/DHzQ2/5At/bMjMjaYb+F2+fHl5NgnLFtauXVueTYLMjMZI5ieeeGJKZvL/3e9+N41qfPazny3WrVuX9Hb88ceXobeGst52222TDjn+/Oc/XxxxxBFJFsqffNTRdd18c4w85557bvK3fv36NJ1HWQn88LkW0sLPlVdemcpD9Q55jj322Km6c+2116a0BOXGy1zIz/UTTzxxi+vI368NdIOw1Mmnn346xU9Y6jzHEW6s1DWmdZGBUTnyyQs2om5cTeWlrlCmxEc9+f73v5/KjHaAbklb1Ekj7xc4x5jpBWWJ7vHXZPSxF2rHvaA+AvlROZB3dFMFxmTTt7qpd9RL2hBp/emf/mmlUYU+kf3JJ59Mch111FHFF77whSm/1Idly5alY+JhA+o9fmPboQ/CDWJ/hhG75557TsXDNeLlOnWTN9iRj7pA28IN4462pH5+5cqVKaxQ+EiMk36aOJcsWZLqTTRG++UZiCeP3xjThU4n0Apa2D1olB2jIy2Cz+l0ACmuTkeUzhV/vggcfyykFxznfkgjQjwxjOLOF913DJgt8sNCfV4gihAGPzENzpErh7DEKZQue6GXfqIs6AC3+GIN8ueydG46W/lDjpgmKL4qGSOSJconmWMa3fSHWy6jXnDoB37IY6ejL10+DBvLl/OqfNTNN8d5fUHmKDd+8rxxnbiIU/mPslJXpDd0lesh1pe6baAKlVFMG4gv1nHymKdBuFiOdeMaRl7pqkrnuEvPddNQfFGfvVAdysuzDXhZhri7IVk7xlHpMkmvMP3i7AZliP5yPZM28aluqk3EMucYN3QtKP9cDnSexy/96qUm1an4kpOoqm+96kesg1Alk9xinKSN26B5BvpUY0x/RvZpoLrwJLj//vuXZx/CyCDEkRPgCTbC9ETki1/84tSTrZ5Er7/++rTvhqZ+eEEoss8++5RHk7AYnlEQpkW08eQP8akXcrmAp2byi1+ejHuN0DE6J/QSkyA8T+qf/vSnS5dJ8vVfPHl3Os6t8kF8jPRxrc0pnCizyEd/VH510mVEMobXtOSzzz6b9iLXdd18s3H8yU9+svQxCeXEBoqLco7lrtG6N998M43Ed252aWRNo56MfGmE/qSTTkpx4EZ8EOvkoG0gwohn5wa6lZ7z+C6//PI0KsyIn6b3curGNYy8Itf5V7/61bRnNB4GTaPuJ3hUd/IXbNBHLN9IdGdj9JuZDHQ5CLvvvnuaXr/pppu26C86/XB51B4PPfRQGlXL9bzHHnuUR5PgD3bYYYep/HEM1NleUEb0tVE3nMNrr72W9oJZhG5UjRDn/Tx+6PPqEuPM0x4kz93W/htjtqQ1Y5KOUuSGVS+6TSPknV5dMAg7T6DFww8/nKY36PT7yVNXXqbLudnS+ecbb6n3g5sP8jClwpTPbbfdVl4ZDAyYOnSbOoPc0BoHcqO6G23mW3FRp6rKXQYj5Y9xf+qppybDhBut0FQxRghT7xid0Zgepg30u+FHeMDCiGI6uGpJRN242m6zkN/wR5EGyCDJDRimO0U+rbxu3bq0x50yZ+o0XyIArHGEbv9eQ5o8RKBnHj4oj1GRG3Pd0FKBvF5r6wVltGrVqspwLImZrQyTZ2NMNa0Zk3SUK1asSMd1RiYifKKjG/kTah24wXNzxwBghImOu84oQj8/3Cw2btxYnm1JNB6qIG6MCEaHiINRqqqRvEFQp9iPqheJxDbbbFMejQ+6afejbr5Z65mDscdDhvy98cYbaR/huoxC6j83UNb3sQ6QNVrRWMCglCGB/KzdjAblMG2gTt3mIYaRR4ym+MmunDpxQdttVsSwo0qjFzws5qNRr7/+ehpRlDv9C/74KHmknzEJtHseLNizhjWuE60CA3aYzwy9//775VE10mPVA3W/Pg2ddPtsUb+wM8kweTbGVNPqNPfXvva11MHwIoum86rgJqobKQYoT7h5I37ppZdSXEwRDkJ8AYBOn8XtxP/yyy+Xrluz7777pn0/I5jF8xgD3Jgj5LWfYUf63ES0AH8YNAqsl0+6Qf4ZncVf3nFiaFXdOPvR7+bUJrkxqDrT7+/p6uYbf9QxRplifUWnLH3A4MIffijzvE5fc801KQ7k0vS2jErqNaPjgFGpciJO6jry8RIKDNMGeFCiXvVqb0Ae8ZuPyEXqxtVGm8VvRLo48sgj077tfkFQ9pC3G41MsrQih5eW8il3DN3c76GHHpr2eqs7Qj7UN+nBYuXKlT2nbjFKMdaaGJMf+9jH0v5HP/pR2nfjwAMPTHuWf0SdcLxhw4byrBpmWKhXeRmxjCLOVM02Bslzv7ZgjCmZaBkWLHc6+7SxwDouYOaYhdW4i45xNuVfC6TZcx4XbbNgHnHjSxUsmmbBNH61mLpzs0gLw4kXtMhb5+w5J5zCsJcMWhyPP+LCr/KBv84NN7mxx5384E8ofuJSmkB4hSMv5I284EYceiGAY9ziIn2FjekoX7gpHS00J2+KT3ojXfkjbuSLZVMF5aA0OFZ+cUN2lZdkiTJLD1HPoDxXLciP4AcZlQbxkYc6uoa6+ZbOcFfdRGalC9EPdQs/yCEd45drOic94sAv4B85lC7+iU86wD/h2ZSu4uynJ8UVZWbPOe7IFOMnPtxUjuRDadSNqw15Y7koLHoSddPgWPmI9awb5AH/lI3840a8uCutSJQNuQiLm+QXHeM3xXHaaaeVLh+CvmNeCIsO0G03fvrTn6b42AtkJgxx9Wu/6ITwpE04tqr2S35wI161gVg+oHC0IY65RvrSG/ERjri4LhR3dBOSr6o9Ep9QnnGXTLghYx6+yg2ZcYv1q06e1VdV1QljzJa0bkwCDV2Nk8bIRqdDA65qmDRgNVw2wtHBC+LSNW3EU+VGPDFdjpVmVRgRZUBW0mSLN1sgb+QjdqK4QTeZhDpkwtLBkSbHuhGqc9XGeVXeBXGok8WvOnd19gIZok6QOXa2vYgyowfiIk3kIo0qmbvpIXcjjm5wHTkVv/JVV9fAeZ18U9ekx1hfIvhRXPiNdULpICPXc1lVjyQH4Sm7SL820IuYT+ImHOnF9oa8kk+yEQb/USd14oKm8hKHZCB+pZPrA/ql0att9II4lEd0Qt5w4zgH3cT48dOtHgGG5MKFC8uzD0H/sQ70iwd4k5u/VIxQboRFfsL3Ar/oGf+kqXxK36qfgC5VHsSdy8U514kr1n3cVUZcIz0R88vGuYjubKRfVZ6qL03c8nbHFmXol2fpLvalxphqFvDTaUzGzCp4w7LT2c/qhfxmcFgSwHrRzs0/LRGY7TCFy/rXjuHVc4mAYGr64x//ePpLxVtuuaV0HRy+HMH3SFmXWbWsg+UbHWNnqylmY4yZCWb800DGGDNbeeyxx/quNY3wEg4GIB+wv+6660rXwWDN5emnn57+m7vb+mDW6/7xH/9xeWaMMTOLjUkz69Ci97vuuivtzdxBL95UvUE/2+CFDEb+6hqSghdmnn/++VSPGaV8YYB/sOGfltgY1bz00ktL1w9hRJIXus4666yBX54zxphR4WluM6vgRsknUyLjMiVqesNncPK3l2dz9xPlbbrkAkOSD6rX/ZzVoP6NMWY2YGPSGGOMMcY0xtPcxhhjjDGmMTYmjTHGGGNMY2xMGmOMMcaYxtiYNMYYY4wxjbExaYwxxhhjGmNj0hhjjDHGNMbGpDHGGGOMaYyNSWOMMcYY0xgbk8YYY4wxpjE2Jo0xxhhjTGNsTBpjjDHGmMbYmDTGGGOMMY2xMWmMMcYYYxpjY9IYY4wxxjTGxqQxxhhjjGmMjUljjDHGGNMYG5PGGGOMMaYxNiaNMcYYY0xjbEwaY4wxxpjG2Jg0Y8vjjz9eHH300cVVV11VupjIW2+9Vdxxxx3Ffvvt14qOrO/p44Ybbih23XXXYsGCBWl/3333lVeMaZ9XXnmlOPvss1P7HhdefPHFJPPixYtLl2q3UTOKtjrqfHBvoB9vM/45YUxyw6QRUJgqUAqCBjKucONWfqhYZkvQz+2331488MADpYvJee+994rXXnuteOaZZ0qX5ky3vmP9z7eq9l3lb5xujBFuTo888kixcePGYtOmTcWiRYuKSy65pLxqTLvQju6+++5i9erVpct48MEHHxQPPvhg8c4775Qu1W6jZFRtddT5uPnmm4sbb7yx3fgnxpgXXnhhYunSpRNLliyZWLduXek66b58+fIJsrd27drSdbxYtmxZkn3lypUpjzMBac92KONVq1aVZ+PNKPS9fv36VnU03fpGJ6Qp3WzevHlizZo1ya3Tcae2LqJ7p2MvXccP5J8rddoMD3V+OuoD9xy2cQJ5afORKrdRMcq2Oup8IHeb8Y/tyCTDtIcffnh6GnjyySeLY445prxSFHvttVcarewYlMUpp5ySjscJ5O0UdHHyyScXl19+eXHZZZdNex4YGXr22WfLMzNqrO9qPvnJT6b9dtttl/bbb799cdZZZxUd4zI9VV955ZXJHU466aS033///YtddtklHY8bzEJM16iKGQ8YRTKzD7fVLWnVmMTA03Qz+1FOz1588cVTNxNuMFVcccUVac+UGLKNCxiRGMQCQxm36QJdnXbaaeWZGTXW9+DIyLzzzjvTHrr1A+ME01vGCO6hF1xwQXlmZhNuq1vSqjF5zjnnTK2pYj+qRsDNV+s7jjzyyLSvgtGJZcuWJaPzoYceKl2LqYWnMnpZg9UPFtVilGLUkT7HhCdsPmpIBxDXcPICRFyUyygU4ZGBuORXfqJ87KMxzJ709FIF610UHllkwF900UUpLBvrOnLyRcPyQ3y77bZbGvGlDLlO/LgTJ36Rn2OusRfIj1xR7riuDfCjdPHLRnx1IG/on7B52pHcH8d10xDSMeHJS9VLJ7hFHXKucgLiIG30l9cZldOo9d2NXnVMtKXvOnkZlCeeeCLtly5dmvbDgExRfnRBGeDOJnc2oTbHFvMK3dpWP/B/yCGHpGP6Ts5JRwyj5zp1UXCdMKofVW0UP3n9j30cIE8ur+on4dvox3KIF3+KlzQIy7kgL7HdkAbhRLc+SjKTD+JGRsmMn1yPkOuI85gW4CZdEx/+ADn23nvvdKz6gF+IaSv9XP+9QAbqQEw3lwuibOyr+okqKE/lHd2xSQ9Ki031Q/4isRzY8Ful415IfjbKLjKMDvHfq632q2Og+i8/Ktsq2siHygM/7J977rnyyocMpfNyursViC7fRoHWgdWJf8WKFckfe2AdImsstaZK66x6wZoV0iQc6xhYj8kaLq3nYtOaTfyyjgI/QDqEw00QF+sgCce6BclEHFrHoLVgOkdOID7JLDmIT27IR16JM6YT15YRBj/IyiYdxfWliksQPuoSv1wnLiB98kiawJ5zNumaPeFzPzrvBenjV3ITV9ShwB9uUV/yF9fV9oI8EUZyqwxiOug++pH+cQPVGbkRJ+mzkQ/KO4K/tvUNkiHKrvyoTuhcOoM29d0vL72Q/IQThEe2mIbALeqxH4qLPUT5pVvyT3nhFlGe5A/Ik3TGJj+Kvx9V5QXD6JljxVunLuKnKh2OBW4xn7QH/EgX+CVenbOPaXGdNAjTtB+rIo+XY+IhPJBnjpUX+cUP4M55Ljd7rhGe68hLPJST8o4/xQv9+gggf+gk9yNIl/NYH9A3aRE/EJY4cKsD4ZFBssV6GtuO+gXpXOfI2I9YF9EVYclLdEP+WA+j/Mq30tK58iyQF/eI3Egzrz/S87A6hKqygX51DFR/5Ee6jXG1mQ/Sxo04QDKxCeWnn8670duKGhASlYBssWK2iTLJ1g8VkmThnAKJxELuBXFQULFDU+eiOClMCi02OMkQUUVRpRBUsrwi4C9WMsANvxHFSQUTkk+ViPRyPxzjRt4E53n5KR9U7IjijHkG/OEu/arcYtpqJP1AlrzcKAfii7ohD3nll3wxf92QX/QmcKNMpG/lK7+xqaOM+uG8qr7hHuG8bX2DdB51VKeOta3vbnnph+QnLjaO2ZAvlpHQtTqoI85lytsMECduEeVJ/pTvfm2rF1XlBW3oGfd+dZFwuR/pQ/VK9SzmU35UJvjN+yfO8RNl47xJP9YL6TC2A4GuJKMgv/hHnwob00bemC7XkTH6Ud6UF+moXx9BeVWViaiqD8hZ5x7TDfmN8gNxxrZDXvr1E72Q7Lm+ccvzLP0JlXfUH7JF+UB1JSK3vAxxUzkOq0OoKhvoV8fUbqMfyRPbQlv56FYOstdEXZ13o77makCmpQD2eUNqCyknKqIbeSOX8lHkoPJ1UyyVp0oW5FTnkV+XnrqBLqkgijuvsFVuVXHmFZ44Oe+2CY7zvKqSqiILxZm7A7qO8dKo2PKK3Qs1vjy/EN0pz27+1HCqZIwoj73IG6FQ+lFv+TlUpdHL3zD6xg/nVTrpVsdGoW/8xPO69JK/CvzmeuyG9Eh+I0ozykqcuEXyPNVtW72oym9besa9X11UfFWbwrLvp2PVw6ot5iM/hypdV+mlG938So/dNumsXx+F3zxutRnppW4f0e9+1C/fXO92j+kG7b2q/HCrcu93L+qGZJdeBW55OsRZ5RcwoPBfFU7ukSq3brIAboPqEBRn1EedOqa89qOtfMgtp5ccvXTejVbXTLIA/v7770e6tI8vkbTJwQcfXB5Nrhfohd6Q3XPPPdOedZR8d2/x4sVpPQprDfK1GoPCGoOI1jB861vfKo477rj0ZvYgsLbhgAMOSN8J5FtTbUKcQBlVbU1QnFXwZm2EevHpT3+6OPXUU5Pe8vUfVbz55pvlUW96LYjeZ599yqPheffdd8ujLRlVfc8ZRN/d6FXHZpu+R4X02Nab36NoWzCdeqZud24elfLTduvCOnX6vap4zj///NLX9CI9dm66lXLpvtKkj8rrUN0+oun9aJh7TMeALY/6M8p7UT+0fu+xxx5L+aNetsmw9+kq6taxNumXD61TrsMwOh/bTwN1rO207/URZRa8cr3z5LfFizo04Ouvvz41qoULF6aFtMMalKQBFCyfLDrxxBNTpxQ/WVQHFjjzMVE+d0Sn29aNTugTK1UVrE6n2YuXXnqpPNoS6QZ44CBfv/71r4szzzwzfbqJDqsOvYyoSNXCYrHNNtuUR72pWsBctfC5CurUdFBH31XUrWPTqe+ZZNi2L0bZtmA69Ezd5QPMVcQ80K9WvYghP9TBV199NR3ntKGLJkhHb7zxRtpHKDPVg2H6qLzt1+kjBr0fDXuPgaqyyxn1vagX1JFjjz22uOeee5Ju2n5Qb0OHVdStY1DnHtOPQfLRr8yH1fnYGpPf/OY3U4f17W9/u6vlzeeD4Lbbbpv6bAidgpRK40CBS5YsmXo7tB9PPfVUeTQJceHGW09AJ8tT+YEHHpjOB4W31JcuXTqyz5xIruXLl29RuTjesGFDeTYY+r7f1VdfnfYRdHPhhRemYxqSGpA6bB4KHn744eTWjd133z3t+QxMrwbBUx9lib+8TnAj5imrXwPRkxj/YhDTotHybzKgz/jkb5fqxnHuueem/aioq+9u9Ktj06nvutQxbHvJWsVOO+2U9j/4wQ/SXrz//vvlUW9ymUbRtmA69axv92JIRKjbyi83LlD/KuhLt91223R81FFHpXqW3xxpM6pf0w064p5B3tRWxTXXXJP0XLePyg17GQknnHBC2tftI5rcj4a9x9D2GQ3NdZAz6ntRL2699dZUVm3V65xhddiNOnWszj2mLnXyse+++6Y9/3LUi6F1PjHGsD6h0/DSmhMtaAbcWYOSu8OqVZMLnrU+RWsQcn9VdCpB8sv6EWAtCesRSIdj0Lop0idu0lM40sANv8iAW74uh7gkN9e05pM4JKNkJg0R44xrbyQPcgqOcUN3xC+dsH5HcI4cyKCwChcXCQvJiR9kkW6IR7pBbsUJpIcMir8XyEj86EFyog/lQ3Gyxy3mBx2QbtRLL5RP4iVd8sax8gHSteoCaeEW84J/xRPDUm64ow8xCn1DrI+CdNh61bG29d0rL72QbLkOq1Be8StZ+qFyJAx5Rk7JGstH+kAe3NmrHLmmvCos8eGHa1E3/VA6sbxgWD2jO8kV9ZjXRa5JJ+yRh7ioByL6wR0/pBv9IBOy4Yc05CfKRZq6LmLcMV8qW+Loh+op8sS8gq4hG3EhF/5Un5GJazpH1+gspqvw0hl+kDnmH5QPZAf5i3GRPm7Kq3Sidoj8nOMHmfAvXaA3/CsPCie5uqE0yJf8succd9JBVvLIRpy4UXZcJy3J1wvkwr/yD8SrtGPZqB4qXp0TB7KRNmFUNsRDeMks/fWrP8QXz5vqEJS/WH+B8Lgja1UdA9zxg/xcV/6kkzbzQVwqS5UF+pM/wpBGHZ33YqyNSUBRZF6KZ0MBFFZV5qOy5VcK7gfhSEcVgY0CiOkgj+InbgqFguBcHanCakMmQQWg8ORflYq4KHD85uEhd8vzyca54Dpx4k78scKC5FC6veIS6FFxEhY9Ib9AF6Sl/LFXHusQ4yd95FIcsQyUjmSljPL89QP9SM68jAGZSVd+kCuWIzIofW1VbgozCn0Td4yDDfrVMdGWvuvkJadKV2xRx5Eqv3XSIe/qRMkrbVVpsxf4Uz6kJ2Qh3+gz17v0xvWoi17gP99ifpvquUqXVW5Ki7xQl1RHSCfmD+SH66oTuR9kk27lR5CW0tUGuRv+uuWrim7xRihj6ZFyovyEdKy8V+UNd/Ilubrln3PcFRdpxfKEPH/4ye9HxME1/BEnm8LgH5nze0w/Yl0iDsITJ2XKNajbT1QR88TGeVWdq3JDJ8RPOpwTlv5GulR5VYWrcquSZVgdxvi0xbLtVccE/qVf6lPsU2O8bMPmg7hjWyQ+xSnZ6ui8Fwv46QQ2NWCRK7A2wRgzN2HKknVrnY45TUsZE+Fjzp0bcZoCN8ZMMrZrJo0xxhhjzMxjY7ImLJTlLcdubzEaY+YGeku+29vyZv6ilyruuuuutDfGTGJjsgZMe+2www5T3+fiuO6nIowx4wNLWb7whS+kY/Za2mIMfb7+K5u3oZnu1lvcxsx3vGbSGGOMMcY0xiOTxhhjjDGmMTYmjTHGGGNMY2xMGmOMMcaYxtiYNMYYY4wxjbExaYwxxhhjGmNj0hhjjDHGNMbGpDHGGGOMaYyNSWOMMcYY0xgbk8YYY4wxpjE2Jo0xxhhjTGNsTBpjjDHGmMbYmDTGGGOMMY2xMWmMMcYYYxpjY9IYY4wxxjTGxqQxxhhjjGmMjUljjDHGGNMYG5PGGGOMMaYxNiYH4MUXXywWL15cXHXVVaVLuxD/2WefndIwM8Ouu+5aHH300eXZ/ODxxx9PeR5VvZ6NzMc8D8PJJ5+c+iX0Nt9566235l0fYUw/bEwOwDbbbFMejYYPPvigePDBB4t33nmndDHTzaJFi8qj+QHGwe2331488MADpcvw3HfffckoX7BgwdTDFzdgQZq6zp6HqOlkFHme6/zxH/9xcdRRRxWHHHJIKjdtM2Vcku5+++03JQfG7iuvvFJerQd18oYbbpiKJ6+HpKH447bDDjuUPuYX6Iu27MEOU8mEmVUsW7ZsYtTFsnLlyvLItMHmzZsnVq1aVZ6NJ9S5NvKwbt26iY5BnuoY8S1ZsiTFTb0Wy5cvn1i7dm06Xrp0aTqfCdrK83yBMluxYkXaKOdNmzaVV6aX9evXp7JDDkAO6hn1jrZYB+LAP3WP4yqUTtUW6/NcR/0b+lL+jclxrZhljNqYpIOcTx3hdEBHO+5GCXWujTxQt+INnWMZlC+88ELpOmkAYAzgPlP1sa08z3UoQ4x+tpkyICPUF+pUBEO3bnliCONXDzTdkDE538kf/qwTU4WnuecRTFOcdtpp5ZlpA6bGLrjggvJsfsM0I/Vr++23L12KdPytb30rHbOMA+64446ic4MqjjvuuKJjGCQ3M3u5++67i2eeeaa47LLLil122aV0nRmoYyxPYMo9cuSRR6b9XXfdlfbdoA889dRTU/1jatz0h/YqXcW2bUxkrI3JuG6GdRwXXXTRFmuzAD80BK134QUXFk/jnq+JEVyXG34grq/Ron32MXxclB3jEFpvght7ZMnl7QZpx3VmnAs1dtIkPuKVP60DohPebbfdik2bNqXOmOtR3jq6zIlpKT3ppopB9J2/jER+pTtkA/xIZuLot2YqyktchIk3lKjHSCw3rpFPYG3g3nvvnY4xKLke89+rzNrIX9P6RLyxTSi9nEHrBIZG1KfYcccd015rjk855ZTi85//fHHAAQdMxddPbvIadcl5DBPLjvzhB5mlszbyTFySA39skol08cemdOSvH4TJ80fdiuBH9QU/yEieBdc5x524kBWZFB/5B/JDHGyxPvZiu+22S/vXX3897WeSX/3qV2m/8847p72QkYPR24ubb745rUm/4oorSpfR0qsPqIJyVBkRJt+oA8bMSsoRyrGDqYo47bJmzZo0/K51NMDQPOs8NESPXw3Ta51MnIaLaApO/girNOJUCse4Va1DJC1N7clffk6cEaZwcI8QN/IgK5tkI1+cazqG9PCLbrR2LZ8Owl8+rVhHl1VouklyMR1CuDidmYO/Ovpmr7JCV+Q1dyMMbpKX9HuBf/xIXs6lC86lx6gf0kXeXDdCYZAn0qvMYNj8cR23fvUpB//UC8kW20TMQ9M6UQW6iDpVPSEurqHfXnUG/1Wy4Aax7HAjH2wqt7byTDwc44bchCXd6Iassf2x9YM0JRub9EPcgBt5iX5imoDMsZ7gHusO+idMXs966T2idkA4NuKtA+mSTt1Nee4GOsdfLDehtHqhPFA+UTZ0lusCWbiG3ihHjglflXYVlEFVmakPqIIwuo48+EfWurSt75w6Ojbzk7GtFTTqvJGpg6RjpfHSAeQNlzB5I6pqIOq0oj91LnlngixsEfyqoweO8xtLVVy5LOSFc/IjOMYtpsk5+Y+o84pwThqRfrrsBn7ohIX0E3VWRV19yy3mXWlE3QKy5PnK4XoeDh1FiDvGgwxVehWSJ5Zj3TIbJn9161MOceT50U0rhm1aJ3LIG3HVNVpyaL+kmYevujFzHvUr2syzyif3h1ueBmWEey+Uv1gH1EcpDfJaZZQiL/5ieXCe1x3y3y2N2N66gR/aOfnDiGxalm2gNlNVz5XPbqhdKnwsU/Sb1x2uE6fqGPpTvct1nKO0os45xq2qjlahvMY4Zpp+Ojbzl7Gc5mbKptNYi2OPPXaLKQBNcbz55ptpnQ/TGfvvv39yE9tuu2151B6sCUOeOO3Ep0fOOOOM8qwoLr/88uLtt99O0xia+qjDQw89lPZ8jkL51KcpSDOSr2fJp4KqqKPLbjz99NMpz0ypMTVz/PHHl1fapWqdjqbeBH76ferli1/8Ypre0jQgXH/99WnfjZNOOinph6lLTRX2CzNImUGT/DWpT+SZOD796U+XLpPstdde5dEkw9SJnO9+97upfeRp1OXee+9N+zz8WWedlfa33npr2otcD6PKc1U/kpejyrDXVDfyd27QW4Q95phjuFunPdDG8n4Mvv71r6c9fV0krzsipiH5n3jiibTvBnWLdv3Zz342tXf03rQsZxqVIfo+//zzp9Z/HnzwwcWVV16Zyj+WFdfvv//+qaUb6I+23zGqUz+iPqSKQfuAKh5++OGiY3huVa+MmY2MpTGphfydJ8rU6eYbncN7772X/EzHgnE6m86TbfGNb3wjnauTydPGiGGdGLLxPck6KB9V+WQbljq67IbWcbEYfs899yxuu+228srshJsz+VQnjey9bghAGWJQsIaJ9ZGsQ+u3Dm7UZSYGrU91jcBh6kQEI2innXaauhk34d133y2PtqSuQTPdeR4F3b47u8cee5RHo4F6/oUvfKG48MILpwzbmaaboQxPPfVUeTQ40mU/4xr08k+vutVGH8BDUP6ikTGzlbE0JrWQ/4033kj7CMZBvNn3u/G3BR0uT5wsnL/mmmuKr33ta+WVSTBcbrzxxuLJJ5/c4qm4H+o8q4yeOBLalEF0GcGQxLBidGzjxo3JYBjFqG/bYBQw2oDRwEgLowzkpReUFSMSlO/ChQvTh5t71atRlxk0rU+gG103mtaJCCN9jz322NQI4rBoVDiH8qjDdOS5KRgNVXUw1pVehlIvA2sYZFgddNBBad8EvQRUd+unZxl9zz33XNpHMLoZdezGRz7ykfKoO23pctg+QHoYdBS4bX0bU5exNCZpYIwEckPNbzIYchgMjIjAD37wg7QX77//fnnUm343nxymtJHpkksuSR1IfnNfvXp1MlwGnbI48MAD03758uVb3HA43rBhQ3nWnDq6rOLll19OI3aHH3546TIcg+q7CfENXvJ15513phsQeekGo3/SO2XKjYBRzV4jGKMuM2hSn3bfffe0J99RrpymdUIQ5ic/+Unf5QB10Kes8rdgJde5556b9t2Yrjw35cQTT0z7iy++OO0F9UwPZytWrEj1NDdCXnrppSQzSzFGQbc+dBB4cKsameu29dMz18lzPhKvt997ffqM9kvbrTLMf/7zn6e9PjEEGGbUhxylrbpVxbB9gPqXQUef29a3MbXpVKixRAvXOx1LWhTNYmUWB8eF8SwYxw8LnrmOPy2gXh8WnmuhM4uqcWfPgnPcuKYF50qTa1Uonhi3QE424kBGLc5H5rjAG1lxj4vcJTPXCEc65G1TuYA8LuyOi7WVhygP4ZADGYgX6ugyRy8wEB/+iEPpIWOvsHX1jQy4RV1UlUHUm3RSBfGRP/mRHDpnz3nUo3QtGZAXP7HMOJce8A/9ygyGyV+d+lSF8ow/xaU0SUPlJrdB6gQQjnjwn2+EbwJ6Qxa9QYzcuKn+gsoOeaOOgbTbyrPiim8zK23iqmp/xNsN/Ct/pEX8pB11Rfwqb7Vl9pzHuFU387qj+GM901veUYdVcB1/5K1XPqYTlROykT/0Qx7ZIior9oKyjGGB+NAlbShCGeBXZY1/tbMYZzei7rr1Ad2Q7PhFvly2mYD8kxfJlYO+uG7mJ2NrTAIdgzrKqs6Oyq8Onev4V4erThnwp44Df3S6avjEyXU1bm2xsxf4yzs0oQ6LsHQM8qv0IMbPFjssjvGLO+Fy4yZuVW6KS3LEdKGfLqtQx0p8dLi66aEb8teNOvqW3Nq4zpa7d8t/FdQF5ZGNY/mtigdIU7KyIW80JEB6yPNN2KoyA8WnbdD81alP3UB+yYXM+Ccu4ok3iUHrhG7U3Tby1wTyhmzKL7LEuLrpKNJGnmM9UDzd0s7deuWd/MnwkEyxHgEyqi9jQ0ZkFVV1B3I3/FXloxfoQDrBby7bTEDeVZ7oLBqHQjrJdR/LmI3jqrqNP3SuesdG/qPe+0HakpN0+rVNofrZrT5MJ+gmrzPSBbIJzsmrmZ8s4KdTMeYNrBFhzVunw/cQvzHG1IRpdj443zEuhnqpyhgz9xjrf8AxxhgzPejzRL3WChpj5ifzzphk0XrcG2OM6Q0vFS5fvjy9DDToG8bGmLnPvJrm5u28+OHnZcuWpbffjDHGdIe+k4/+z5bvTRpjZhfzbs2kMcYYY4xpD6+ZNMYYY4wxjbExaYwxxhhjGmNj0hhjjDHGNMbGpDHGGGOMaYyNSWOMMcYY0xgbk8YYY4wxpjE2Jo0xxhhjTGNsTBpjjDHGmMbYmDTGGGOMMY2xMWmMMcYYYxpjY9IYY4wxxjTGxqQxxhhjjGmMjUljjDHGGNMYG5PGGGOMMaYxNiaNMcYYY0xjbEwaY4wxxpjG2Jg0xhhjjDGNsTHZMi+++GJx9tlnF4sXLy5dppe33nqruOqqq2YsfTPJHXfcUSxYsKB4/PHHS5fZxzjIOFdB97vuuqt1XwP1p/Rto4S+m3ToP40xgzEnjEk65qOPPjrdGNnopOmAXnnlldLH9PHBBx8UDz74YPHOO++ULtPLzTffXNx4440zlr6ZZNttty2PpgduhNR96n1dpltGMwn91a233lps2rSpdDG9WLRoUXk0GBiG++23X20jdJtttimPjDEDMzHGvPDCCxNLly6dWLJkycS6detK10n35cuXT5C9tWvXlq7Tx7Jly1LaM8WqVatmNP1xYfPmzUlXc4GVK1ememfGg/Xr16c2yt40gzrfDe4HHSM0tXFTH/rDzkNOedY+qvfD9FWjltE0Y2xHJnnaPPzww9PT/ZNPPlkcc8wx5ZWi2GuvvdLTf8egLE455ZR0bEwOo7hzBdrBj3/84/LMmLkN/f/q1avLs6355S9/WTzyyCPF9ttvX7qYOjCrtcsuu5Rn7XPwwQczylHcf//9pcvgjFpG04xWjUkauKab2TP1NiouvvjiNJV75ZVXdu0wrrjiirRn6m/U623MeEHdvOCCC8qz8YcHJt84zXzhnHPO6bmU5/LLL0+DCqY+3LfPPPPM8mx2Mg4yzlsmByjbQVPL2kY17cbUhdLoN9ytKedu090ado+b0HQxm6ajmD5hWl3u5Jlp9Ui3aW7CMi3PNaZgVqxYsYX8pIGbpmcUT5zCrwI5JRN7lUNO7o/zOtNA+GFKCbkISx6kD66tWbMmuREfesYf5+SNcKSFf44JH6enRiGTIC5dR5fED+gTt7jhFyhL6Z2NeHP9k3Yud/ST5zsSl2CwcRz95GGJV+lEvQFyUF8UF/6UDyB8t/o0jIxVEEbxgXTP1qbcEHUi+fI2GInlqXRIQ25cB9Ki/qouoyOFJT2lQX6UN+p+HZCZeImLcMp/rlfiU97YV8WPbDH/cUP+fvpT2eAmWfAHdXVVRd2wpBX7DPSqsOwlC8S8COkxbqJX3nr1R7lMEa5JBvzjp9/yqUHyCE3SEOSLMGzEwXlVWKWvTeTunBM+nkOsc6SRQz51nQ0dR2J4Xatyi2krnSoZzexia4tjCGJhaxsFVLq68dO48Me+G4qPBpxDODVM+VMHr3NuZhFV/Ahh6CjUYNhzzqYGgxsyEJaGSbo0Nt0EqlAHpHhJh/B5+shI3EpL/qrynIMf5ZnwkpFjNsVFGhwjE37oQKP+yQ+6kXExKplAusvjFiq7eOOgQ0eXKk/CEgduEdIiP/hnwz9xqQxivuUGuONWJbfKOIZFT8hHHHJTXQR0iXy5HMQBhFP8eX0aRsYqiEPpkxZxs0d3uKnMYRi5uYa75NO5yqwbKn/iE+QNN92YOJc/4kNm4pcb/sgX8kQZJXc38I+/KLP0wrEgPeKXXqrKHPljOPacox8RZcv1p/CSWeeSDeroqht1wvbTM/kWMS8R4srd+uUNd+lU5Ug8pB9lirJTDuiuqlxinc4ZJI9N0xAKC6prpC9UR2KanMd8Slc58hfj5DivB7jFOpiHEbhHf1xX/QRkZMOd8FV138xOWi0Z3RS09et4mqLGUadiqQL2k0WNN1Z+GnUMR2eMn3jz4HoeN+dRNjUMdWpCDT82coXNG2EV0kN+k1c5CKWT3/SU59hgc7hGZx6RHiR3VWclpP88jVHLRLq5nyifZMafQOfc5GM55R2Y5KZuCKUdy0HhSEfQYVI2EdWNqo44xid/UV7yF+NTnmKaverTMDJW0U1uGU7S2TByS9f92mCO0oj6A9zysLjlN3HJU1XuUe4c/JP/PD4ZFQorHcf4OcYt6p24cnnz9g6SN9cfchBHBH9RL4PoKqduWPnL9UJe8zSUl0iVW528cYxbVf9SJTt9Rh4nICd+c/1G6uZxmDQAf7Fvi8eqVzFPcos6yOMA9XVciyB7dOM491OVLuAvdyM+0sZdMiltdCgIm8toZg+trpn8kz/5k6JTMdIx+07lSMczyXvvvZf2++67b9p342tf+1raX3PNNWkPDz30UHHaaaeVZ0V6yaejs6kXfFgX+sADD5RXu0M8sMcee6S9OPnkk9NnL6oWktdZYHz77benfXz5CPbZZ5/yaJJ777037fM1RGeddVba85mSbhD2mWeeSWtVtB177LHpWv7ppZ133rk82podd9yxPJpk1DKddNJJ6aUUdKy1u9dff33adwOdv/3220kGvv/HWtt8XSVyUbfj+kTVi7wcIsiAPHnZkGbHGEjX8m8Oxk/3VNWHp59+OtVD8nzRRRcVxx9/fHlla+rUpyYyVhH1QFjKAF5++eW0H0bupm1wULbbbrvyaEtiuat8nnjiibSvgrbP2r5PfvKTpcskeV+gPmKHHXaYqtMcA3oXixcvLjZu3FieTdK5yZZHW5Prj7WE1HHWkN9www3pM2ozSa7nYeQZJG95f9QN6tj+++9fnn3I17/+9bS/++67074X/fI4bBrf+ta30j2EeCD2c/Rh1I/zzz+/dPnQTe2Sdkgd+8QnPpHOxWOPPZb2eX2L53yTk7B5f/3mm2+WRx9C34Hfgw46qHSZTDu2X8lEfMjICzvQTUYze2jVmKSj5S0tOnv2o1oArQoG/V7yefbZZ9N+zz33TPtu6IZJo6TiAhValVvcd999qTOgoWEsy3juhQzaKqo6kbpIzn68++675dGW1CkfwpJHyjTfhnkjb9QyUZ4YnNx8995772R01DGEqE/4pYM+7rjjWnsg4vuj3ciNt7pw0+TGcNRRR6X6fdttt5VXmjEKGSF/yBhW7iZtcKZ47bXXyqPeqI+oqtNs4vvf/34ymDCWgD7gzjvvLFauXJnO64ABcMABB6Q0+SbuXKLtvHV7ySd/GBiGYdPgHrVixYr05ZJ4T6C/w1DTCyvohocUiAahjNX8Xse9MO//ZNQpTt6spv3FezLoASsajrhFAxGeeuqptCfeaPBGuaGbjGb2MLafBqLxQK9RCW5aXGf078gjjyxdu3PuueemPZ+M4SkvjkoCboyA3XPPPenpb1Bj+aWXXiqPtgT5hoF81qGb4b1w4cLyaGu4lj+ZCj0JD8MoZcKgpJzo/AhzyCGH9DQokYXPTZ144onJKO020kidqtJ5HX0899xz5dHWDPLRZNLH6MWwQBd0sm19hLwtGXMIO6zcw7bBmeL9998vj6rR6FXVA2KsV9RJjPCbbropGQZLly5ND8GMytUBIx4DgM+pcfPORy7HmVHlTQZPFd1GsAdl2DRoCxh11A0hg47ZFerKww8/nB5M8kEA3PMHMvWT0RgEzdyhXxmWRxxxRHKLUA654YhblA80ohllUn2PaVfJaGYXY2tMfvOb30xG2Le//e3KDhj4fBAw8lHnsylUfCosT2Tf+c53tjJAqfikOegNjClXuPrqq9M+Qidy4YUXlmeDoan7ftMgMoo1miFkyMmIrkLf8qSjjhC214hrP0YtE0/hMvi4qdBB0bn1mpLESGSU4MADDyxdtgZDE1S3BPH3MoqoW6TPKFJeXzHeqHeD1CumjBl5RRdt0ZaMKkPBjYB4CTus3E3bYBV1H8KG4WMf+1ja/+hHP0r7bqjOYRhGuTjesGFDeTbZXtAlSwUwDDDK6xqSQN+GATroZ6SG0dV06Bma5q0XDFrQJ0SDHhgYoB6qbx+GpmnQx8V2Sp9Kv5i33fXr129lRBIW8Eu/lw+csISKehaNQQxMdLx27drSpRriRg5mdwRhcfvMZz5TukxC2vnoZ9UUd5WMkOfVzCCdSja2sAi/U+nS4uW4mBj3Tqe8lXsdqhZhC+LUNfyxsFrpsxi/01jSonnc8BdfEsAvbiwgxg8bx7yMoEX37DnHX3yJoRv4J202vTSCDJ2b/pSckkHxRn+4IUMvokzsiZO8kIbQYmnclBdB/FzLF6HDKGXCjWvKv8pV9YE4FB5d418vRVDO+MdNuiQcbjFtruEHeWPaoHwrb6AXNghPXoHrlF9VXYlhua4047nkRz7VT8LjFmWtqk/DyFgFuiAs8aoeEBY3dAfDyl2nDXaDcPhVupIXN5Ute9xIR0R5og6Ut371VXUIWYmLTWWsugYqD+ThOvLFcgDiIq/steGPTf566Y+wbOSfa5KDeHATkqOXrrpRJyzXcMv1jB/kU/wxL1H3kpsy4Ji818mbdMy1HPzkMsV4VU7slU4v6uaxaRrkJdY9jolbEK/yL+SmdJRn3GNYjmM4/OOPsozgJ4ZTWef+5A6KN6YdUfgqfzEt9SVRv2bmGGtjEmiQVDx1OGxUOBpWXknrQlxq6BEqL3GTBhWd+OmUYqOXDNpio6LjU3jCIGNMp1fYbiADjUlxEkYNMXZEpCNZ8YscdeIHwiKrwpKe5CYOyatNIEN0V+cgRiUTSAdKm7jRfyTebAjLpjD4pwPVDSHefJQ27qTPtZh2nu+YJ+KMdRW5400yD8t5Nx1LfmQgb9QFjpWfPEyUYxgZuyE52atciEc3LjGM3HXaYDe4LrlUnpxTlsQr+eMGuRv+cv1x3g3yJBnxS3rUK9XJWHeIW/lDd7nelX/5iRvx99NfrgP8kw7xxbT66aoXTfQsY6WOG0gPxKty75e3XmWWyxSvxT6WjTgpv14MkkdomgZ5jvHl5NfRRSTKiQxQJWe8npPXxSrUX8br6DhvNzFt6aZKRuCY8lYdMzPLAn46hWSMMUPB9Bbrs9yljA6WdvC1gXyan+m+zk01LQ+JU5PGDIrbsWnC2K6ZNMaY+QRr6lgrWbVelHXBS5YsKXbffffSxZhm8KLMivIFV2PqYmPSGNMKegucT/eY9uFFHF5e4g14dMxLDWwc48Znltp8+cTMP7q9KGNMPzzNbYwZGn2/TixbtmyrT5CY4WF0krddebsVFi1alAxJ/nRhLn3mx0w/eRtmdDJ+AN2YXtiYNMYYY4wxjfE0tzHGGGOMaYyNSWOMMcYY0xgbk8YYY4wxpjE2Jo0xxhhjTGNsTBpjjDHGmMbYmDTGGGOMMY2xMWmMMcYYYxpjY9IYY4wxxjTGxqQxxhhjjGmMjUljjDHGGNMYG5PGGGOMMaYxNiaNMcYYY0xjbEwaY4wxxpjG2Jg0xhhjjDGNsTFpjDHGGGMaY2PSGGOMMcY0xsakMcYYY4xpjI1JY4wxxhjTGBuTxhhjjDGmMTYmjTHGGGNMY2xMGmOMMcaYxtiYNMYYY4wxjbExaYwxxhhjGmNj0hhjjDHGNMbGpDHGGGOMaYyNSWOMMcYY0xgbk8YYY4wxpjE2Jo0xxhhjTGNsTBpjjDFzmHfffbe49957y7P5x6233loemVFhY9KYEfDKK68UZ599dnH00UeXLsYYM/1gSJ5++unFo48+WrrMP1588cXi8MMPL8/MKLAxaUyLyIhcsmRJsXr16tLVGGNmhssuu6xYuHBhce2115Yu8w/yjg5OPPHE0sW0jY1JY1rirbfeSobkZz7zmWLz5s2lqzHGzAzXXXddmt6eC4bksLM9t9xyS/HCCy/M6+n+UWJj0piW2H777Yv777+/OPjgg9OxMcbMFK+++moalbzkkkvSqNy40tZsj0ZnmfJHN6ZdbEwaY4wxcwwMyb333rs47bTTSpfxo+3ZnhNOOCEZlejGtIuNSWOMMWYO8Ytf/CK9wfylL32pdBlPRjHbw0gtuvHoZLvYmDTGGGPmED/84Q/TqCQjcWZLGKndeeedPTrZMjYmjTHGmDkCI268ZPKpT32qdDE5GNkenWwXG5PGGGPMHAEjiW9LjvNayVHDVDf4ze72sDFpjDHGzBE0xc1UrqmGl3A81d0uNiaNMcaYOQDfUWTq1lPc/WGqmxFcT3W3g41JY0YAf98FGzduTHtjjBk1mrZlZNL05tBDD017T3W3g41JY1rkoosuKvbbb7+pznzTpk3F4sWL07823HHHHcnNGGNGAQ+xTOEedthhpYvphnQ0n/+zvE0WTHQoj42Zcfg+GoZY3X9s4KnSn78wxsx3mLJdtGhR6j+ff/750nXugKFM3vgnnLZmfD7+8Y+npQHvvPNO7XuOqcYjk2ZWQIPmT/hZEM1xHeg88UsHyhuMxhgzX1G/OddGJUc52yNd1b3nmO7YmDQzDg358MMPL/baa6/ikUceqd0Z8iR56aWXpjDnnXdeOjbGzC3oHwa52TO7MR+RjuhH5xKXX3558fTTTxdMomp7++230z/jnHzyyaWvZvz+7/9+2tuYHB4bk2YgeBLkiXDBggVTG+ePP/546WMwGF3kj/f5JlpTY1DTOoxqejG1MXMD+gZmK3hQHOSNW4xJ+qXrrruudJkf6KU/T9fWR59P8rrJ4bExaWrBH+5jNPKn+xh+ekJcuXJl8cADDxTvv/9+6XMw6PC5Uegjsk2hU0AuDFNjzHhDn8B6Ntr1T3/604HWRfNQ+pvf/CZ9bxFDdL6A8Q2aDjb90SyYdGeGoGMQjA2H/usXJoov/2KLbbfLn5z4yr0bSx9mVCxbtmxi0aJFEy+88ELpMsnmzZt5gSvtm9C5WUx0bhTl2XC88847SZZbbrmldDFm5vidC9anPurmP//r0qUZl97/aopn3+88W7rMLjZt2jSxYsWKiSVLlqT2x8Yxbk2gHXdu8hOdh8PSpRnqDzrGaOkyc0gv2sSqVau2cKefbQp9aYy7LmvXrk3ltX79+tJl/qA6snDhwtLFNGWsRib/7r/9f+XRh/z6b/9z8d1fvFF85v94uXQxbXPDDTek0ccLL7xwq/U422+/fRqhZD8oTEcxAvG5z32udBkOpnfYfvazn5UuZly57IH/q1j63eeKBec9mrY/uOKp4syf/FV5dTz4u/+6dX/VhP/7vf9aHs0+WPaydOnStIbtwQcfTH0BL0hwzjq3JjBbwRq2YWcr6Au+/OUvz4rZCnQCvCwY1+edf/75SX/QMb6LH//4x+m4CfSlmratA2W36667FqeccsqUfE1hmRNLC5oud5opdM/wyOTwjOU097/6Z/+kmLj20GLjRfsXhy6ZXB+y9rm/SXvTPldffXXqBM8444zSpR3UqfbqAFkHxCJrrc/kLT7OX3nlldLHljDFM18X4M8V/sVNf1Fcev+rxbOvf1C6TD40/pv/8NfFv33y/yld2uOrP9uUDNbDfjC55szUA8MBQ4T2iGGyyy67JHf2GEZHHXVUOh8UpqeZfhzEMOoGBimGwmxZP4lO4gM5/dszzzxTrF27trj++usbPZTDIGtK4aqrripee+214sknn0xLleYzqmc2KIdjrNdMLtnht4s/+N3fLs8m+emGzVM3BkYyON7mwg+flnBjlCOOeDAKEiEOwssPN7dNm/9zeXUyjo9c8h+m4s6vX/voG1NpcD2OqPSLm7BxRIZ0CB/9TCf33XdfemrlhtG0o+tGnQXjvOUNmzdvTqMejI7eeeedxQcffGhoROgY6BTqdAwyUOtuZvTQFv/spbfS8XF7bF889r/vnR4c/92/3KPY9/e2Se5t80E5glg182GqYQ01a5R5yPzmN79Zun4Ib+CyDQoPmBhGbf0dIH0LfcJMv2Dxq1/9Ku3VnwH93x/+4R8W69atG/qtZPV3vfrSCCOibPTp2223Xek6vxnUIDdbMtbG5PpX3it+sXGyEf2Tbf9R2r/z9/9v2j+66d00kgGabmIqHDdGOQTHjIIwOgEYe5/98a9SeMHNbdXDr6djxfHX7/+3dE7cXP/kjRvSOTJ95d5NU2lwHf/EC+fc/eut4r7+l2+mYwxJwsYRGdIh/Bl3zMwU3y9/+cu0P+6449J+FHTrABn54GOydMAyZOkAodvnL+p2poBxOshmRs+/Lw3J3f6H3y7+/ec/Vhyyy+SN7sQ9dyie+co+xb884H9K5zxc8SCmhzo2HtLiyKVGHHkYY+PBjnMe1tQeOVY/QbvTddBDHwauHg7VTzR56EO2GIaNNCSLyGX9q7/ZOs5B86+8sG+Dhx56KD1k8nDX5kOmZhV6tWMMWV4EZJZCD3q9viiBMTnTsxXqRw888MC0R1YMyXvuuac45phjklsbDNL/mUmss3YYS2OSzp+O8RP/+oUpo+2sgz6S9hFGNpgKZ3QDI09T4V85bMeu0+R0xhiA3MwIhx+m1YEOXP5uPvmfpjjwgyGLHNwUJA9uSltpgIxQRlpi3HB1abBKbuLXdQxQ8jDdPPvss2l/wAEHpL1grU23Ubv800FsPHlrJLIuu+++exr5uOmmm7aY1u5l2OkJfbqnLPL89tpMd/QgddiuvTt4Ht54EFN7AtrIGXf85ZRxphFH+gs2PVSSBg913fidf/QP0l4jlTxsql0TZ9OHPh4aYxhA5igLBmAua3z4FIPmX3G0Nfr6ne98J+1POumktG8LtdtebySfc845aX0m08P0BevXr09rul966aXSx5YQF/HW6ROq2muvrS7IS1+24447pilm3jLHkGzrm5DT3d/NRazD4RjrkUnAUPvuCUuKS5ZNfnw0wsgGU+GMbuhmAN/51JK059pn9/sf07E6Ze25mREOPzf+r3+Qtkc3fWjM0WnLoFWYV9/+Lx15tkuGKG67Xv5UcfF9r6Y0GFkBDEX4X/7tS+mG8D9v91tT8ige/JIukK6IeZgu6KQhH31grY2IC8pBi8jXrFmTOntGMOj4r7zyyuQu9ETYrRGTJuuICM8idTrhfiiuNtZbDQL5rLuZ4WCkkLbwO7/1D7Z6qIOqdZV6gGQPamuMduqBjWl0/Pzi3C1v8EqHB7wLjvi9xg99Z//zj6S+SmE4BskCelilX8Mf+cqn94fJ/7VlmsPAyCDtmTapdZJt8d57/R+YWeYS0z744IOLZcuWFXvssUc670adacyq9tprq4P0xSzLDjvsUFxwwQXJfa59XNzMb8b6BRw2Ov7zDp28Qcw02/33/zAZgT8/c8/UedO5a7SA0QzAwL306J3TDYIbAqMe4/wmOp143im+8cZkXjWlQ6d/5plnpptA5NBDD037Xp08I5p0xOzphBn17AWGbd3vrFWNNPTazOxAbzf/09/9x1PT3od0Hvz0oBaNM6Ct6YFNe8inl7txyj6/m9KhbbM1fejjIfPhX79bHNJ5AOVBlNHNHMXNAyhxk699dvyd5CaGyT/+huXllyf7q/wFG17Cie2l6uEPtzir0a89V0Gfw0hfnNbm31AwKnsxU9OZevBetWpVWvuN/PRp3ablBevV+RtB6YrjQWd3RgFlKJm0HXLIIeka+/xat0GA3N+otn54mrsdxn5ksi6L/vE/LI8mp5KAaesfPf2f0jEdPWiKi7WYGmHAP+uO5Ac0IhA3OnZGBZjqOqFzo3nzsn821cG//J/+Pu1Ze/V7C38rjYhgVMJflTcfRhqAm5zWXpGuYNRzuqHjA56uI+ogjzjiiLSP/Pmf/3naRyPzueeem4pL9PpfVG5M/CcrYIwyQqkPpHeDUUm2un/HyMjCIJsZPRpde+6Nv0v7UaL11dPF8h/+x62mpseRJ554Iu3zFzd44NObwcuXL59a3ywwhu666670P/q0J4yrvD0rzl5TjoRjvSSGC2sn874pp1dc04HWSx500EFptuUb3/hGOr/99tvTvgr6vlNPPbX46le/mnTFVD4GaLcXD6cTyjX2i5IP2OfX8nogcn+j2vox0/VjrjBvjElGETRdxHcpGRlgGlpriVb888k1l5r2ZnSBKWz84R8O6TzVKw5Nc8dNEKfCcvMAprOBeBWWUUnQDZQRECAMsuGH9U7ANY2CTCdf/OIX0/7iiy+e6rR5YqajAzrIHP4rOxqhfKeSUUnFJXgiZDqaT4HkbNiwoVi9evXU0ztrJhmNWLKk+zQdi+zpGNp6E9RMP3r4Yq0gL5jogY4HLL1gsk350PWXf/P3U1O6+FNb+4Pw0DcI7/+XSeOy39rkpg99MiJZL83Dpx4mI+oL9JCLLHrJUIwq/21y7rnnlkeTYByxXIV+QCOIrLfMHzA1q9BrtoKHVB5mMSp56Nxtt916GpT0CfQzdZa+VI1s9drqoPWSyrem5enfqj5xRv96xRVXFLfddtvUW96Eoe/rNvrq0bXhsQ6HY6yMSY0a9iKOQObc+dnd0xS5OmxgbRKjjJoqZ3SRtUxTI5WdjpsbHGuloCoO0A2GGwn+dY4//GtNZwyruK8r1zExVcYNJo6Acozb7f/b7qXL9MKbhny6gg8Qs96HEYE/+7M/Sx1d7CAjdJ6MONDZEoa/QyOOqrcWr7322jQymY9O7rnnnsX+++8/NW3CGik6Uxatd+N73/teGpWsOzJpZh+0M9V/jCM9lLHGWA9+rD2k7fCSSr52GXc9GNYlPugR13kV08+Rpg996hPIC2H0MBmhPwDyGvMVaTv/g6IHyKr1jbR9iP0CBhPGEd+ejGssOWZ6OtJrtoJ4GN0ERvgY8aIfYi2ipt6rGGTpSz6q1W/rB0YuI4r0ZRGNTt59991pH+Ghm/4u7y83btxYHm2NDCGPsg2OdGZjckg6DcKY1ti0aRM97ETHeCxd+sPfKe68887lWTM6Rmn6S6znn3++dDHjysa//fuJf3XnX6a/So1/m4qbeGzTuxPH/ZsNU39ZyJ5z3AV/s1r1N4SK89/9n39bukyksHJXOvr71piu6BiCW8mHWyT/O0XSUxjJq/PIKT/6j1NhkZ1wOhbD5L8NOsZO+ntV/QUf7Z6/T6TtL8v+EnDNmjXJHT916Bh+lX9vR59CPMQH/IWr0uwWN3+lyPWZ+ktF/V3i8uXLS5cPwR0dxr+i7Ri+yZ2/OByEYf4WENmapBmhHhCH6sM4wb0H2X/zm9+ULqYJNiZNq9Ah0TAH/a/uww47LN1EBm3QdKIYknQIs+E/eI2ZD8iQwxiivWNc0vYxTGTsCdzwV5dHHnkkxck+gqGiuLjOhuHa68GVfoVtJlBfqA3DUsjIZEN3MoZleGNUDgqGZF1jkvjRXdSlZMkfBuowzsak8m6Gwxo0rUJH1LRhNjEKuVGcdtppfqo0ZpZCnzCogUKbbmu2IjdKZzMyMpvAwzhhecCebsbVmOS+gdzozgzHvHkBx4wePgGhtzObfPLjy1/+ctFp3AOteeRln1tuuWXavytpjKlHx6Db6gUZXqzTyyVV0KZZ5/jxj3984L+5Yw0c/8XNGmriGaQ/mWn0NnvUF8d8Tqkf6Blm4m8BWSPbsSe6viA0W9F6Sd8/hsfGpGmN+MmIfGH9IKhTHFf4Fhw3Sr3xyUtLnFe9uWnMXOeEE07Y4ruK7I8//vhin332Sefd4MW9z33uc+nvVO+9997StT+nn3568bOf/Sw9aJL2OHHkkUem/c0335z29Bk8mNcxJjG+oerlJVONdGVjcnhsTBrTMtz8gA8UY1jz/8V8EmU2fCPOmOmGByk+43Paaaelhyu+0MDbzXX+ilGzFYMYhRihGJLjaCDwhjtfvuB7nOhKn0LLP6tWRZ0/gTBbopFJ6c40x8akMS3CqAufKsGg1F9Q6qO9/vs0M1+hDfBpmzhzET8TZD6ETwLxKTbpiuOqz6rlaDp/NvxLTl0YeY2zOPnGd0Tr0HQ26NFHJ78PrVFd0xwbk8a0yO67756+v3nTTTdt0ZFxUzDGmFHB8iBGY/nzhnGBf0ziA/f0j2vWrElumtFhwyCsQ9PZIKa5pTczHDYmjWkRRiP568dNmzalDw93+19aY4xpG0Ynmbodl6luRh710g7LE+gzNaNTl6azQeiIbZxe0JrN2Jg0pmV4muaFA/YXXHBBozfbjTFmULT2b5xGJwVfAtE/HFURp7/j2+5NZ4P08g0veZnhsTFpTEvwlM1/EAPrwRihZBpHn0syxphRoheVtBZwXNCb/p/4xCfSvgpeTNI+jl42nQ364Q9/mPZeL9kONiaNaYkNGzYUq1evnuoYeUrmv4r1RqYxxowS1v9hUA7yKaXZwBNPPJH2jDJ24/XXX0/7qpeRmswGMTKJrrxesh1sTBrTEnvuuWf65AmfPmEqhqdkDMl77rmn9GGMMaPlU5/61Fitm4SHH3447XutceRzT8uWLSvPJmk6G4SxjX48xd0eNiaNaQmeivnkid5EfPvtt1Nn508CGWOmC77nyWjbZZddVrqMB5rBwTis+iQQszxHHHFEeTZJ09kgPmrPKK5fvmkPG5PGGGPMHIIRN0bf9FHu2Q4GMGse+aefnXbaKT2YR/iOJG9sH3TQQaXLJE1mg9AJuvnSl7409v+2NptYMNHvlSdjjDHGjA0YTLzhfO2116Z/ERp3GKk85ZRT+r6hXYdLL700/W87/6xkY7I9PDJpjDHGzCEwkjAkx22quxuPPfZYGnUcFoxsDEmPSraPjUljjDFmjsGIJGsnzzvvvNJlPOGbkoxMDvox8yquu+66pJO5MFo72/A0tzHGGDMH4Y3lj370o8Xzzz8/tt9T5DM/ejt77dq1W62nrAsfcj/99NPTP+3425LtY2PSGGOMmaNgRJ144onzeo0g09v83SLT27zsY9rHxqQxxhgzh2F6l8/h8K3G+QgjkvzVpA3J0WFj0hhjjJnjMOU9X//thZFJv3AzWmxMGmOMMcaYxvhtbmOMMcYY0xgbk8YYY4wxpjE2Jo0xxhhjTGNsTBpjjDHGmMbYmDTGGGOMMY2xMWmMMcYYYxpjY9IYY4wxxjTGxqQxxhhjjGmMjUljjDHGGNMYG5PGGGOMMaYxNiaNMcYYY0xjbEwaY4wxxpiGFMX/D+Yllp338ckpAAAAAElFTkSuQmCC)"
      ],
      "metadata": {
        "id": "o3dm2Y94QI2K"
      }
    },
    {
      "cell_type": "code",
      "execution_count": null,
      "metadata": {
        "colab": {
          "base_uri": "https://localhost:8080/"
        },
        "id": "okiMBJr17XdR",
        "outputId": "4cf7af6a-5b4d-4d31-dff7-a8c2be6e7816"
      },
      "outputs": [
        {
          "output_type": "stream",
          "name": "stdout",
          "text": [
            "\u001b[?25l     \u001b[90m━━━━━━━━━━━━━━━━━━━━━━━━━━━━━━━━━━━━━━━━\u001b[0m \u001b[32m0.0/455.1 kB\u001b[0m \u001b[31m?\u001b[0m eta \u001b[36m-:--:--\u001b[0m\r\u001b[2K     \u001b[91m━━━━━━━━━━━━━━━━━━━━━━━━━━━━━━━━━━━━━\u001b[0m\u001b[91m╸\u001b[0m \u001b[32m450.6/455.1 kB\u001b[0m \u001b[31m14.1 MB/s\u001b[0m eta \u001b[36m0:00:01\u001b[0m\r\u001b[2K     \u001b[90m━━━━━━━━━━━━━━━━━━━━━━━━━━━━━━━━━━━━━━\u001b[0m \u001b[32m455.1/455.1 kB\u001b[0m \u001b[31m11.7 MB/s\u001b[0m eta \u001b[36m0:00:00\u001b[0m\n",
            "\u001b[?25h"
          ]
        }
      ],
      "source": [
        "! pip install -qq control"
      ]
    },
    {
      "cell_type": "code",
      "source": [
        "import numpy as np\n",
        "import control as ct\n",
        "import matplotlib.pyplot as plt\n",
        "import sympy as sp"
      ],
      "metadata": {
        "id": "1CgBgVtH7uwc"
      },
      "execution_count": null,
      "outputs": []
    },
    {
      "cell_type": "code",
      "source": [
        "def calcula_zpk(G):\n",
        "  z = ct.zero(G) # zeros\n",
        "  p = ct.pole(G) # polos\n",
        "  K = ct.dcgain(G) # ganho estacionário\n",
        "  print('zero = ', z)\n",
        "  print('polo = ', p)\n",
        "  print(f'ganho = {K:1.3f}')\n",
        "  if len(p)<2:\n",
        "    # apenas para sistemas de primeira ordem\n",
        "    print(f'constante de tempo = {1/abs(p[0]):1.3f}')\n",
        "\n",
        "def caracteristica_2ordem(G):\n",
        "  num, den = ct.tfdata(G) # fornece o numerador e denominador de uma FT\n",
        "  deng = den[0][0] # representa o denominador (den = a*s**2 + b*s + c)\n",
        "  tau = np.sqrt(deng[0]/deng[2]) # periodo natural: sqrt(a/c)\n",
        "  xi = (deng[1]/deng[2])/(2*tau) # fator de amortecimento: (b/c) / (2*tau)\n",
        "  print(f'Período natural = {tau:1.3f}')\n",
        "  print(f'Fator de amortecimento = {xi:1.3f}')\n",
        "  if np.real(xi) < 1.0 and len(num)>1:\n",
        "    # apenas para sistemas subamortecidos e sem dinâmica no numerador\n",
        "    tp = np.pi*tau/np.sqrt(1-xi**2) # tempo de pico (quando surge o overshoot)\n",
        "    ts = 7*tau/xi # tempo de assentamento (reposta alcança o estado estacionário)\n",
        "    OS = np.exp(-np.pi*xi/np.sqrt(1-xi**2)) # Overshoot (elevação em relação ao valor final)\n",
        "    DR = OS**2 # taxa de decaimento das oscilações\n",
        "    print(f'%Overshoot = {100*OS: 1.3f}')\n",
        "    print(f'Decay ratio = {DR:1.3f}')\n",
        "    print(f'Tempo de pico = {tp:1.3f}')\n",
        "    print(f'Tempo de assentamento = {ts:1.3f}')\n",
        "\n",
        "def resposta_degrau(G):\n",
        "  plt.figure(figsize = (5,3))\n",
        "  # resposta ao degrau unitário (deve-se usar o tempo-morto)\n",
        "  t, y = ct.step_response(G)\n",
        "  plt.plot(t,y)\n",
        "  plt.xlabel('Tempo, t')\n",
        "  plt.ylabel('Saída do sistema, y')\n",
        "  plt.title('Resposta ao degrau unitário')\n",
        "  plt.grid()"
      ],
      "metadata": {
        "id": "f8HJYDzMaYvW"
      },
      "execution_count": null,
      "outputs": []
    },
    {
      "cell_type": "code",
      "source": [
        "# Processo\n",
        "s = ct.tf('s')\n",
        "Gp =1/s\n",
        "print(Gp)\n",
        "\n",
        "# Parametros da resposta em malha fechada\n",
        "tau = 1.0\n",
        "xsi = 0.65"
      ],
      "metadata": {
        "colab": {
          "base_uri": "https://localhost:8080/"
        },
        "id": "iYY338nb7-KM",
        "outputId": "ae44dd6a-2c6e-4ade-fdbd-d5b7a6f9028f"
      },
      "execution_count": null,
      "outputs": [
        {
          "output_type": "stream",
          "name": "stdout",
          "text": [
            "\n",
            "1\n",
            "-\n",
            "s\n",
            "\n"
          ]
        }
      ]
    },
    {
      "cell_type": "code",
      "source": [
        "# Fazendo a malha fechada de modo símbolico\n",
        "Kc, tauI, s = sp.symbols('K_c, tau_I, s')\n",
        "\n",
        "# Controlador\n",
        "Gc = Kc*(1+1/(tauI*s))\n",
        "\n",
        "# Processo\n",
        "Gp_ = 1/s\n",
        "\n",
        "\n",
        "# Malha fechada\n",
        "G = Gc*Gp_/(1+Gc*Gp_)\n",
        "G.expand().simplify()"
      ],
      "metadata": {
        "colab": {
          "base_uri": "https://localhost:8080/",
          "height": 55
        },
        "id": "zuraIfT29FO2",
        "outputId": "2e637e64-1f93-482a-cee6-0d51e786e0ba"
      },
      "execution_count": null,
      "outputs": [
        {
          "output_type": "execute_result",
          "data": {
            "text/plain": [
              "K_c*(s*tau_I + 1)/(K_c*s*tau_I + K_c + s**2*tau_I)"
            ],
            "text/latex": "$\\displaystyle \\frac{K_{c} \\left(s \\tau_{I} + 1\\right)}{K_{c} s \\tau_{I} + K_{c} + s^{2} \\tau_{I}}$"
          },
          "metadata": {},
          "execution_count": 8
        }
      ]
    },
    {
      "cell_type": "markdown",
      "source": [
        "O sistema em malha fechada deve ser colocado na forma padrão, tal que\n",
        "$ G(s) = Z(s)/(\\tau s^2 + 2\\tau \\xi s + 1)$.\n",
        "\n",
        "Para colocar nesta forma, basta dividir por $Kc$ o numerador e o denominador."
      ],
      "metadata": {
        "id": "66nNcxdO-odL"
      }
    },
    {
      "cell_type": "code",
      "source": [
        "# Mostrando as operações do denominador\n",
        "den = Kc/tauI*s**2 + tauI *s + 1\n",
        "den"
      ],
      "metadata": {
        "colab": {
          "base_uri": "https://localhost:8080/",
          "height": 56
        },
        "id": "rk0mAZdB_bq1",
        "outputId": "77e3ff95-517e-404a-fe31-372a3e7e33c3"
      },
      "execution_count": null,
      "outputs": [
        {
          "output_type": "execute_result",
          "data": {
            "text/plain": [
              "K_c*s**2/tau_I + s*tau_I + 1"
            ],
            "text/latex": "$\\displaystyle \\frac{K_{c} s^{2}}{\\tau_{I}} + s \\tau_{I} + 1$"
          },
          "metadata": {},
          "execution_count": 9
        }
      ]
    },
    {
      "cell_type": "code",
      "source": [
        "# Comparando termo a termo\n",
        "tauI = 2*xsi*tau # 2 xsi tau = tauI\n",
        "Kc = tauI\n",
        "\n",
        "(Kc, tauI)"
      ],
      "metadata": {
        "colab": {
          "base_uri": "https://localhost:8080/"
        },
        "id": "-c30awE4-b3U",
        "outputId": "d94a2b61-5ac0-4036-9b93-260af85656b8"
      },
      "execution_count": null,
      "outputs": [
        {
          "output_type": "execute_result",
          "data": {
            "text/plain": [
              "(1.3, 1.3)"
            ]
          },
          "metadata": {},
          "execution_count": 13
        }
      ]
    },
    {
      "cell_type": "code",
      "source": [
        "# Vamos fechar a malha com estes valores:\n",
        "# Controlador\n",
        "Gc = Kc*(1+1/(tauI*s))\n",
        "\n",
        "# Processo\n",
        "Gp = 1/s\n",
        "\n",
        "# Malha fechada\n",
        "G = Gc*Gp/(1+Gc*Gp)\n",
        "G = ct.minreal(G)\n",
        "print('y/yset = ')\n",
        "print(G)"
      ],
      "metadata": {
        "colab": {
          "base_uri": "https://localhost:8080/"
        },
        "id": "whXlqq5nBVdr",
        "outputId": "60dbdf18-497f-4c67-9292-14dc0e907000"
      },
      "execution_count": null,
      "outputs": [
        {
          "output_type": "stream",
          "name": "stdout",
          "text": [
            "2 states have been removed from the model\n",
            "y/yset = \n",
            "\n",
            "   1.3 s + 1\n",
            "---------------\n",
            "s^2 + 1.3 s + 1\n",
            "\n"
          ]
        }
      ]
    },
    {
      "cell_type": "code",
      "source": [
        "calcula_zpk(G)\n",
        "caracteristica_2ordem(G)\n",
        "resposta_degrau(G)"
      ],
      "metadata": {
        "colab": {
          "base_uri": "https://localhost:8080/",
          "height": 421
        },
        "id": "L2dKjDODCeRW",
        "outputId": "79d8ec42-625e-49e0-c5ef-92877f88a794"
      },
      "execution_count": null,
      "outputs": [
        {
          "output_type": "stream",
          "name": "stdout",
          "text": [
            "zero =  [-0.76923077+0.j]\n",
            "polo =  [-0.65+0.75993421j -0.65-0.75993421j]\n",
            "ganho = 1.000\n",
            "Período natural = 1.000\n",
            "Fator de amortecimento = 0.650\n"
          ]
        },
        {
          "output_type": "display_data",
          "data": {
            "text/plain": [
              "<Figure size 500x300 with 1 Axes>"
            ],
            "image/png": "[encoded data removed]"
          },
          "metadata": {}
        }
      ]
    },
    {
      "cell_type": "code",
      "source": [
        "# Calculo do offset frente a um degrau unitário em yset\n",
        "K = G.dcgain() # ganho estacionario da malha fechada\n",
        "yset = 1.0\n",
        "off_set = yset - K\n",
        "off_set"
      ],
      "metadata": {
        "colab": {
          "base_uri": "https://localhost:8080/"
        },
        "id": "mYO6H7H3H5Ot",
        "outputId": "cdde417b-2311-46d3-c82b-e52b1671969a"
      },
      "execution_count": null,
      "outputs": [
        {
          "output_type": "execute_result",
          "data": {
            "text/plain": [
              "-2.220446049250313e-16"
            ]
          },
          "metadata": {},
          "execution_count": 18
        }
      ]
    }
  ]
}
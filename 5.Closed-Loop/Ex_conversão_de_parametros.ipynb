{
  "nbformat": 4,
  "nbformat_minor": 0,
  "metadata": {
    "colab": {
      "provenance": [],
      "authorship_tag": "ABX9TyODHcofxPQdfLRVcjictgDx",
      "include_colab_link": true
    },
    "kernelspec": {
      "name": "python3",
      "display_name": "Python 3"
    },
    "language_info": {
      "name": "python"
    }
  },
  "cells": [
    {
      "cell_type": "markdown",
      "metadata": {
        "id": "view-in-github",
        "colab_type": "text"
      },
      "source": [
        "<a href=\"https://colab.research.google.com/github/juliosdutra/Controle_de_Processos_UFES/blob/main/5.Closed-Loop/Ex_convers%C3%A3o_de_parametros.ipynb\" target=\"_parent\"><img src=\"https://colab.research.google.com/assets/colab-badge.svg\" alt=\"Open In Colab\"/></a>"
      ]
    },
    {
      "cell_type": "code",
      "source": [
        "# Ajustando o tamanho da fonte de saída das células: OPCIONAL\n",
        "from IPython.display import HTML\n",
        "shell = get_ipython()\n",
        "\n",
        "def adjust_font_size():\n",
        "  display(HTML('''<style>\n",
        "    body {\n",
        "      font-size: 25px;\n",
        "    }\n",
        "  '''))\n",
        "\n",
        "if adjust_font_size not in shell.events.callbacks['pre_execute']:\n",
        "  shell.events.register('pre_execute', adjust_font_size)"
      ],
      "metadata": {
        "id": "n0ZSalM_nVVk"
      },
      "execution_count": null,
      "outputs": []
    },
    {
      "cell_type": "markdown",
      "source": [
        "# Conversão da forma paralela do PID para a forma em série"
      ],
      "metadata": {
        "id": "9sFWpiEqbdBW"
      }
    },
    {
      "cell_type": "code",
      "source": [
        "import sympy as sp"
      ],
      "metadata": {
        "id": "Lczmkp58Xrsx"
      },
      "execution_count": null,
      "outputs": []
    },
    {
      "cell_type": "code",
      "source": [
        "Kc, tauI, tauD, s = sp.symbols('Kc, tau_I, tau_D, s')"
      ],
      "metadata": {
        "id": "PR3uYktNBk2E"
      },
      "execution_count": null,
      "outputs": []
    },
    {
      "cell_type": "code",
      "source": [
        "Gc_serie = Kc * ((tauI*s+1)/(tauI*s)) * (tauD*s + 1)\n",
        "Gc_serie"
      ],
      "metadata": {
        "colab": {
          "base_uri": "https://localhost:8080/",
          "height": 55
        },
        "id": "sunyX8rOb2Bp",
        "outputId": "72557245-8902-4508-9a5c-aff0312868e9"
      },
      "execution_count": null,
      "outputs": [
        {
          "output_type": "execute_result",
          "data": {
            "text/plain": [
              "Kc*(s*tau_D + 1)*(s*tau_I + 1)/(s*tau_I)"
            ],
            "text/latex": "$\\displaystyle \\frac{Kc \\left(s \\tau_{D} + 1\\right) \\left(s \\tau_{I} + 1\\right)}{s \\tau_{I}}$"
          },
          "metadata": {},
          "execution_count": 9
        }
      ]
    },
    {
      "cell_type": "code",
      "source": [
        "Gc_serie.expand()"
      ],
      "metadata": {
        "colab": {
          "base_uri": "https://localhost:8080/",
          "height": 54
        },
        "id": "c_DRVBd2cMzL",
        "outputId": "cf63f984-a022-46b7-cbbd-76c2b32e3eea"
      },
      "execution_count": null,
      "outputs": [
        {
          "output_type": "execute_result",
          "data": {
            "text/plain": [
              "Kc*s*tau_D + Kc*tau_D/tau_I + Kc + Kc/(s*tau_I)"
            ],
            "text/latex": "$\\displaystyle Kc s \\tau_{D} + \\frac{Kc \\tau_{D}}{\\tau_{I}} + Kc + \\frac{Kc}{s \\tau_{I}}$"
          },
          "metadata": {},
          "execution_count": 13
        }
      ]
    },
    {
      "cell_type": "markdown",
      "source": [
        "Rearranjando para a forma pararela:\n",
        "$$ K_c \\Biggl(\\frac{ \\tau_I+\\tau_D}{\\tau_I}\\Biggr)+ K_c \\Biggl( \\frac{ 1}{\\tau_I s}\\Biggr) + K_c \\tau_D s $$\n",
        "\n",
        "$$ K_c \\Biggl(\\frac{ \\tau_I+\\tau_D}{\\tau_I}\\Biggr) \\Biggl[1 + \\frac{1}{( \\tau_I+\\tau_D)s} + \\frac{ \\tau_I \\tau_D}{\\tau_I+\\tau_D} s\\Biggr] $$\n",
        "\n",
        "$$ K_c \\biggl( 1+\\frac{\\tau_D}{\\tau_I} \\biggr) \\Biggl[1 + \\frac{1}{( \\tau_I+\\tau_D)s} + \\frac{ \\tau_D}{1+ \\frac{\\tau_D}{\\tau_I}} s\\Biggr] $$"
      ],
      "metadata": {
        "id": "KeRb1Sohcw7I"
      }
    },
    {
      "cell_type": "markdown",
      "source": [
        "Dessa forma,\n",
        "\n",
        "$$K_c ^\\dagger = K_c \\biggl( 1+\\frac{\\tau_D}{\\tau_I} \\biggr)$$\n",
        "\n",
        "$$\\tau_I ^\\dagger = \\tau_I+\\tau_D $$\n",
        "\n",
        "$$\\tau_D ^\\dagger =  \\frac{ \\tau_D}{1+ \\frac{\\tau_D}{\\tau_I}}$$"
      ],
      "metadata": {
        "id": "cK3XMNeaftLM"
      }
    },
    {
      "cell_type": "markdown",
      "source": [
        "Sabendo que $1+\\frac{\\tau_D}{\\tau_I} \\geq 1$, pode-se ver que a forma em série torna menores os ganho propocional e a constante de tempo integral e maior a constante de tempo derivativo, quando comparada a forma em paralelo.\n",
        "\n",
        "Assim,\n",
        "\n",
        "$$ K_c ^\\dagger \\geq K_c$$\n",
        "\n",
        "$$ \\tau_I ^\\dagger \\geq  \\tau_I $$\n",
        "\n",
        "$$ \\tau_D ^\\dagger \\leq \\tau_D $$"
      ],
      "metadata": {
        "id": "zO6xPna7gnO2"
      }
    },
    {
      "cell_type": "markdown",
      "source": [
        "Quais são as magnitudes dessas relações quando $K_c=4$, $\\tau_I=10$, e $\\tau_𝐷=2$?"
      ],
      "metadata": {
        "id": "4lWifveqjTQN"
      }
    },
    {
      "cell_type": "markdown",
      "source": [
        "$K_c ^\\dagger = 4 \\biggl( 1+\\frac{2}{10} \\biggr) = 4.8$\n",
        "\n",
        "$\\tau_I ^\\dagger = 10+2 = 12 $\n",
        "\n",
        "$\\tau_D ^\\dagger = \\frac{ 2}{1+ \\frac{2}{10}} = 1.67$"
      ],
      "metadata": {
        "id": "utbyvlVwjvod"
      }
    },
    {
      "cell_type": "markdown",
      "source": [
        "# Simulação de uma malha fechada (OPCIONAL NESTE EXEMPLO)\n",
        "\n",
        "Considere o processo $G_p = \\frac{5}{2s+1}$ em malha fechada com PID nas formas em pararelo e em série."
      ],
      "metadata": {
        "id": "j0GCNd59mZ3u"
      }
    },
    {
      "cell_type": "code",
      "source": [
        "! pip install -qq control"
      ],
      "metadata": {
        "colab": {
          "base_uri": "https://localhost:8080/",
          "height": 17
        },
        "id": "_EbVSN7smswW",
        "outputId": "c2e3b73b-b605-4ade-c8c0-bacb4c685658"
      },
      "execution_count": null,
      "outputs": [
        {
          "output_type": "display_data",
          "data": {
            "text/plain": [
              "<IPython.core.display.HTML object>"
            ],
            "text/html": [
              "<style>\n",
              "    body {\n",
              "      font-size: 25px;\n",
              "    }\n",
              "  "
            ]
          },
          "metadata": {}
        }
      ]
    },
    {
      "cell_type": "code",
      "source": [
        "import numpy as np\n",
        "import control as ct\n",
        "import matplotlib.pyplot as plt"
      ],
      "metadata": {
        "colab": {
          "base_uri": "https://localhost:8080/",
          "height": 17
        },
        "id": "7A3gL7xpmwlu",
        "outputId": "2ae923cb-c8f4-4e15-86ae-ebc5001fb611"
      },
      "execution_count": null,
      "outputs": [
        {
          "output_type": "display_data",
          "data": {
            "text/plain": [
              "<IPython.core.display.HTML object>"
            ],
            "text/html": [
              "<style>\n",
              "    body {\n",
              "      font-size: 25px;\n",
              "    }\n",
              "  "
            ]
          },
          "metadata": {}
        }
      ]
    },
    {
      "cell_type": "code",
      "source": [
        "s = ct.tf('s')\n",
        "\n",
        "# Processo\n",
        "Gp = 5/(2*s+1)\n",
        "Gp"
      ],
      "metadata": {
        "colab": {
          "base_uri": "https://localhost:8080/",
          "height": 56
        },
        "id": "csmg9ujQnny-",
        "outputId": "5856aae4-b401-49a7-940b-40a8b92abf28"
      },
      "execution_count": null,
      "outputs": [
        {
          "output_type": "display_data",
          "data": {
            "text/plain": [
              "<IPython.core.display.HTML object>"
            ],
            "text/html": [
              "<style>\n",
              "    body {\n",
              "      font-size: 25px;\n",
              "    }\n",
              "  "
            ]
          },
          "metadata": {}
        },
        {
          "output_type": "execute_result",
          "data": {
            "text/plain": [
              "TransferFunction(array([5]), array([2, 1]))"
            ],
            "text/latex": "$$\\frac{5}{2 s + 1}$$"
          },
          "metadata": {},
          "execution_count": 43
        }
      ]
    },
    {
      "cell_type": "markdown",
      "source": [
        "**Série**:  $K_c=4$, $\\tau_I=10$, e $\\tau_𝐷=2$"
      ],
      "metadata": {
        "id": "Bej7T153mkam"
      }
    },
    {
      "cell_type": "code",
      "source": [
        "# Serie\n",
        "Kc, tauI, tauD = 4.0, 10.0, 2.0\n",
        "Gc_serie = Kc * ((tauI*s+1)/(tauI*s)) * (tauD*s + 1)\n",
        "Gc_serie"
      ],
      "metadata": {
        "colab": {
          "base_uri": "https://localhost:8080/",
          "height": 58
        },
        "id": "OZHNqa69mgjM",
        "outputId": "3c92498f-a0b4-49d0-96b1-9c0f74ffbf53"
      },
      "execution_count": null,
      "outputs": [
        {
          "output_type": "display_data",
          "data": {
            "text/plain": [
              "<IPython.core.display.HTML object>"
            ],
            "text/html": [
              "<style>\n",
              "    body {\n",
              "      font-size: 25px;\n",
              "    }\n",
              "  "
            ]
          },
          "metadata": {}
        },
        {
          "output_type": "execute_result",
          "data": {
            "text/plain": [
              "TransferFunction(array([80., 48.,  4.]), array([10.,  0.]))"
            ],
            "text/latex": "$$\\frac{80 s^2 + 48 s + 4}{10 s}$$"
          },
          "metadata": {},
          "execution_count": 44
        }
      ]
    },
    {
      "cell_type": "code",
      "source": [
        "# Malha fechada (Serie)\n",
        "G_serie = Gc_serie*Gp/(1 + Gc_serie*Gp)\n",
        "G_serie = ct.minreal(G_serie, verbose=False)\n",
        "ts, ys = ct. step_response(G_serie)"
      ],
      "metadata": {
        "colab": {
          "base_uri": "https://localhost:8080/",
          "height": 17
        },
        "id": "a_cUY7nBnx9g",
        "outputId": "71682276-1c08-45d7-cbad-ad5658b38e2f"
      },
      "execution_count": null,
      "outputs": [
        {
          "output_type": "display_data",
          "data": {
            "text/plain": [
              "<IPython.core.display.HTML object>"
            ],
            "text/html": [
              "<style>\n",
              "    body {\n",
              "      font-size: 25px;\n",
              "    }\n",
              "  "
            ]
          },
          "metadata": {}
        }
      ]
    },
    {
      "cell_type": "markdown",
      "source": [
        "**Paralelo**:  $K_c=4.8$, $\\tau_I=12$, e $\\tau_𝐷=1.67$"
      ],
      "metadata": {
        "id": "Hbwc-82Tqy1f"
      }
    },
    {
      "cell_type": "code",
      "source": [
        "# Paralelo\n",
        "Kc, tauI, tauD = 4.8, 12.0, 1.67\n",
        "Gc_par  = Kc * (1 + 1/(tauI*s) + tauD*s)\n",
        "Gc_par"
      ],
      "metadata": {
        "colab": {
          "base_uri": "https://localhost:8080/",
          "height": 58
        },
        "id": "Gs4g9doroUWY",
        "outputId": "0b7ac1f5-2a2f-4918-93d0-9d0821076e6c"
      },
      "execution_count": null,
      "outputs": [
        {
          "output_type": "display_data",
          "data": {
            "text/plain": [
              "<IPython.core.display.HTML object>"
            ],
            "text/html": [
              "<style>\n",
              "    body {\n",
              "      font-size: 25px;\n",
              "    }\n",
              "  "
            ]
          },
          "metadata": {}
        },
        {
          "output_type": "execute_result",
          "data": {
            "text/plain": [
              "TransferFunction(array([96.192, 57.6  ,  4.8  ]), array([12.,  0.]))"
            ],
            "text/latex": "$$\\frac{96.19 s^2 + 57.6 s + 4.8}{12 s}$$"
          },
          "metadata": {},
          "execution_count": 52
        }
      ]
    },
    {
      "cell_type": "code",
      "source": [
        "# Malha fechada (Paralelo)\n",
        "G_par = Gc_par*Gp/(1 + Gc_par*Gp)\n",
        "G_par = ct.minreal(G_par, verbose=False)\n",
        "tp, yp = ct. step_response(G_par)"
      ],
      "metadata": {
        "colab": {
          "base_uri": "https://localhost:8080/",
          "height": 17
        },
        "id": "i0yVIq4Poox3",
        "outputId": "616d225b-fce4-4b82-9ca8-a76357ec3583"
      },
      "execution_count": null,
      "outputs": [
        {
          "output_type": "display_data",
          "data": {
            "text/plain": [
              "<IPython.core.display.HTML object>"
            ],
            "text/html": [
              "<style>\n",
              "    body {\n",
              "      font-size: 25px;\n",
              "    }\n",
              "  "
            ]
          },
          "metadata": {}
        }
      ]
    },
    {
      "cell_type": "markdown",
      "source": [
        "**Resultado gráfico**"
      ],
      "metadata": {
        "id": "2CrGxui3rrGp"
      }
    },
    {
      "cell_type": "code",
      "source": [
        "plt.plot(ts,ys, '.-', label = 'serie')\n",
        "plt.plot(tp,yp, '-', label = 'paralelo')\n",
        "plt.axhline(y = 1, color = 'red', linestyle = '--', label = 'setpoint')\n",
        "plt.xlabel('Tempo')\n",
        "plt.ylabel('Var. Controlada')\n",
        "plt.legend()\n",
        "plt.grid()"
      ],
      "metadata": {
        "colab": {
          "base_uri": "https://localhost:8080/",
          "height": 449
        },
        "id": "wj5mSHUioUst",
        "outputId": "0f494bca-00e4-4eaa-ba25-ef65980f9e7d"
      },
      "execution_count": null,
      "outputs": [
        {
          "output_type": "display_data",
          "data": {
            "text/plain": [
              "<IPython.core.display.HTML object>"
            ],
            "text/html": [
              "<style>\n",
              "    body {\n",
              "      font-size: 25px;\n",
              "    }\n",
              "  "
            ]
          },
          "metadata": {}
        },
        {
          "output_type": "display_data",
          "data": {
            "text/plain": [
              "<Figure size 640x480 with 1 Axes>"
            ],
            "image/png": "[encoded data removed]"
          },
          "metadata": {}
        }
      ]
    },
    {
      "cell_type": "markdown",
      "source": [
        "Como esperado as respostas ao teste servo são coincidentes, o que confirma as expressões encontradas para os parâmetros."
      ],
      "metadata": {
        "id": "Sg3oDa1AqQ5_"
      }
    },
    {
      "cell_type": "code",
      "source": [],
      "metadata": {
        "id": "pq-ZngNqpPm-"
      },
      "execution_count": null,
      "outputs": []
    }
  ]
}
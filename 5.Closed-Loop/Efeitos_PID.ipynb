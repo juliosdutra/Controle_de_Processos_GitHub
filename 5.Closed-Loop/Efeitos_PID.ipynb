{
  "nbformat": 4,
  "nbformat_minor": 0,
  "metadata": {
    "colab": {
      "provenance": [],
      "authorship_tag": "ABX9TyPmuXWi5heOL/NHxeY+C6VA",
      "include_colab_link": true
    },
    "kernelspec": {
      "name": "python3",
      "display_name": "Python 3"
    },
    "language_info": {
      "name": "python"
    }
  },
  "cells": [
    {
      "cell_type": "markdown",
      "metadata": {
        "id": "view-in-github",
        "colab_type": "text"
      },
      "source": [
        "<a href=\"https://colab.research.google.com/github/juliosdutra/Controle_de_Processos_UFES/blob/main/5.Closed-Loop/Efeitos_PID.ipynb\" target=\"_parent\"><img src=\"https://colab.research.google.com/assets/colab-badge.svg\" alt=\"Open In Colab\"/></a>"
      ]
    },
    {
      "cell_type": "code",
      "execution_count": null,
      "metadata": {
        "colab": {
          "base_uri": "https://localhost:8080/"
        },
        "id": "okiMBJr17XdR",
        "outputId": "4cf7af6a-5b4d-4d31-dff7-a8c2be6e7816"
      },
      "outputs": [
        {
          "output_type": "stream",
          "name": "stdout",
          "text": [
            "\u001b[?25l     \u001b[90m━━━━━━━━━━━━━━━━━━━━━━━━━━━━━━━━━━━━━━━━\u001b[0m \u001b[32m0.0/455.1 kB\u001b[0m \u001b[31m?\u001b[0m eta \u001b[36m-:--:--\u001b[0m\r\u001b[2K     \u001b[91m━━━━━━━━━━━━━━━━━━━━━━━━━━━━━━━━━━━━━\u001b[0m\u001b[91m╸\u001b[0m \u001b[32m450.6/455.1 kB\u001b[0m \u001b[31m14.1 MB/s\u001b[0m eta \u001b[36m0:00:01\u001b[0m\r\u001b[2K     \u001b[90m━━━━━━━━━━━━━━━━━━━━━━━━━━━━━━━━━━━━━━\u001b[0m \u001b[32m455.1/455.1 kB\u001b[0m \u001b[31m11.7 MB/s\u001b[0m eta \u001b[36m0:00:00\u001b[0m\n",
            "\u001b[?25h"
          ]
        }
      ],
      "source": [
        "! pip install -qq control"
      ]
    },
    {
      "cell_type": "code",
      "source": [
        "import numpy as np\n",
        "import control as ct\n",
        "import matplotlib.pyplot as plt\n",
        "import sympy as sp"
      ],
      "metadata": {
        "id": "1CgBgVtH7uwc"
      },
      "execution_count": null,
      "outputs": []
    },
    {
      "cell_type": "code",
      "source": [
        "def calcula_zpk(G):\n",
        "  z = ct.zero(G) # zeros\n",
        "  p = ct.pole(G) # polos\n",
        "  K = ct.dcgain(G) # ganho estacionário\n",
        "  print('zero = ', z)\n",
        "  print('polo = ', p)\n",
        "  print(f'ganho = {K:1.3f}')\n",
        "  if len(p)<2:\n",
        "    # apenas para sistemas de primeira ordem\n",
        "    print(f'constante de tempo = {1/abs(p[0]):1.3f}')\n",
        "\n",
        "def caracteristica_2ordem(G):\n",
        "  num, den = ct.tfdata(G) # fornece o numerador e denominador de uma FT\n",
        "  deng = den[0][0] # representa o denominador (den = a*s**2 + b*s + c)\n",
        "  tau = np.sqrt(deng[0]/deng[2]) # periodo natural: sqrt(a/c)\n",
        "  xi = (deng[1]/deng[2])/(2*tau) # fator de amortecimento: (b/c) / (2*tau)\n",
        "  print(f'Período natural = {tau:1.3f}')\n",
        "  print(f'Fator de amortecimento = {xi:1.3f}')\n",
        "  if np.real(xi) < 1.0 and len(num)>1:\n",
        "    # apenas para sistemas subamortecidos e sem dinâmica no numerador\n",
        "    tp = np.pi*tau/np.sqrt(1-xi**2) # tempo de pico (quando surge o overshoot)\n",
        "    ts = 7*tau/xi # tempo de assentamento (reposta alcança o estado estacionário)\n",
        "    OS = np.exp(-np.pi*xi/np.sqrt(1-xi**2)) # Overshoot (elevação em relação ao valor final)\n",
        "    DR = OS**2 # taxa de decaimento das oscilações\n",
        "    print(f'%Overshoot = {100*OS: 1.3f}')\n",
        "    print(f'Decay ratio = {DR:1.3f}')\n",
        "    print(f'Tempo de pico = {tp:1.3f}')\n",
        "    print(f'Tempo de assentamento = {ts:1.3f}')\n",
        "\n",
        "def resposta_degrau(G):\n",
        "  plt.figure(figsize = (5,3))\n",
        "  # resposta ao degrau unitário (deve-se usar o tempo-morto)\n",
        "  t, y = ct.step_response(G)\n",
        "  plt.plot(t,y)\n",
        "  plt.xlabel('Tempo, t')\n",
        "  plt.ylabel('Saída do sistema, y')\n",
        "  plt.title('Resposta ao degrau unitário')\n",
        "  plt.grid()"
      ],
      "metadata": {
        "id": "f8HJYDzMaYvW"
      },
      "execution_count": null,
      "outputs": []
    },
    {
      "cell_type": "code",
      "source": [
        "# Processo\n",
        "s = ct.tf('s')\n",
        "Gp =1/s\n",
        "print(Gp)\n",
        "\n",
        "# Parametros da resposta em malha fechada\n",
        "tau = 1.0\n",
        "xsi = 0.65"
      ],
      "metadata": {
        "colab": {
          "base_uri": "https://localhost:8080/"
        },
        "id": "iYY338nb7-KM",
        "outputId": "ae44dd6a-2c6e-4ade-fdbd-d5b7a6f9028f"
      },
      "execution_count": null,
      "outputs": [
        {
          "output_type": "stream",
          "name": "stdout",
          "text": [
            "\n",
            "1\n",
            "-\n",
            "s\n",
            "\n"
          ]
        }
      ]
    },
    {
      "cell_type": "code",
      "source": [
        "# Fazendo a malha fechada de modo símbolico\n",
        "Kc, tauI, s = sp.symbols('K_c, tau_I, s')\n",
        "\n",
        "# Controlador\n",
        "Gc = Kc*(1+1/(tauI*s))\n",
        "\n",
        "# Processo\n",
        "Gp_ = 1/s\n",
        "\n",
        "\n",
        "# Malha fechada\n",
        "G = Gc*Gp_/(1+Gc*Gp_)\n",
        "G.expand().simplify()"
      ],
      "metadata": {
        "colab": {
          "base_uri": "https://localhost:8080/",
          "height": 55
        },
        "id": "zuraIfT29FO2",
        "outputId": "2e637e64-1f93-482a-cee6-0d51e786e0ba"
      },
      "execution_count": null,
      "outputs": [
        {
          "output_type": "execute_result",
          "data": {
            "text/plain": [
              "K_c*(s*tau_I + 1)/(K_c*s*tau_I + K_c + s**2*tau_I)"
            ],
            "text/latex": "$\\displaystyle \\frac{K_{c} \\left(s \\tau_{I} + 1\\right)}{K_{c} s \\tau_{I} + K_{c} + s^{2} \\tau_{I}}$"
          },
          "metadata": {},
          "execution_count": 8
        }
      ]
    },
    {
      "cell_type": "markdown",
      "source": [
        "O sistema em malha fechada deve ser colocado na forma padrão, tal que\n",
        "$ G(s) = Z(s)/(\\tau s^2 + 2\\tau \\xi s + 1)$.\n",
        "\n",
        "Para colocar nesta forma, basta dividir por $Kc$ o numerador e o denominador."
      ],
      "metadata": {
        "id": "66nNcxdO-odL"
      }
    },
    {
      "cell_type": "code",
      "source": [
        "# Mostrando as operações do denominador\n",
        "den = Kc/tauI*s**2 + tauI *s + 1\n",
        "den"
      ],
      "metadata": {
        "colab": {
          "base_uri": "https://localhost:8080/",
          "height": 56
        },
        "id": "rk0mAZdB_bq1",
        "outputId": "77e3ff95-517e-404a-fe31-372a3e7e33c3"
      },
      "execution_count": null,
      "outputs": [
        {
          "output_type": "execute_result",
          "data": {
            "text/plain": [
              "K_c*s**2/tau_I + s*tau_I + 1"
            ],
            "text/latex": "$\\displaystyle \\frac{K_{c} s^{2}}{\\tau_{I}} + s \\tau_{I} + 1$"
          },
          "metadata": {},
          "execution_count": 9
        }
      ]
    },
    {
      "cell_type": "code",
      "source": [
        "# Comparando termo a termo\n",
        "tauI = 2*xsi*tau # 2 xsi tau = tauI\n",
        "Kc = tauI\n",
        "\n",
        "(Kc, tauI)"
      ],
      "metadata": {
        "colab": {
          "base_uri": "https://localhost:8080/"
        },
        "id": "-c30awE4-b3U",
        "outputId": "d94a2b61-5ac0-4036-9b93-260af85656b8"
      },
      "execution_count": null,
      "outputs": [
        {
          "output_type": "execute_result",
          "data": {
            "text/plain": [
              "(1.3, 1.3)"
            ]
          },
          "metadata": {},
          "execution_count": 13
        }
      ]
    },
    {
      "cell_type": "code",
      "source": [
        "# Vamos fechar a malha com estes valores:\n",
        "# Controlador\n",
        "Gc = Kc*(1+1/(tauI*s))\n",
        "\n",
        "# Processo\n",
        "Gp = 1/s\n",
        "\n",
        "# Malha fechada\n",
        "G = Gc*Gp/(1+Gc*Gp)\n",
        "G = ct.minreal(G)\n",
        "print('y/yset = ')\n",
        "print(G)"
      ],
      "metadata": {
        "colab": {
          "base_uri": "https://localhost:8080/"
        },
        "id": "whXlqq5nBVdr",
        "outputId": "60dbdf18-497f-4c67-9292-14dc0e907000"
      },
      "execution_count": null,
      "outputs": [
        {
          "output_type": "stream",
          "name": "stdout",
          "text": [
            "2 states have been removed from the model\n",
            "y/yset = \n",
            "\n",
            "   1.3 s + 1\n",
            "---------------\n",
            "s^2 + 1.3 s + 1\n",
            "\n"
          ]
        }
      ]
    },
    {
      "cell_type": "code",
      "source": [
        "calcula_zpk(G)\n",
        "caracteristica_2ordem(G)\n",
        "resposta_degrau(G)"
      ],
      "metadata": {
        "colab": {
          "base_uri": "https://localhost:8080/",
          "height": 421
        },
        "id": "L2dKjDODCeRW",
        "outputId": "79d8ec42-625e-49e0-c5ef-92877f88a794"
      },
      "execution_count": null,
      "outputs": [
        {
          "output_type": "stream",
          "name": "stdout",
          "text": [
            "zero =  [-0.76923077+0.j]\n",
            "polo =  [-0.65+0.75993421j -0.65-0.75993421j]\n",
            "ganho = 1.000\n",
            "Período natural = 1.000\n",
            "Fator de amortecimento = 0.650\n"
          ]
        },
        {
          "output_type": "display_data",
          "data": {
            "text/plain": [
              "<Figure size 500x300 with 1 Axes>"
            ],
            "image/png": "[encoded data removed]"
          },
          "metadata": {}
        }
      ]
    },
    {
      "cell_type": "code",
      "source": [
        "# Calculo do offset frente a um degrau unitário em yset\n",
        "K = G.dcgain() # ganho estacionario da malha fechada\n",
        "yset = 1.0\n",
        "off_set = yset - K\n",
        "off_set"
      ],
      "metadata": {
        "colab": {
          "base_uri": "https://localhost:8080/"
        },
        "id": "mYO6H7H3H5Ot",
        "outputId": "cdde417b-2311-46d3-c82b-e52b1671969a"
      },
      "execution_count": null,
      "outputs": [
        {
          "output_type": "execute_result",
          "data": {
            "text/plain": [
              "-2.220446049250313e-16"
            ]
          },
          "metadata": {},
          "execution_count": 18
        }
      ]
    }
  ]
}
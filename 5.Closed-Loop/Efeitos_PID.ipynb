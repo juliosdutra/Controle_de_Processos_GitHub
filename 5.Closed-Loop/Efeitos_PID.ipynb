{
  "nbformat": 4,
  "nbformat_minor": 0,
  "metadata": {
    "colab": {
      "provenance": [],
      "authorship_tag": "ABX9TyNdT/ED4a7Fixhn9E7lflAt",
      "include_colab_link": true
    },
    "kernelspec": {
      "name": "python3",
      "display_name": "Python 3"
    },
    "language_info": {
      "name": "python"
    }
  },
  "cells": [
    {
      "cell_type": "markdown",
      "metadata": {
        "id": "view-in-github",
        "colab_type": "text"
      },
      "source": [
        "<a href=\"https://colab.research.google.com/github/juliosdutra/Controle_de_Processos_UFES/blob/main/5.Closed-Loop/Efeitos_PID.ipynb\" target=\"_parent\"><img src=\"https://colab.research.google.com/assets/colab-badge.svg\" alt=\"Open In Colab\"/></a>"
      ]
    },
    {
      "cell_type": "markdown",
      "source": [
        "# Instalar e importas as bibliotecas necessárias"
      ],
      "metadata": {
        "id": "BT7eWG6R4TB1"
      }
    },
    {
      "cell_type": "code",
      "execution_count": 5,
      "metadata": {
        "id": "okiMBJr17XdR"
      },
      "outputs": [],
      "source": [
        "! pip install -qq control"
      ]
    },
    {
      "cell_type": "code",
      "source": [
        "import numpy as np\n",
        "import control as ct\n",
        "import matplotlib.pyplot as plt\n",
        "import sympy as sp"
      ],
      "metadata": {
        "id": "1CgBgVtH7uwc"
      },
      "execution_count": 6,
      "outputs": []
    },
    {
      "cell_type": "markdown",
      "source": [
        "# Definir uma função para o controlador PID"
      ],
      "metadata": {
        "id": "AacuHT6Q4uCd"
      }
    },
    {
      "cell_type": "code",
      "source": [],
      "metadata": {
        "id": "n11G2yWK4xj-"
      },
      "execution_count": 6,
      "outputs": []
    },
    {
      "cell_type": "markdown",
      "source": [
        "# Implementar as funções de transferência"
      ],
      "metadata": {
        "id": "LIdDEqAR4glT"
      }
    },
    {
      "cell_type": "code",
      "source": [
        "s = ct.tf('s')\n"
      ],
      "metadata": {
        "id": "wUjA-uPH4mO5"
      },
      "execution_count": 7,
      "outputs": []
    },
    {
      "cell_type": "markdown",
      "source": [
        "# Implementar a malha fechada"
      ],
      "metadata": {
        "id": "AMuPnXQy4oA9"
      }
    },
    {
      "cell_type": "code",
      "source": [],
      "metadata": {
        "id": "WmncS9Hu40P4"
      },
      "execution_count": 7,
      "outputs": []
    },
    {
      "cell_type": "markdown",
      "source": [
        "# Executar os testes de desempenho"
      ],
      "metadata": {
        "id": "nyub7g7y40vA"
      }
    },
    {
      "cell_type": "code",
      "source": [],
      "metadata": {
        "id": "bLq-QGFe45qt"
      },
      "execution_count": 7,
      "outputs": []
    }
  ]
}
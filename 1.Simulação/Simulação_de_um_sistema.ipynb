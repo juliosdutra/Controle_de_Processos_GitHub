{
 "cells": [
  {
   "cell_type": "markdown",
   "metadata": {
    "id": "JhaJVr3Y9Ogn"
   },
   "source": [
    "# Simulação de um sistema de EDO\n",
    "\n",
    "Os modelos matemáticos representam uma aproximação de mundo do real. No caso de processos químicos, eles podem auxiliar em diversas tarefas do engenheiro, como projetar equipamentos, determinar a condição operacional ótima, analisar o comportamento dinâmico e propor estratégias de controle. Para isso, uma etapa fundamental é a simulação dos modelos com o auxílio do computador.\n",
    "\n",
    "Dada a diversidade da natureza matemática dos modelos, existem muitas técnicas numéricas para a resolução das equações. Aqui, será considerada apenas a integração numérica de um sistema de equações diferenciais ordinárias (EDO) de primeira ordem, em que a variável independente é o tempo:\n",
    "\n",
    "$$ \\frac{dx}{dt}=f(t,x,u)$$\n",
    "$$ x(t_0 )=x_0 $$\n",
    "\n",
    "em que $f( )$ representa um sistema de equações; $t$, a variável independente tempo;\n",
    " $x$, o vetor de variáveis dependentes ou de estado com a condição inicial $x_0$ em $t=t_0$; e $u$, o vetor de variáveis de entrada.\n",
    "\n",
    "Muitos problemas dinâmicos podem ser representados por este tipo de equação, como aqueles que envolvem tanques de mistura e reatores (batelada e tipo tanque agitado). De qualquer forma, equações de ordem superior podem ser reescritas na forma acima e sistemas de equações diferenciais parciais (EDP) podem ser transformados em um sistema de EDO, por exemplo, aplicando-se diferenças finitas.\n",
    "\n",
    "A solução deste tipo de problema no Python, pode ser feita em duas partes:\n",
    "\n",
    "* A primeira é a implementação de uma função com as equações $f(t,x,u)$, que aceita a variável independente, as variáveis dependentes e quaisquer parâmetros necessários e retorna os valores das derivadas $dx/dt$ das variáveis dependentes.\n",
    "* A segunda parte integra a função com o integrador solve_ivp da biblioteca SciPy (scipy.integrate) para calcular soluções das variáveis dependentes em um intervalo de tempo especificado, assumindo as condições iniciais fornecidas.\n",
    "\n",
    "Assim, a partir da condição inicial $x(t_0 )=x_0$, é possível conhecer o comportamento dinâmico das variáveis de estado $x(t), ∀ t>t_0$, considerando diferentes valores para a variáveis de entrada. É possível conhecer o perfil de resposta, a iteração entres a variáveis, o estado estacionário, sensibilidade das variáveis, o grau de não linearidade, entre outros."
   ]
  },
  {
   "cell_type": "markdown",
   "metadata": {
    "id": "qdc15UX4-XIX"
   },
   "source": [
    "# Exemplo de aplicação\n",
    "\n",
    "Considere o problema de um processo químico dado por um reator CSTR não adiabático encamisado, onde ocorre a reação $A → B$ de 1ª ordem (Seborg et al., 2011). Há 2 variáveis de estado: a concentração de reagente ($c_A$) e a temperatura do reator ($T$). As variáveis de entrada são: a vazão e concentração de alimentação de reagente ($q$ e $c_{Ai}$), mais a temperatura do refrigerante ($T_C$).\n",
    "\n",
    "\n",
    "<div style=\"text-align:center\">\n",
    "    <img src=\"https://github.com/juliosdutra/Controle_de_Processos_UFES/blob/main/imagens/exemplo_reator_seborg.png?raw=true\" width=\"400\" height=\"400\" alt=\"alt text\"/>\n",
    "    <p style=\"font-style: italic;\n",
    "              text-align:center;\n",
    "              font-size: 18px;\">\n",
    "        Representação do reator CSTR. <br>\n",
    "        Fonte: <a href=\"https://www.amazon.com.br/Process-Dynamics-Control-Dale-Seborg/dp/0470128674\">Seborg et al. (2011)</a>.\n",
    "    </p>\n",
    "</div>\n",
    "\n",
    "\n",
    "**Modelo dinâmico**\n",
    "\n",
    "A entrada está a temperatura $T_i$; e a corrente de produto flui a vazão $q$, com concentração $c_A$ e temperatura $T$. Os demais parâmetros do problema constantes são: volume $V$, calor específico ($c_P$), densidade ($\\rho$), entalpia $\\Delta H_R$, e coeficiente de troca térmica $UA$.\n",
    "\n",
    "$$ V \\frac{dc_A}{dt} = q(c_{Ai}-c_A )-Vkc_A$$\n",
    "$$ Vρc_P \\frac{dT}{dt} = qρc_P (T_i-T)+(-\\Delta H_R )Vkc_A-UA(T-T_C )$$\n",
    "$$ k=k_0 e^{-E/RT} $$\n",
    "\n",
    "\n",
    "\n",
    "\n",
    "\n",
    "**Parâmetros e condições nominais operacionais para o CSTR (Seborg et al., 2011).**\n",
    "\n",
    "Os valores dos parâmetros e condição inicial das variáveis podem vistos abaixo.\n",
    "\n",
    "\n",
    "|Parâmetro|Valor|Parâmetro|Valor|Variáveis|Valor|\n",
    "|:--      |:--  |:--      |:--  |:--      |:--  |\n",
    "|$V$|100 L|$-\\Delta H_R$|$5\\times10^4$ J/mol|$c_A(0)$|0.5 mol/L|\n",
    "|$\\rho$   |1000 g/L     |$k_0$|$7.2\\times 10^{10}$ 1/min|$T(0)$|350 K|\n",
    "|$c_P$    |0.239 J/(gK) |$E$|72747.5 J/mol|$q(0)$|100 L/min|\n",
    "|$T_i$    |350 K        |$R$|8.314 J/(molK)|$c_{Ai}$|1.0 mol/L|\n",
    "|$-$      |$-$          |$UA$|$5\\times 10^2$ J/(minK)|$T_C$|300 K|"
   ]
  },
  {
   "cell_type": "markdown",
   "metadata": {},
   "source": [
    "# Problema a ser resolvido"
   ]
  },
  {
   "cell_type": "markdown",
   "metadata": {
    "id": "3a7ZEhq-GwK-"
   },
   "source": [
    "Implemente o modelo no Python. Faça algumas simulações variando as condições operacionais das variáveis de entrada, usando testes do tipo $T_C+10K$ e $T_C-10K$. Verifique os resultados em saídas gráficas, como a mostrada aqui abaixo.\n",
    "\n",
    "<div style=\"text-align:center\">\n",
    "    <img src=\"https://github.com/juliosdutra/Controle_de_Processos_UFES/blob/main/imagens/exemplo_reator_seborg2.png?raw=true\" alt=\"alt text\"/>\n",
    "    <p style=\"font-style: italic;\n",
    "              text-align:center;\n",
    "              font-size: 18px;\">\n",
    "        Respostas do problema para os testes implementados. <br>\n",
    "        Fonte: O próprio autor.\n",
    "    </p>\n",
    "</div>"
   ]
  },
  {
   "cell_type": "markdown",
   "metadata": {
    "id": "xx99jDhMG5vX"
   },
   "source": [
    "# Implementação no Python"
   ]
  },
  {
   "cell_type": "markdown",
   "metadata": {
    "id": "Rz6nHgIsHCnP"
   },
   "source": [
    "## 1.\tImportação de bibliotecas e definição do modelo do processo"
   ]
  },
  {
   "cell_type": "code",
   "execution_count": 1,
   "metadata": {
    "id": "ph_37UBG9EYO"
   },
   "outputs": [
    {
     "ename": "ImportError",
     "evalue": "cannot import name 'bmat' from 'scipy.sparse.sputils' (C:\\Users\\julio\\anaconda3\\lib\\site-packages\\scipy\\sparse\\sputils.py)",
     "output_type": "error",
     "traceback": [
      "\u001b[1;31m---------------------------------------------------------------------------\u001b[0m",
      "\u001b[1;31mImportError\u001b[0m                               Traceback (most recent call last)",
      "Cell \u001b[1;32mIn[1], line 4\u001b[0m\n\u001b[0;32m      2\u001b[0m \u001b[38;5;28;01mimport\u001b[39;00m \u001b[38;5;21;01mnumpy\u001b[39;00m \u001b[38;5;28;01mas\u001b[39;00m  \u001b[38;5;21;01mnp\u001b[39;00m\n\u001b[0;32m      3\u001b[0m \u001b[38;5;28;01mimport\u001b[39;00m \u001b[38;5;21;01mmatplotlib\u001b[39;00m\u001b[38;5;21;01m.\u001b[39;00m\u001b[38;5;21;01mpyplot\u001b[39;00m \u001b[38;5;28;01mas\u001b[39;00m \u001b[38;5;21;01mplt\u001b[39;00m\n\u001b[1;32m----> 4\u001b[0m \u001b[38;5;28;01mfrom\u001b[39;00m \u001b[38;5;21;01mscipy\u001b[39;00m\u001b[38;5;21;01m.\u001b[39;00m\u001b[38;5;21;01mintegrate\u001b[39;00m \u001b[38;5;28;01mimport\u001b[39;00m solve_ivp\n\u001b[0;32m      6\u001b[0m \u001b[38;5;66;03m#%% definir modelo do processo\u001b[39;00m\n\u001b[0;32m      7\u001b[0m \u001b[38;5;28;01mdef\u001b[39;00m \u001b[38;5;21mreator_CSTR\u001b[39m(t,x,u):\n",
      "File \u001b[1;32m~\\anaconda3\\lib\\site-packages\\scipy\\integrate\\__init__.py:91\u001b[0m\n\u001b[0;32m      1\u001b[0m \u001b[38;5;124;03m\"\"\"\u001b[39;00m\n\u001b[0;32m      2\u001b[0m \u001b[38;5;124;03m=============================================\u001b[39;00m\n\u001b[0;32m      3\u001b[0m \u001b[38;5;124;03mIntegration and ODEs (:mod:`scipy.integrate`)\u001b[39;00m\n\u001b[1;32m   (...)\u001b[0m\n\u001b[0;32m     87\u001b[0m \u001b[38;5;124;03m   solve_bvp     -- Solve a boundary value problem for a system of ODEs.\u001b[39;00m\n\u001b[0;32m     88\u001b[0m \u001b[38;5;124;03m\"\"\"\u001b[39;00m  \u001b[38;5;66;03m# noqa: E501\u001b[39;00m\n\u001b[1;32m---> 91\u001b[0m \u001b[38;5;28;01mfrom\u001b[39;00m \u001b[38;5;21;01m.\u001b[39;00m\u001b[38;5;21;01m_quadrature\u001b[39;00m \u001b[38;5;28;01mimport\u001b[39;00m \u001b[38;5;241m*\u001b[39m\n\u001b[0;32m     92\u001b[0m \u001b[38;5;28;01mfrom\u001b[39;00m \u001b[38;5;21;01m.\u001b[39;00m\u001b[38;5;21;01m_odepack_py\u001b[39;00m \u001b[38;5;28;01mimport\u001b[39;00m \u001b[38;5;241m*\u001b[39m\n\u001b[0;32m     93\u001b[0m \u001b[38;5;28;01mfrom\u001b[39;00m \u001b[38;5;21;01m.\u001b[39;00m\u001b[38;5;21;01m_quadpack_py\u001b[39;00m \u001b[38;5;28;01mimport\u001b[39;00m \u001b[38;5;241m*\u001b[39m\n",
      "File \u001b[1;32m~\\anaconda3\\lib\\site-packages\\scipy\\integrate\\_quadrature.py:10\u001b[0m\n\u001b[0;32m      7\u001b[0m \u001b[38;5;28;01mimport\u001b[39;00m \u001b[38;5;21;01mwarnings\u001b[39;00m\n\u001b[0;32m      8\u001b[0m \u001b[38;5;28;01mfrom\u001b[39;00m \u001b[38;5;21;01mcollections\u001b[39;00m \u001b[38;5;28;01mimport\u001b[39;00m namedtuple\n\u001b[1;32m---> 10\u001b[0m \u001b[38;5;28;01mfrom\u001b[39;00m \u001b[38;5;21;01mscipy\u001b[39;00m\u001b[38;5;21;01m.\u001b[39;00m\u001b[38;5;21;01mspecial\u001b[39;00m \u001b[38;5;28;01mimport\u001b[39;00m roots_legendre\n\u001b[0;32m     11\u001b[0m \u001b[38;5;28;01mfrom\u001b[39;00m \u001b[38;5;21;01mscipy\u001b[39;00m\u001b[38;5;21;01m.\u001b[39;00m\u001b[38;5;21;01mspecial\u001b[39;00m \u001b[38;5;28;01mimport\u001b[39;00m gammaln, logsumexp\n\u001b[0;32m     12\u001b[0m \u001b[38;5;28;01mfrom\u001b[39;00m \u001b[38;5;21;01mscipy\u001b[39;00m\u001b[38;5;21;01m.\u001b[39;00m\u001b[38;5;21;01m_lib\u001b[39;00m\u001b[38;5;21;01m.\u001b[39;00m\u001b[38;5;21;01m_util\u001b[39;00m \u001b[38;5;28;01mimport\u001b[39;00m _rng_spawn\n",
      "File \u001b[1;32m~\\anaconda3\\lib\\site-packages\\scipy\\special\\__init__.py:671\u001b[0m\n\u001b[0;32m    667\u001b[0m \u001b[38;5;28;01mfrom\u001b[39;00m \u001b[38;5;21;01m.\u001b[39;00m\u001b[38;5;21;01m_basic\u001b[39;00m \u001b[38;5;28;01mimport\u001b[39;00m \u001b[38;5;241m*\u001b[39m\n\u001b[0;32m    669\u001b[0m \u001b[38;5;28;01mfrom\u001b[39;00m \u001b[38;5;21;01m.\u001b[39;00m\u001b[38;5;21;01m_logsumexp\u001b[39;00m \u001b[38;5;28;01mimport\u001b[39;00m logsumexp, softmax, log_softmax\n\u001b[1;32m--> 671\u001b[0m \u001b[38;5;28;01mfrom\u001b[39;00m \u001b[38;5;21;01m.\u001b[39;00m \u001b[38;5;28;01mimport\u001b[39;00m _orthogonal\n\u001b[0;32m    672\u001b[0m \u001b[38;5;28;01mfrom\u001b[39;00m \u001b[38;5;21;01m.\u001b[39;00m\u001b[38;5;21;01m_orthogonal\u001b[39;00m \u001b[38;5;28;01mimport\u001b[39;00m \u001b[38;5;241m*\u001b[39m\n\u001b[0;32m    674\u001b[0m \u001b[38;5;28;01mfrom\u001b[39;00m \u001b[38;5;21;01m.\u001b[39;00m\u001b[38;5;21;01m_spfun_stats\u001b[39;00m \u001b[38;5;28;01mimport\u001b[39;00m multigammaln\n",
      "File \u001b[1;32m~\\anaconda3\\lib\\site-packages\\scipy\\special\\_orthogonal.py:81\u001b[0m\n\u001b[0;32m     78\u001b[0m \u001b[38;5;28;01mimport\u001b[39;00m \u001b[38;5;21;01mnumpy\u001b[39;00m \u001b[38;5;28;01mas\u001b[39;00m \u001b[38;5;21;01mnp\u001b[39;00m\n\u001b[0;32m     79\u001b[0m \u001b[38;5;28;01mfrom\u001b[39;00m \u001b[38;5;21;01mnumpy\u001b[39;00m \u001b[38;5;28;01mimport\u001b[39;00m (exp, inf, pi, sqrt, floor, sin, cos, around,\n\u001b[0;32m     80\u001b[0m                    hstack, arccos, arange)\n\u001b[1;32m---> 81\u001b[0m \u001b[38;5;28;01mfrom\u001b[39;00m \u001b[38;5;21;01mscipy\u001b[39;00m \u001b[38;5;28;01mimport\u001b[39;00m linalg\n\u001b[0;32m     82\u001b[0m \u001b[38;5;28;01mfrom\u001b[39;00m \u001b[38;5;21;01mscipy\u001b[39;00m\u001b[38;5;21;01m.\u001b[39;00m\u001b[38;5;21;01mspecial\u001b[39;00m \u001b[38;5;28;01mimport\u001b[39;00m airy\n\u001b[0;32m     84\u001b[0m \u001b[38;5;66;03m# Local imports.\u001b[39;00m\n",
      "File \u001b[1;32m~\\anaconda3\\lib\\site-packages\\scipy\\__init__.py:200\u001b[0m, in \u001b[0;36m__getattr__\u001b[1;34m(name)\u001b[0m\n\u001b[0;32m    198\u001b[0m \u001b[38;5;28;01mdef\u001b[39;00m \u001b[38;5;21m__getattr__\u001b[39m(name):\n\u001b[0;32m    199\u001b[0m     \u001b[38;5;28;01mif\u001b[39;00m name \u001b[38;5;129;01min\u001b[39;00m submodules:\n\u001b[1;32m--> 200\u001b[0m         \u001b[38;5;28;01mreturn\u001b[39;00m \u001b[43m_importlib\u001b[49m\u001b[38;5;241;43m.\u001b[39;49m\u001b[43mimport_module\u001b[49m\u001b[43m(\u001b[49m\u001b[38;5;124;43mf\u001b[39;49m\u001b[38;5;124;43m'\u001b[39;49m\u001b[38;5;124;43mscipy.\u001b[39;49m\u001b[38;5;132;43;01m{\u001b[39;49;00m\u001b[43mname\u001b[49m\u001b[38;5;132;43;01m}\u001b[39;49;00m\u001b[38;5;124;43m'\u001b[39;49m\u001b[43m)\u001b[49m\n\u001b[0;32m    201\u001b[0m     \u001b[38;5;28;01melse\u001b[39;00m:\n\u001b[0;32m    202\u001b[0m         \u001b[38;5;28;01mtry\u001b[39;00m:\n",
      "File \u001b[1;32m~\\anaconda3\\lib\\importlib\\__init__.py:127\u001b[0m, in \u001b[0;36mimport_module\u001b[1;34m(name, package)\u001b[0m\n\u001b[0;32m    125\u001b[0m             \u001b[38;5;28;01mbreak\u001b[39;00m\n\u001b[0;32m    126\u001b[0m         level \u001b[38;5;241m+\u001b[39m\u001b[38;5;241m=\u001b[39m \u001b[38;5;241m1\u001b[39m\n\u001b[1;32m--> 127\u001b[0m \u001b[38;5;28;01mreturn\u001b[39;00m \u001b[43m_bootstrap\u001b[49m\u001b[38;5;241;43m.\u001b[39;49m\u001b[43m_gcd_import\u001b[49m\u001b[43m(\u001b[49m\u001b[43mname\u001b[49m\u001b[43m[\u001b[49m\u001b[43mlevel\u001b[49m\u001b[43m:\u001b[49m\u001b[43m]\u001b[49m\u001b[43m,\u001b[49m\u001b[43m \u001b[49m\u001b[43mpackage\u001b[49m\u001b[43m,\u001b[49m\u001b[43m \u001b[49m\u001b[43mlevel\u001b[49m\u001b[43m)\u001b[49m\n",
      "File \u001b[1;32m~\\anaconda3\\lib\\site-packages\\scipy\\linalg\\__init__.py:216\u001b[0m\n\u001b[0;32m    214\u001b[0m \u001b[38;5;28;01mfrom\u001b[39;00m \u001b[38;5;21;01m.\u001b[39;00m\u001b[38;5;21;01m_procrustes\u001b[39;00m \u001b[38;5;28;01mimport\u001b[39;00m \u001b[38;5;241m*\u001b[39m\n\u001b[0;32m    215\u001b[0m \u001b[38;5;28;01mfrom\u001b[39;00m \u001b[38;5;21;01m.\u001b[39;00m\u001b[38;5;21;01m_decomp_update\u001b[39;00m \u001b[38;5;28;01mimport\u001b[39;00m \u001b[38;5;241m*\u001b[39m\n\u001b[1;32m--> 216\u001b[0m \u001b[38;5;28;01mfrom\u001b[39;00m \u001b[38;5;21;01m.\u001b[39;00m\u001b[38;5;21;01m_sketches\u001b[39;00m \u001b[38;5;28;01mimport\u001b[39;00m \u001b[38;5;241m*\u001b[39m\n\u001b[0;32m    217\u001b[0m \u001b[38;5;28;01mfrom\u001b[39;00m \u001b[38;5;21;01m.\u001b[39;00m\u001b[38;5;21;01m_decomp_cossin\u001b[39;00m \u001b[38;5;28;01mimport\u001b[39;00m \u001b[38;5;241m*\u001b[39m\n\u001b[0;32m    219\u001b[0m \u001b[38;5;66;03m# Deprecated namespaces, to be removed in v2.0.0\u001b[39;00m\n",
      "File \u001b[1;32m~\\anaconda3\\lib\\site-packages\\scipy\\linalg\\_sketches.py:9\u001b[0m\n\u001b[0;32m      6\u001b[0m \u001b[38;5;28;01mimport\u001b[39;00m \u001b[38;5;21;01mnumpy\u001b[39;00m \u001b[38;5;28;01mas\u001b[39;00m \u001b[38;5;21;01mnp\u001b[39;00m\n\u001b[0;32m      8\u001b[0m \u001b[38;5;28;01mfrom\u001b[39;00m \u001b[38;5;21;01mscipy\u001b[39;00m\u001b[38;5;21;01m.\u001b[39;00m\u001b[38;5;21;01m_lib\u001b[39;00m\u001b[38;5;21;01m.\u001b[39;00m\u001b[38;5;21;01m_util\u001b[39;00m \u001b[38;5;28;01mimport\u001b[39;00m check_random_state, rng_integers\n\u001b[1;32m----> 9\u001b[0m \u001b[38;5;28;01mfrom\u001b[39;00m \u001b[38;5;21;01mscipy\u001b[39;00m\u001b[38;5;21;01m.\u001b[39;00m\u001b[38;5;21;01msparse\u001b[39;00m \u001b[38;5;28;01mimport\u001b[39;00m csc_matrix\n\u001b[0;32m     11\u001b[0m __all__ \u001b[38;5;241m=\u001b[39m [\u001b[38;5;124m'\u001b[39m\u001b[38;5;124mclarkson_woodruff_transform\u001b[39m\u001b[38;5;124m'\u001b[39m]\n\u001b[0;32m     14\u001b[0m \u001b[38;5;28;01mdef\u001b[39;00m \u001b[38;5;21mcwt_matrix\u001b[39m(n_rows, n_columns, seed\u001b[38;5;241m=\u001b[39m\u001b[38;5;28;01mNone\u001b[39;00m):\n",
      "File \u001b[1;32m~\\anaconda3\\lib\\site-packages\\scipy\\sparse\\__init__.py:283\u001b[0m\n\u001b[0;32m    278\u001b[0m \u001b[38;5;28;01mfrom\u001b[39;00m \u001b[38;5;21;01m.\u001b[39;00m\u001b[38;5;21;01m_arrays\u001b[39;00m \u001b[38;5;28;01mimport\u001b[39;00m (\n\u001b[0;32m    279\u001b[0m     csr_array, csc_array, lil_array, dok_array, coo_array, dia_array, bsr_array\n\u001b[0;32m    280\u001b[0m )\n\u001b[0;32m    282\u001b[0m \u001b[38;5;66;03m# For backward compatibility with v0.19.\u001b[39;00m\n\u001b[1;32m--> 283\u001b[0m \u001b[38;5;28;01mfrom\u001b[39;00m \u001b[38;5;21;01m.\u001b[39;00m \u001b[38;5;28;01mimport\u001b[39;00m csgraph\n\u001b[0;32m    285\u001b[0m \u001b[38;5;66;03m# Deprecated namespaces, to be removed in v2.0.0\u001b[39;00m\n\u001b[0;32m    286\u001b[0m \u001b[38;5;28;01mfrom\u001b[39;00m \u001b[38;5;21;01m.\u001b[39;00m \u001b[38;5;28;01mimport\u001b[39;00m (\n\u001b[0;32m    287\u001b[0m     base, bsr, compressed, construct, coo, csc, csr, data, dia, dok, extract,\n\u001b[0;32m    288\u001b[0m     lil, sparsetools, sputils\n\u001b[0;32m    289\u001b[0m )\n",
      "File \u001b[1;32m~\\anaconda3\\lib\\site-packages\\scipy\\sparse\\csgraph\\__init__.py:185\u001b[0m\n\u001b[0;32m    157\u001b[0m __docformat__ \u001b[38;5;241m=\u001b[39m \u001b[38;5;124m\"\u001b[39m\u001b[38;5;124mrestructuredtext en\u001b[39m\u001b[38;5;124m\"\u001b[39m\n\u001b[0;32m    159\u001b[0m __all__ \u001b[38;5;241m=\u001b[39m [\u001b[38;5;124m'\u001b[39m\u001b[38;5;124mconnected_components\u001b[39m\u001b[38;5;124m'\u001b[39m,\n\u001b[0;32m    160\u001b[0m            \u001b[38;5;124m'\u001b[39m\u001b[38;5;124mlaplacian\u001b[39m\u001b[38;5;124m'\u001b[39m,\n\u001b[0;32m    161\u001b[0m            \u001b[38;5;124m'\u001b[39m\u001b[38;5;124mshortest_path\u001b[39m\u001b[38;5;124m'\u001b[39m,\n\u001b[1;32m   (...)\u001b[0m\n\u001b[0;32m    182\u001b[0m            \u001b[38;5;124m'\u001b[39m\u001b[38;5;124mcsgraph_to_masked\u001b[39m\u001b[38;5;124m'\u001b[39m,\n\u001b[0;32m    183\u001b[0m            \u001b[38;5;124m'\u001b[39m\u001b[38;5;124mNegativeCycleError\u001b[39m\u001b[38;5;124m'\u001b[39m]\n\u001b[1;32m--> 185\u001b[0m \u001b[38;5;28;01mfrom\u001b[39;00m \u001b[38;5;21;01m.\u001b[39;00m\u001b[38;5;21;01m_laplacian\u001b[39;00m \u001b[38;5;28;01mimport\u001b[39;00m laplacian\n\u001b[0;32m    186\u001b[0m \u001b[38;5;28;01mfrom\u001b[39;00m \u001b[38;5;21;01m.\u001b[39;00m\u001b[38;5;21;01m_shortest_path\u001b[39;00m \u001b[38;5;28;01mimport\u001b[39;00m (\n\u001b[0;32m    187\u001b[0m     shortest_path, floyd_warshall, dijkstra, bellman_ford, johnson,\n\u001b[0;32m    188\u001b[0m     NegativeCycleError\n\u001b[0;32m    189\u001b[0m )\n\u001b[0;32m    190\u001b[0m \u001b[38;5;28;01mfrom\u001b[39;00m \u001b[38;5;21;01m.\u001b[39;00m\u001b[38;5;21;01m_traversal\u001b[39;00m \u001b[38;5;28;01mimport\u001b[39;00m (\n\u001b[0;32m    191\u001b[0m     breadth_first_order, depth_first_order, breadth_first_tree,\n\u001b[0;32m    192\u001b[0m     depth_first_tree, connected_components\n\u001b[0;32m    193\u001b[0m )\n",
      "File \u001b[1;32m~\\anaconda3\\lib\\site-packages\\scipy\\sparse\\csgraph\\_laplacian.py:7\u001b[0m\n\u001b[0;32m      5\u001b[0m \u001b[38;5;28;01mimport\u001b[39;00m \u001b[38;5;21;01mnumpy\u001b[39;00m \u001b[38;5;28;01mas\u001b[39;00m \u001b[38;5;21;01mnp\u001b[39;00m\n\u001b[0;32m      6\u001b[0m \u001b[38;5;28;01mfrom\u001b[39;00m \u001b[38;5;21;01mscipy\u001b[39;00m\u001b[38;5;21;01m.\u001b[39;00m\u001b[38;5;21;01msparse\u001b[39;00m \u001b[38;5;28;01mimport\u001b[39;00m isspmatrix\n\u001b[1;32m----> 7\u001b[0m \u001b[38;5;28;01mfrom\u001b[39;00m \u001b[38;5;21;01mscipy\u001b[39;00m\u001b[38;5;21;01m.\u001b[39;00m\u001b[38;5;21;01msparse\u001b[39;00m\u001b[38;5;21;01m.\u001b[39;00m\u001b[38;5;21;01mlinalg\u001b[39;00m \u001b[38;5;28;01mimport\u001b[39;00m LinearOperator\n\u001b[0;32m     10\u001b[0m \u001b[38;5;66;03m###############################################################################\u001b[39;00m\n\u001b[0;32m     11\u001b[0m \u001b[38;5;66;03m# Graph laplacian\u001b[39;00m\n\u001b[0;32m     12\u001b[0m \u001b[38;5;28;01mdef\u001b[39;00m \u001b[38;5;21mlaplacian\u001b[39m(\n\u001b[0;32m     13\u001b[0m     csgraph,\n\u001b[0;32m     14\u001b[0m     normed\u001b[38;5;241m=\u001b[39m\u001b[38;5;28;01mFalse\u001b[39;00m,\n\u001b[1;32m   (...)\u001b[0m\n\u001b[0;32m     21\u001b[0m     symmetrized\u001b[38;5;241m=\u001b[39m\u001b[38;5;28;01mFalse\u001b[39;00m,\n\u001b[0;32m     22\u001b[0m ):\n",
      "File \u001b[1;32m~\\anaconda3\\lib\\site-packages\\scipy\\sparse\\linalg\\__init__.py:130\u001b[0m\n\u001b[0;32m    127\u001b[0m \u001b[38;5;28;01mfrom\u001b[39;00m \u001b[38;5;21;01m.\u001b[39;00m\u001b[38;5;21;01m_expm_multiply\u001b[39;00m \u001b[38;5;28;01mimport\u001b[39;00m \u001b[38;5;241m*\u001b[39m\n\u001b[0;32m    129\u001b[0m \u001b[38;5;66;03m# Deprecated namespaces, to be removed in v2.0.0\u001b[39;00m\n\u001b[1;32m--> 130\u001b[0m \u001b[38;5;28;01mfrom\u001b[39;00m \u001b[38;5;21;01m.\u001b[39;00m \u001b[38;5;28;01mimport\u001b[39;00m isolve, dsolve, interface, eigen, matfuncs\n\u001b[0;32m    132\u001b[0m __all__ \u001b[38;5;241m=\u001b[39m [s \u001b[38;5;28;01mfor\u001b[39;00m s \u001b[38;5;129;01min\u001b[39;00m \u001b[38;5;28mdir\u001b[39m() \u001b[38;5;28;01mif\u001b[39;00m \u001b[38;5;129;01mnot\u001b[39;00m s\u001b[38;5;241m.\u001b[39mstartswith(\u001b[38;5;124m'\u001b[39m\u001b[38;5;124m_\u001b[39m\u001b[38;5;124m'\u001b[39m)]\n\u001b[0;32m    134\u001b[0m \u001b[38;5;28;01mfrom\u001b[39;00m \u001b[38;5;21;01mscipy\u001b[39;00m\u001b[38;5;21;01m.\u001b[39;00m\u001b[38;5;21;01m_lib\u001b[39;00m\u001b[38;5;21;01m.\u001b[39;00m\u001b[38;5;21;01m_testutils\u001b[39;00m \u001b[38;5;28;01mimport\u001b[39;00m PytestTester\n",
      "File \u001b[1;32m~\\anaconda3\\lib\\site-packages\\scipy\\sparse\\linalg\\eigen\\__init__.py:11\u001b[0m\n\u001b[0;32m      1\u001b[0m \u001b[38;5;124;03m\"\"\"\u001b[39;00m\n\u001b[0;32m      2\u001b[0m \u001b[38;5;124;03mSparse Eigenvalue Solvers\u001b[39;00m\n\u001b[0;32m      3\u001b[0m \u001b[38;5;124;03m-------------------------\u001b[39;00m\n\u001b[1;32m   (...)\u001b[0m\n\u001b[0;32m      7\u001b[0m \n\u001b[0;32m      8\u001b[0m \u001b[38;5;124;03m\"\"\"\u001b[39;00m\n\u001b[0;32m      9\u001b[0m \u001b[38;5;28;01mfrom\u001b[39;00m \u001b[38;5;21;01m__future__\u001b[39;00m \u001b[38;5;28;01mimport\u001b[39;00m division, print_function, absolute_import\n\u001b[1;32m---> 11\u001b[0m \u001b[38;5;28;01mfrom\u001b[39;00m \u001b[38;5;21;01m.\u001b[39;00m\u001b[38;5;21;01marpack\u001b[39;00m \u001b[38;5;28;01mimport\u001b[39;00m \u001b[38;5;241m*\u001b[39m\n\u001b[0;32m     12\u001b[0m \u001b[38;5;28;01mfrom\u001b[39;00m \u001b[38;5;21;01m.\u001b[39;00m\u001b[38;5;21;01mlobpcg\u001b[39;00m \u001b[38;5;28;01mimport\u001b[39;00m \u001b[38;5;241m*\u001b[39m\n\u001b[0;32m     14\u001b[0m __all__ \u001b[38;5;241m=\u001b[39m [s \u001b[38;5;28;01mfor\u001b[39;00m s \u001b[38;5;129;01min\u001b[39;00m \u001b[38;5;28mdir\u001b[39m() \u001b[38;5;28;01mif\u001b[39;00m \u001b[38;5;129;01mnot\u001b[39;00m s\u001b[38;5;241m.\u001b[39mstartswith(\u001b[38;5;124m'\u001b[39m\u001b[38;5;124m_\u001b[39m\u001b[38;5;124m'\u001b[39m)]\n",
      "File \u001b[1;32m~\\anaconda3\\lib\\site-packages\\scipy\\sparse\\linalg\\eigen\\arpack\\__init__.py:22\u001b[0m\n\u001b[0;32m      1\u001b[0m \u001b[38;5;124;03m\"\"\"\u001b[39;00m\n\u001b[0;32m      2\u001b[0m \u001b[38;5;124;03mEigenvalue solver using iterative methods.\u001b[39;00m\n\u001b[0;32m      3\u001b[0m \n\u001b[1;32m   (...)\u001b[0m\n\u001b[0;32m     18\u001b[0m \n\u001b[0;32m     19\u001b[0m \u001b[38;5;124;03m\"\"\"\u001b[39;00m\n\u001b[0;32m     20\u001b[0m \u001b[38;5;28;01mfrom\u001b[39;00m \u001b[38;5;21;01m__future__\u001b[39;00m \u001b[38;5;28;01mimport\u001b[39;00m division, print_function, absolute_import\n\u001b[1;32m---> 22\u001b[0m \u001b[38;5;28;01mfrom\u001b[39;00m \u001b[38;5;21;01m.\u001b[39;00m\u001b[38;5;21;01marpack\u001b[39;00m \u001b[38;5;28;01mimport\u001b[39;00m \u001b[38;5;241m*\u001b[39m\n",
      "File \u001b[1;32m~\\anaconda3\\lib\\site-packages\\scipy\\sparse\\linalg\\eigen\\arpack\\arpack.py:53\u001b[0m\n\u001b[0;32m     51\u001b[0m \u001b[38;5;28;01mfrom\u001b[39;00m \u001b[38;5;21;01mscipy\u001b[39;00m\u001b[38;5;21;01m.\u001b[39;00m\u001b[38;5;21;01msparse\u001b[39;00m\u001b[38;5;21;01m.\u001b[39;00m\u001b[38;5;21;01msputils\u001b[39;00m \u001b[38;5;28;01mimport\u001b[39;00m isdense, is_pydata_spmatrix\n\u001b[0;32m     52\u001b[0m \u001b[38;5;28;01mfrom\u001b[39;00m \u001b[38;5;21;01mscipy\u001b[39;00m\u001b[38;5;21;01m.\u001b[39;00m\u001b[38;5;21;01msparse\u001b[39;00m\u001b[38;5;21;01m.\u001b[39;00m\u001b[38;5;21;01mlinalg\u001b[39;00m \u001b[38;5;28;01mimport\u001b[39;00m gmres, splu\n\u001b[1;32m---> 53\u001b[0m \u001b[38;5;28;01mfrom\u001b[39;00m \u001b[38;5;21;01mscipy\u001b[39;00m\u001b[38;5;21;01m.\u001b[39;00m\u001b[38;5;21;01msparse\u001b[39;00m\u001b[38;5;21;01m.\u001b[39;00m\u001b[38;5;21;01mlinalg\u001b[39;00m\u001b[38;5;21;01m.\u001b[39;00m\u001b[38;5;21;01meigen\u001b[39;00m\u001b[38;5;21;01m.\u001b[39;00m\u001b[38;5;21;01mlobpcg\u001b[39;00m \u001b[38;5;28;01mimport\u001b[39;00m lobpcg\n\u001b[0;32m     54\u001b[0m \u001b[38;5;28;01mfrom\u001b[39;00m \u001b[38;5;21;01mscipy\u001b[39;00m\u001b[38;5;21;01m.\u001b[39;00m\u001b[38;5;21;01m_lib\u001b[39;00m\u001b[38;5;21;01m.\u001b[39;00m\u001b[38;5;21;01m_util\u001b[39;00m \u001b[38;5;28;01mimport\u001b[39;00m _aligned_zeros\n\u001b[0;32m     55\u001b[0m \u001b[38;5;28;01mfrom\u001b[39;00m \u001b[38;5;21;01mscipy\u001b[39;00m\u001b[38;5;21;01m.\u001b[39;00m\u001b[38;5;21;01m_lib\u001b[39;00m\u001b[38;5;21;01m.\u001b[39;00m\u001b[38;5;21;01m_threadsafety\u001b[39;00m \u001b[38;5;28;01mimport\u001b[39;00m ReentrancyLock\n",
      "File \u001b[1;32m~\\anaconda3\\lib\\site-packages\\scipy\\sparse\\linalg\\eigen\\lobpcg\\__init__.py:12\u001b[0m\n\u001b[0;32m      1\u001b[0m \u001b[38;5;124;03m\"\"\"\u001b[39;00m\n\u001b[0;32m      2\u001b[0m \u001b[38;5;124;03mLocally Optimal Block Preconditioned Conjugate Gradient Method (LOBPCG)\u001b[39;00m\n\u001b[0;32m      3\u001b[0m \n\u001b[1;32m   (...)\u001b[0m\n\u001b[0;32m      8\u001b[0m \n\u001b[0;32m      9\u001b[0m \u001b[38;5;124;03m\"\"\"\u001b[39;00m\n\u001b[0;32m     10\u001b[0m \u001b[38;5;28;01mfrom\u001b[39;00m \u001b[38;5;21;01m__future__\u001b[39;00m \u001b[38;5;28;01mimport\u001b[39;00m division, print_function, absolute_import\n\u001b[1;32m---> 12\u001b[0m \u001b[38;5;28;01mfrom\u001b[39;00m \u001b[38;5;21;01m.\u001b[39;00m\u001b[38;5;21;01mlobpcg\u001b[39;00m \u001b[38;5;28;01mimport\u001b[39;00m \u001b[38;5;241m*\u001b[39m\n\u001b[0;32m     14\u001b[0m __all__ \u001b[38;5;241m=\u001b[39m [s \u001b[38;5;28;01mfor\u001b[39;00m s \u001b[38;5;129;01min\u001b[39;00m \u001b[38;5;28mdir\u001b[39m() \u001b[38;5;28;01mif\u001b[39;00m \u001b[38;5;129;01mnot\u001b[39;00m s\u001b[38;5;241m.\u001b[39mstartswith(\u001b[38;5;124m'\u001b[39m\u001b[38;5;124m_\u001b[39m\u001b[38;5;124m'\u001b[39m)]\n\u001b[0;32m     16\u001b[0m \u001b[38;5;28;01mfrom\u001b[39;00m \u001b[38;5;21;01mscipy\u001b[39;00m\u001b[38;5;21;01m.\u001b[39;00m\u001b[38;5;21;01m_lib\u001b[39;00m\u001b[38;5;21;01m.\u001b[39;00m\u001b[38;5;21;01m_testutils\u001b[39;00m \u001b[38;5;28;01mimport\u001b[39;00m PytestTester\n",
      "File \u001b[1;32m~\\anaconda3\\lib\\site-packages\\scipy\\sparse\\linalg\\eigen\\lobpcg\\lobpcg.py:25\u001b[0m\n\u001b[0;32m     22\u001b[0m \u001b[38;5;28;01mfrom\u001b[39;00m \u001b[38;5;21;01mscipy\u001b[39;00m\u001b[38;5;21;01m.\u001b[39;00m\u001b[38;5;21;01mlinalg\u001b[39;00m \u001b[38;5;28;01mimport\u001b[39;00m (inv, eigh, cho_factor, cho_solve, cholesky, orth,\n\u001b[0;32m     23\u001b[0m                           LinAlgError)\n\u001b[0;32m     24\u001b[0m \u001b[38;5;28;01mfrom\u001b[39;00m \u001b[38;5;21;01mscipy\u001b[39;00m\u001b[38;5;21;01m.\u001b[39;00m\u001b[38;5;21;01msparse\u001b[39;00m\u001b[38;5;21;01m.\u001b[39;00m\u001b[38;5;21;01mlinalg\u001b[39;00m \u001b[38;5;28;01mimport\u001b[39;00m aslinearoperator\n\u001b[1;32m---> 25\u001b[0m \u001b[38;5;28;01mfrom\u001b[39;00m \u001b[38;5;21;01mscipy\u001b[39;00m\u001b[38;5;21;01m.\u001b[39;00m\u001b[38;5;21;01msparse\u001b[39;00m\u001b[38;5;21;01m.\u001b[39;00m\u001b[38;5;21;01msputils\u001b[39;00m \u001b[38;5;28;01mimport\u001b[39;00m bmat\n\u001b[0;32m     27\u001b[0m __all__ \u001b[38;5;241m=\u001b[39m [\u001b[38;5;124m'\u001b[39m\u001b[38;5;124mlobpcg\u001b[39m\u001b[38;5;124m'\u001b[39m]\n\u001b[0;32m     30\u001b[0m \u001b[38;5;28;01mdef\u001b[39;00m \u001b[38;5;21m_report_nonhermitian\u001b[39m(M, name):\n",
      "\u001b[1;31mImportError\u001b[0m: cannot import name 'bmat' from 'scipy.sparse.sputils' (C:\\Users\\julio\\anaconda3\\lib\\site-packages\\scipy\\sparse\\sputils.py)"
     ]
    }
   ],
   "source": [
    "#%% importar biblotecas\n",
    "import numpy as  np\n",
    "import matplotlib.pyplot as plt\n",
    "from scipy.integrate import solve_ivp\n",
    "\n",
    "#%% definir modelo do processo\n",
    "def reator_CSTR(t,x,u):\n",
    "    \n",
    "    '''modelo do reator CSTR'''\n",
    "    # parametros do modelo\n",
    "    V = 100.0\n",
    "    rho = 1000.0\n",
    "    cp = 0.239\n",
    "    DH = -5e4\n",
    "    k0 = 7.2e10\n",
    "    E = 72747.5\n",
    "    R = 8.314\n",
    "    Ti = 350.0   \n",
    "    UA = 5e4\n",
    "    \n",
    "    # variáveis de estado\n",
    "    cA = x[0]\n",
    "    T = x[1]\n",
    "    \n",
    "    # variáveis de entrada\n",
    "    q = u[0]   \n",
    "    cAi = u[1]\n",
    "    Tc = u[2]\n",
    "    \n",
    "    # equações constitutivas\n",
    "    k = k0*np.exp(-E/(R*T))\n",
    "    Q = UA*(T-Tc)\n",
    "    rA = k*cA\n",
    "    \n",
    "    # equações do modelo\n",
    "    dcA = q/V*(cAi-cA) - rA\n",
    "    dT = (q*rho*cp*(Ti-T)+(-DH)*rA*V - Q)/(V*rho*cp)    \n",
    "    \n",
    "    # saida do modelo\n",
    "    dx = [dcA, dT]\n",
    "    return dx\n"
   ]
  },
  {
   "cell_type": "markdown",
   "metadata": {
    "id": "zuWSDqrXHFe9"
   },
   "source": [
    "## 2.\tIntegração do modelo usando a função solve_ivp"
   ]
  },
  {
   "cell_type": "code",
   "execution_count": 4,
   "metadata": {
    "id": "HPtK3Y55HKUe"
   },
   "outputs": [
    {
     "ename": "NameError",
     "evalue": "name 'solve_ivp' is not defined",
     "output_type": "error",
     "traceback": [
      "\u001b[1;31m---------------------------------------------------------------------------\u001b[0m",
      "\u001b[1;31mNameError\u001b[0m                                 Traceback (most recent call last)",
      "Cell \u001b[1;32mIn[4], line 19\u001b[0m\n\u001b[0;32m     16\u001b[0m modelo \u001b[38;5;241m=\u001b[39m \u001b[38;5;28;01mlambda\u001b[39;00m t,x: reator_CSTR(t, x, u0)\n\u001b[0;32m     18\u001b[0m \u001b[38;5;66;03m# solver: integrador\u001b[39;00m\n\u001b[1;32m---> 19\u001b[0m sol \u001b[38;5;241m=\u001b[39m \u001b[43msolve_ivp\u001b[49m(modelo, tspan, x0, method\u001b[38;5;241m=\u001b[39m\u001b[38;5;124m'\u001b[39m\u001b[38;5;124mBDF\u001b[39m\u001b[38;5;124m'\u001b[39m)\n\u001b[0;32m     21\u001b[0m \u001b[38;5;66;03m# resultado\u001b[39;00m\n\u001b[0;32m     22\u001b[0m t \u001b[38;5;241m=\u001b[39m sol\u001b[38;5;241m.\u001b[39mt \u001b[38;5;66;03m# tempo\u001b[39;00m\n",
      "\u001b[1;31mNameError\u001b[0m: name 'solve_ivp' is not defined"
     ]
    }
   ],
   "source": [
    "#%% Integração do modelo\n",
    "\n",
    "# intervalo de integração\n",
    "tspan = [0, 10.0] # [t_inicial, t_final]\n",
    "\n",
    "# condição inicial\n",
    "x0 = [0.5, 350.] # cA0, T0\n",
    "u0 = [100.0, 1.0, 300.0] # q0, cAi0, Tc0\n",
    "\n",
    "# testes de variação nas entradas\n",
    "u0[0] = u0[0] - 0.0 # q\n",
    "u0[1] = u0[1] - 0.0 # cAi\n",
    "u0[2] = u0[2] - 0.0 # Tc\n",
    "\n",
    "# Instanciar o modelo\n",
    "modelo = lambda t,x: reator_CSTR(t, x, u0)\n",
    "\n",
    "# solver: integrador\n",
    "sol = solve_ivp(modelo, tspan, x0, method='BDF')\n",
    "\n",
    "# resultado\n",
    "t = sol.t # tempo\n",
    "x = sol.y; # cA, T"
   ]
  },
  {
   "cell_type": "markdown",
   "metadata": {
    "id": "Y-sVuc5gHMnP"
   },
   "source": [
    "## 3.\tGeração das saídas gráficas"
   ]
  },
  {
   "cell_type": "code",
   "execution_count": 6,
   "metadata": {
    "id": "6CwxqO7ZHPu-"
   },
   "outputs": [
    {
     "ename": "NameError",
     "evalue": "name 't' is not defined",
     "output_type": "error",
     "traceback": [
      "\u001b[1;31m---------------------------------------------------------------------------\u001b[0m",
      "\u001b[1;31mNameError\u001b[0m                                 Traceback (most recent call last)",
      "Cell \u001b[1;32mIn[6], line 8\u001b[0m\n\u001b[0;32m      5\u001b[0m plt\u001b[38;5;241m.\u001b[39mfigure(\u001b[38;5;241m1\u001b[39m,figsize\u001b[38;5;241m=\u001b[39m[\u001b[38;5;241m14\u001b[39m,\u001b[38;5;241m5\u001b[39m])\n\u001b[0;32m      7\u001b[0m plt\u001b[38;5;241m.\u001b[39msubplot(\u001b[38;5;241m1\u001b[39m,\u001b[38;5;241m3\u001b[39m,\u001b[38;5;241m1\u001b[39m)\n\u001b[1;32m----> 8\u001b[0m plt\u001b[38;5;241m.\u001b[39mplot(\u001b[43mt\u001b[49m,x[\u001b[38;5;241m1\u001b[39m,:], \u001b[38;5;124m'\u001b[39m\u001b[38;5;124mr-\u001b[39m\u001b[38;5;124m'\u001b[39m, lw\u001b[38;5;241m=\u001b[39m\u001b[38;5;241m5\u001b[39m)\n\u001b[0;32m      9\u001b[0m plt\u001b[38;5;241m.\u001b[39mylabel(\u001b[38;5;124m'\u001b[39m\u001b[38;5;124mTemperatura do reator, oC\u001b[39m\u001b[38;5;124m'\u001b[39m, fontsize\u001b[38;5;241m=\u001b[39m\u001b[38;5;241m14\u001b[39m)\n\u001b[0;32m     10\u001b[0m plt\u001b[38;5;241m.\u001b[39mxlabel(\u001b[38;5;124m'\u001b[39m\u001b[38;5;124mTempo, min\u001b[39m\u001b[38;5;124m'\u001b[39m, fontsize\u001b[38;5;241m=\u001b[39m\u001b[38;5;241m14\u001b[39m)\n",
      "\u001b[1;31mNameError\u001b[0m: name 't' is not defined"
     ]
    },
    {
     "data": {
      "image/png": "[encoded data removed]",
      "text/plain": [
       "<Figure size 1400x500 with 1 Axes>"
      ]
     },
     "metadata": {},
     "output_type": "display_data"
    }
   ],
   "source": [
    "#%% saídas gráficas\n",
    "plt.close('all')\n",
    "\n",
    "# Instanciar uma figura\n",
    "plt.figure(1,figsize=[14,5])\n",
    "\n",
    "plt.subplot(1,3,1)\n",
    "plt.plot(t,x[1,:], 'r-', lw=5)\n",
    "plt.ylabel('Temperatura do reator, oC', fontsize=14)\n",
    "plt.xlabel('Tempo, min', fontsize=14)\n",
    "plt.axis([0, 10, 300, 450])\n",
    "plt.xticks(range(0,11))\n",
    "plt.yticks(range(300,500,50))\n",
    "\n",
    "plt.subplot(1,3,2)\n",
    "plt.plot(t,x[0,:],'b-', lw=5)\n",
    "plt.ylabel('Concentração de reagente, mol/L', fontsize=14)\n",
    "plt.xlabel('Tempo, min', fontsize=14)\n",
    "plt.axis([0, 10, 0, 1])\n",
    "plt.xticks(range(0,11))\n",
    "plt.yticks(np.arange(0,1.1,0.1))\n",
    "\n",
    "plt.subplot(1,3,3)\n",
    "plt.plot(x[0,:],x[1,:], 'k-')\n",
    "plt.ylabel('Temperatura do reator, oC', fontsize=14)\n",
    "plt.xlabel('Concentração de reagente, mol/L', fontsize=14)\n",
    "plt.title('Plano de fases: cA x T', fontweight='bold')\n",
    "\n",
    "# Ajustar o preenchimento entre os subplots \n",
    "plt.tight_layout()\n",
    "plt.show()\n",
    "\n",
    "# salvar uma figura (extensão pode ser pdf, jpg, ...)\n",
    "plt.savefig('aula01_model_implementation.tif')"
   ]
  },
  {
   "cell_type": "code",
   "execution_count": null,
   "metadata": {},
   "outputs": [],
   "source": []
  }
 ],
 "metadata": {
  "colab": {
   "provenance": [],
   "toc_visible": true
  },
  "kernelspec": {
   "display_name": "Python 3 (ipykernel)",
   "language": "python",
   "name": "python3"
  },
  "language_info": {
   "codemirror_mode": {
    "name": "ipython",
    "version": 3
   },
   "file_extension": ".py",
   "mimetype": "text/x-python",
   "name": "python",
   "nbconvert_exporter": "python",
   "pygments_lexer": "ipython3",
   "version": "3.8.8"
  }
 },
 "nbformat": 4,
 "nbformat_minor": 1
}

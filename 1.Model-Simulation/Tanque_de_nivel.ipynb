{
  "nbformat": 4,
  "nbformat_minor": 0,
  "metadata": {
    "colab": {
      "provenance": [],
      "toc_visible": true,
      "authorship_tag": "ABX9TyPuBfvMEJ9QdoedhKz16vnZ",
      "include_colab_link": true
    },
    "kernelspec": {
      "name": "python3",
      "display_name": "Python 3"
    },
    "language_info": {
      "name": "python"
    }
  },
  "cells": [
    {
      "cell_type": "markdown",
      "metadata": {
        "id": "view-in-github",
        "colab_type": "text"
      },
      "source": [
        "<a href=\"https://colab.research.google.com/github/juliosdutra/Controle_de_Processos_UFES/blob/main/1.Model-Simulation/Tanque_de_nivel.ipynb\" target=\"_parent\"><img src=\"https://colab.research.google.com/assets/colab-badge.svg\" alt=\"Open In Colab\"/></a>"
      ]
    },
    {
      "cell_type": "markdown",
      "source": [
        "# Importando as bibliotecas"
      ],
      "metadata": {
        "id": "Ia_VjxFneeZI"
      }
    },
    {
      "cell_type": "code",
      "source": [
        "import numpy as  np\n",
        "import matplotlib.pyplot as plt\n",
        "from scipy.integrate import solve_ivp"
      ],
      "metadata": {
        "id": "lcl2HaaveiXm"
      },
      "execution_count": 18,
      "outputs": []
    },
    {
      "cell_type": "markdown",
      "source": [
        "# Definindo o modelo"
      ],
      "metadata": {
        "id": "wow2V2Obei6-"
      }
    },
    {
      "cell_type": "code",
      "source": [
        "def reator_CSTR(t,x,u):\n",
        "\n",
        "    '''modelo de um tanque de nível com saída linear, q = h/Rv'''\n",
        "    # parametros do modelo\n",
        "    A = 1.00\n",
        "    Rv = 0.25\n",
        "\n",
        "    # variáveis de estado\n",
        "    h = x[0]\n",
        "\n",
        "    # variáveis de entrada\n",
        "    q0 = u[0]\n",
        "\n",
        "    # equações constitutivas\n",
        "    q = h/Rv\n",
        "\n",
        "    # equações do modelo\n",
        "    dhdt = (q0-q)/A\n",
        "\n",
        "    # saida do modelo\n",
        "    dxdt = dhdt\n",
        "    return [dxdt]\n"
      ],
      "metadata": {
        "id": "DPgOHKz7ellG"
      },
      "execution_count": 19,
      "outputs": []
    },
    {
      "cell_type": "markdown",
      "source": [
        "# Especificando as condições"
      ],
      "metadata": {
        "id": "aIpZrHMfemGU"
      }
    },
    {
      "cell_type": "code",
      "source": [
        "q0 = 10.0 # vazão de alimentação\n",
        "h0 = 2.5 # altura do nível em t=0\n",
        "\n",
        "# vetores de condições iniciais\n",
        "u0 = [q0 - 3.0]\n",
        "x0 = [h0]\n",
        "\n",
        "# intervalo de integração\n",
        "tspan = [0, 5.0] # [t_inicial, t_final]"
      ],
      "metadata": {
        "id": "gK2B0MrUeoqj"
      },
      "execution_count": 31,
      "outputs": []
    },
    {
      "cell_type": "markdown",
      "source": [
        "# Simulando o modelo"
      ],
      "metadata": {
        "id": "IS-Gvm_hepTj"
      }
    },
    {
      "cell_type": "code",
      "source": [
        "# Instanciar o modelo\n",
        "modelo = lambda t,x: reator_CSTR(t, x, u0)\n",
        "\n",
        "# solver: integrador\n",
        "sol = solve_ivp(modelo, tspan, x0, method='BDF')\n",
        "\n",
        "# resultado\n",
        "t = sol.t # tempo\n",
        "x = sol.y.flatten(); # h"
      ],
      "metadata": {
        "id": "GiuYuJ6JeuF1"
      },
      "execution_count": 32,
      "outputs": []
    },
    {
      "cell_type": "markdown",
      "source": [
        "# Gerando as saídas gráficas"
      ],
      "metadata": {
        "id": "s6zuqV0Xeuky"
      }
    },
    {
      "cell_type": "code",
      "source": [
        "plt.plot(t,x, 'r-')\n",
        "plt.ylabel('Nível do tanque, m', fontsize=14)\n",
        "plt.xlabel('Tempo, min', fontsize=14);\n",
        "plt.yticks(np.arange(1.0,3.5,0.5));"
      ],
      "metadata": {
        "colab": {
          "base_uri": "https://localhost:8080/",
          "height": 460
        },
        "id": "xvv2knjGeyh8",
        "outputId": "dbf6272b-e3f2-4767-81f3-365d1e3394ea"
      },
      "execution_count": 33,
      "outputs": [
        {
          "output_type": "display_data",
          "data": {
            "text/plain": [
              "<Figure size 640x480 with 1 Axes>"
            ],
            "image/png": "[encoded data removed]"
          },
          "metadata": {}
        }
      ]
    }
  ]
}
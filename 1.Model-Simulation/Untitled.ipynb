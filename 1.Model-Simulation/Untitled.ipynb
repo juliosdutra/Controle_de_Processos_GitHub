{
 "cells": [
  {
   "cell_type": "markdown",
   "id": "0a826aa4",
   "metadata": {},
   "source": [
    "<div style=\"text-align:center\">\n",
    "    <img src=\"https://github.com/juliosdutra/Controle_de_Processos_UFES/blob/main/1.Model-Simulation/imagens/exemplo_reator_seborg.png?raw=true width=\"400\" height=\"400\" alt=\"alt text\"/>\n",
    "    <p style=\"font-style: italic;\n",
    "              text-align:center;\n",
    "              font-size: 18px;\">\n",
    "        Representação do reator CSTR. <br>\n",
    "        Fonte: <a href=\"https://www.amazon.com.br/Process-Dynamics-Control-Dale-Seborg/dp/0470128674\">Seborg et al. (2011)</a>.\n",
    "    </p>\n",
    "</div>"
   ]
  },
  {
   "cell_type": "markdown",
   "id": "8b70e0ea",
   "metadata": {},
   "source": [
    "\n",
    "\n",
    "\n",
    "[!Nova figura] (img src='https://github.com/juliosdutra/Controle_de_Processos_UFES/blob/main/imagens/exemplo_reator_seborg.png?raw=true')"
   ]
  },
  {
   "cell_type": "markdown",
   "id": "23b04ffc",
   "metadata": {},
   "source": [
    "![exemplo_reator_seborg.png] (hhttps://github.com/juliosdutra/Controle_de_Processos_UFES/blob/main/1.Model-Simulation/imagens/exemplo_reator_seborg.png?raw=true)\n"
   ]
  },
  {
   "cell_type": "code",
   "execution_count": null,
   "id": "242e9edb",
   "metadata": {},
   "outputs": [],
   "source": []
  }
 ],
 "metadata": {
  "kernelspec": {
   "display_name": "Python 3 (ipykernel)",
   "language": "python",
   "name": "python3"
  },
  "language_info": {
   "codemirror_mode": {
    "name": "ipython",
    "version": 3
   },
   "file_extension": ".py",
   "mimetype": "text/x-python",
   "name": "python",
   "nbconvert_exporter": "python",
   "pygments_lexer": "ipython3",
   "version": "3.8.8"
  }
 },
 "nbformat": 4,
 "nbformat_minor": 5
}

{
  "nbformat": 4,
  "nbformat_minor": 0,
  "metadata": {
    "colab": {
      "provenance": [],
      "authorship_tag": "ABX9TyNH4Sik9O1RQvoabdHC/Mb/",
      "include_colab_link": true
    },
    "kernelspec": {
      "name": "python3",
      "display_name": "Python 3"
    },
    "language_info": {
      "name": "python"
    }
  },
  "cells": [
    {
      "cell_type": "markdown",
      "metadata": {
        "id": "view-in-github",
        "colab_type": "text"
      },
      "source": [
        "<a href=\"https://colab.research.google.com/github/juliosdutra/Controle_de_Processos_UFES/blob/main/Miscellaneous/CSTR_model.ipynb\" target=\"_parent\"><img src=\"https://colab.research.google.com/assets/colab-badge.svg\" alt=\"Open In Colab\"/></a>"
      ]
    },
    {
      "cell_type": "code",
      "execution_count": null,
      "metadata": {
        "id": "pQ1_i8ouGwzu"
      },
      "outputs": [],
      "source": [
        "# -*- coding: utf-8 -*-\n",
        "\"\"\"\n",
        "Created on Wed Mar  3 15:32:00 2021\n",
        "\n",
        "@author: Julio Dutra\n",
        "\"\"\"\n",
        "\n",
        "import numpy as  np\n",
        "\n",
        "\n",
        "def CSTR_modificado(t,x,u,params={}):\n",
        "\n",
        "    '''modelo do reator CSTR modificado'''\n",
        "\n",
        "    # parametros do modelo\n",
        "    V = 100.0\n",
        "    rho = 1000.0\n",
        "    cp = 0.239\n",
        "    DH = -5e4\n",
        "    k0 = 7.2e10\n",
        "    E = 72747.5\n",
        "    R = 8.314\n",
        "    Ti = 350.0\n",
        "    V_c = 20.0\n",
        "    rho_c = 881.3\n",
        "    cp_c = 1.891\n",
        "    UA = 5e4\n",
        "\n",
        "    # variáveis de estado\n",
        "    cA, T, Tc = x\n",
        "\n",
        "    # variáveis de entrada\n",
        "    q = u[0]\n",
        "    qc = u[1]\n",
        "    Tc_i = u[2]\n",
        "    cA_i = u[3]\n",
        "\n",
        "    # equações do modelo\n",
        "    k = k0*np.exp(-E/(R*T))\n",
        "    dcA = q/V*(cA_i-cA) - k*cA\n",
        "    dT = (q*rho*cp*(Ti-T)+(-DH)*V*k*cA - UA*(T-Tc))/(V*rho*cp)\n",
        "    dTc = (qc*rho_c*cp_c*(Tc_i-Tc)+UA*(T-Tc))/(V_c*rho_c*cp_c)\n",
        "\n",
        "    # saida do modelo\n",
        "    dx = [dcA, dT, dTc]\n",
        "\n",
        "    return dx\n",
        "\n",
        "def medida(t, x, u, params={}):\n",
        "\n",
        "    \"\"\" Função de medida   \"\"\"\n",
        "    cA, T, Tc = x\n",
        "\n",
        "    return x"
      ]
    }
  ]
}
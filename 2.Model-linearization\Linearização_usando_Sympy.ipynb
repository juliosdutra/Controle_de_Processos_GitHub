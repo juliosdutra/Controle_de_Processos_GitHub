{
  "nbformat": 4,
  "nbformat_minor": 0,
  "metadata": {
    "colab": {
      "provenance": [],
      "authorship_tag": "ABX9TyNoeoPCOChVB79MuVCbaH+g",
      "include_colab_link": true
    },
    "kernelspec": {
      "name": "python3",
      "display_name": "Python 3"
    },
    "language_info": {
      "name": "python"
    }
  },
  "cells": [
    {
      "cell_type": "markdown",
      "metadata": {
        "id": "view-in-github",
        "colab_type": "text"
      },
      "source": [
        "<a href=\"https://colab.research.google.com/github/juliosdutra/Controle_de_Processos_UFES/blob/main/2.Model-linearization%5CLineariza%C3%A7%C3%A3o_usando_Sympy.ipynb\" target=\"_parent\"><img src=\"https://colab.research.google.com/assets/colab-badge.svg\" alt=\"Open In Colab\"/></a>"
      ]
    },
    {
      "cell_type": "markdown",
      "source": [
        "**Lista 2 / Questão # 3**\n",
        "\n",
        "Um poluente pode ser descartado somente se o efluente apresentar no máximo\n",
        "5 ppm. Para tanto, é usado um reator agitado, operado com volume, densidade e temperatura constantes, cujo modelo dinâmico é:\n",
        "\n",
        "$$ \\frac{dCa}{dt} = D(t)\\cdot[Ca_{f}(t)-Ca] - Ra $$\n",
        "\n",
        "O poluente é alimentado com taxa de diluição D e concentração Caf e tem a seguinte taxa de reação $Ra = 15Ca/(1+0.1Ca)$. A condição estacionária é dada por $D_s=4.95 h^{-1}$, $Ca_{f,s}=10 ppm$ e $Ca_s=3.0 ppm$. Neste contexto, determine o modelo linear em variáveis-desvio."
      ],
      "metadata": {
        "id": "mfxFHjxNJLyE"
      }
    },
    {
      "cell_type": "code",
      "source": [
        "import sympy as sp\n",
        "D, Caf, Ca = sp.symbols('D Caf Ca')\n",
        "Ra = 15*Ca/(1+0.1*Ca)\n",
        "f_nao_linear = D*(Caf-Ca) - Ra\n",
        "f_nao_linear"
      ],
      "metadata": {
        "colab": {
          "base_uri": "https://localhost:8080/",
          "height": 53
        },
        "id": "qz7BCjiTqRYO",
        "outputId": "795610bf-8e5f-44ed-f07f-10cd28f12848"
      },
      "execution_count": null,
      "outputs": [
        {
          "output_type": "execute_result",
          "data": {
            "text/plain": [
              "-15*Ca/(0.1*Ca + 1) + D*(-Ca + Caf)"
            ],
            "text/latex": "$\\displaystyle - \\frac{15 Ca}{0.1 Ca + 1} + D \\left(- Ca + Caf\\right)$"
          },
          "metadata": {},
          "execution_count": 26
        }
      ]
    },
    {
      "cell_type": "code",
      "source": [
        "# Dicionário com a condição estacionária\n",
        "nominal = {'Ca': 3, 'D': 4.95, 'Caf': 10}"
      ],
      "metadata": {
        "id": "d_JXGORurVT8"
      },
      "execution_count": null,
      "outputs": []
    },
    {
      "cell_type": "code",
      "source": [
        "# Derivada de f em relação a Ca\n",
        "f_nao_linear.diff(Ca).simplify()"
      ],
      "metadata": {
        "colab": {
          "base_uri": "https://localhost:8080/",
          "height": 58
        },
        "id": "JN9P-Av3qXOt",
        "outputId": "181ff068-7dea-4904-f10d-af3a5cf40e89"
      },
      "execution_count": null,
      "outputs": [
        {
          "output_type": "execute_result",
          "data": {
            "text/plain": [
              "-D - 15/(0.1*Ca + 1)**2"
            ],
            "text/latex": "$\\displaystyle - D - \\frac{15}{\\left(0.1 Ca + 1\\right)^{2}}$"
          },
          "metadata": {},
          "execution_count": 21
        }
      ]
    },
    {
      "cell_type": "code",
      "source": [
        "# Derivada de f em relação a D\n",
        "f_nao_linear.diff(D).simplify()"
      ],
      "metadata": {
        "colab": {
          "base_uri": "https://localhost:8080/",
          "height": 39
        },
        "id": "tMbwRiruq-Yu",
        "outputId": "367dbade-1c12-4e86-ccf3-0c3a4af0d4b4"
      },
      "execution_count": null,
      "outputs": [
        {
          "output_type": "execute_result",
          "data": {
            "text/plain": [
              "-Ca + Caf"
            ],
            "text/latex": "$\\displaystyle - Ca + Caf$"
          },
          "metadata": {},
          "execution_count": 22
        }
      ]
    },
    {
      "cell_type": "code",
      "source": [
        "# Derivada de f em relação a Caf\n",
        "f_nao_linear.diff(Caf).simplify()"
      ],
      "metadata": {
        "colab": {
          "base_uri": "https://localhost:8080/",
          "height": 39
        },
        "id": "yyVxHhqprJdh",
        "outputId": "0081d864-45b4-4235-8582-13631233b55e"
      },
      "execution_count": null,
      "outputs": [
        {
          "output_type": "execute_result",
          "data": {
            "text/plain": [
              "D"
            ],
            "text/latex": "$\\displaystyle D$"
          },
          "metadata": {},
          "execution_count": 23
        }
      ]
    },
    {
      "cell_type": "code",
      "source": [
        "# Calculando o valor das derivadas no ponto nominal\n",
        "f_Cas =  f_nao_linear.diff(Ca).subs(nominal)\n",
        "f_Cafs =  f_nao_linear.diff(Caf).subs(nominal)\n",
        "f_Ds =  f_nao_linear.diff(D).subs(nominal)"
      ],
      "metadata": {
        "id": "7QP_iZZaKjls"
      },
      "execution_count": null,
      "outputs": []
    },
    {
      "cell_type": "code",
      "source": [
        "# Expressão de f linearizada\n",
        "f_linear = f_Cas*Ca + f_Cafs*Caf + f_Ds*D\n",
        "f_linear"
      ],
      "metadata": {
        "colab": {
          "base_uri": "https://localhost:8080/",
          "height": 39
        },
        "id": "JPYVwj8jK7qs",
        "outputId": "66be9bfb-36d2-4489-c6a6-7d34462e9e61"
      },
      "execution_count": null,
      "outputs": [
        {
          "output_type": "execute_result",
          "data": {
            "text/plain": [
              "-13.8257396449704*Ca + 4.95*Caf + 7*D"
            ],
            "text/latex": "$\\displaystyle - 13.8257396449704 Ca + 4.95 Caf + 7 D$"
          },
          "metadata": {},
          "execution_count": 25
        }
      ]
    },
    {
      "cell_type": "markdown",
      "source": [
        "A partir deste ponto, pode-se escrever que\n",
        "\n",
        "$$ \\frac{dCa}{dt}  = -13.826 Ca + 4.95 Caf + 7 D $$\n",
        "\n",
        "Na forma padrão:\n",
        "\n",
        "$ \\frac{dCa}{dt} +13.826 Ca =  4.95 Caf + 7 D $\n",
        "<br>\n",
        "<br>\n",
        "$ \\frac{1}{13.826} \\frac{dCa}{dt} + Ca =  \\frac{4.95}{13.826} Caf + \\frac{7}{13.826} D $\n",
        "<br>\n",
        "<br>\n",
        "Finalmente, em termo de variáveis-desvio, o modelo linearizado é:\n",
        "<br>\n",
        "\n",
        "$$ 0.072 \\frac{dCa}{dt} + Ca =  0.358 Caf + 0.506 D $$\n",
        "$$Ca(0) = 0$$\n",
        "\n"
      ],
      "metadata": {
        "id": "TnQO6UMTLIlM"
      }
    },
    {
      "cell_type": "code",
      "source": [],
      "metadata": {
        "id": "Q2kXCL1dMIpb"
      },
      "execution_count": null,
      "outputs": []
    }
  ]
}
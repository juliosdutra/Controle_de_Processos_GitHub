{
  "nbformat": 4,
  "nbformat_minor": 0,
  "metadata": {
    "colab": {
      "provenance": [],
      "authorship_tag": "ABX9TyN3dqQwB5n82NxSV1YaR1bA",
      "include_colab_link": true
    },
    "kernelspec": {
      "name": "python3",
      "display_name": "Python 3"
    },
    "language_info": {
      "name": "python"
    }
  },
  "cells": [
    {
      "cell_type": "markdown",
      "metadata": {
        "id": "view-in-github",
        "colab_type": "text"
      },
      "source": [
        "<a href=\"https://colab.research.google.com/github/juliosdutra/Controle_de_Processos_UFES/blob/main/3.Transfer-functions/Transformadas_de_Laplace_no_Sympy.ipynb\" target=\"_parent\"><img src=\"https://colab.research.google.com/assets/colab-badge.svg\" alt=\"Open In Colab\"/></a>"
      ]
    },
    {
      "cell_type": "markdown",
      "source": [
        "<left><img src=\"https://github.com/juliosdutra/Controle_de_Processos_UFES/blob/main/imagens/cabe%C3%A7alho-geral.jpg?raw=true\" width=\"700\" height=\"175\">\n",
        "</left>"
      ],
      "metadata": {
        "id": "o3wb9zFArVDL"
      }
    },
    {
      "cell_type": "markdown",
      "source": [
        "# Reproduzindo tabela de transformadas de Laplace."
      ],
      "metadata": {
        "id": "yVMwBlgVj2nw"
      }
    },
    {
      "cell_type": "code",
      "source": [
        "import sympy as sym\n",
        "from sympy.plotting import plot\n",
        "sym.init_printing()"
      ],
      "metadata": {
        "id": "WNDW8mgGkKv6"
      },
      "execution_count": null,
      "outputs": []
    },
    {
      "cell_type": "code",
      "source": [
        "omega, a = sym.symbols('omega a', real=True)\n",
        "exp = sym.exp\n",
        "sin = sym.sin\n",
        "cos = sym.cos\n",
        "functions = [1,\n",
        "         t,\n",
        "         exp(-a*t),\n",
        "         t*exp(-a*t),\n",
        "         t**2*exp(-a*t),\n",
        "         sin(omega*t),\n",
        "         cos(omega*t),\n",
        "         1 - exp(-a*t),\n",
        "         exp(-a*t)*sin(omega*t),\n",
        "         exp(-a*t)*cos(omega*t),\n",
        "         ]\n",
        "functions"
      ],
      "metadata": {
        "colab": {
          "base_uri": "https://localhost:8080/",
          "height": 38
        },
        "id": "YsPRnjLyj4q4",
        "outputId": "adbea721-d1e6-4fbc-c658-77ed4948fba8"
      },
      "execution_count": null,
      "outputs": [
        {
          "output_type": "execute_result",
          "data": {
            "text/plain": [
              "⎡       -a⋅t     -a⋅t   2  -a⋅t                           -a⋅t   -a⋅t         \n",
              "⎣1, t, ℯ    , t⋅ℯ    , t ⋅ℯ    , sin(ω⋅t), cos(ω⋅t), 1 - ℯ    , ℯ    ⋅sin(ω⋅t)\n",
              "\n",
              "   -a⋅t         ⎤\n",
              ", ℯ    ⋅cos(ω⋅t)⎦"
            ],
            "text/latex": "$\\displaystyle \\left[ 1, \\  t, \\  e^{- a t}, \\  t e^{- a t}, \\  t^{2} e^{- a t}, \\  \\sin{\\left(\\omega t \\right)}, \\  \\cos{\\left(\\omega t \\right)}, \\  1 - e^{- a t}, \\  e^{- a t} \\sin{\\left(\\omega t \\right)}, \\  e^{- a t} \\cos{\\left(\\omega t \\right)}\\right]$"
          },
          "metadata": {},
          "execution_count": 127
        }
      ]
    },
    {
      "cell_type": "code",
      "source": [
        "def L(f):\n",
        "    return sym.laplace_transform(f, t, s, noconds=True)\n",
        "\n",
        "Fs = [L(f) for f in functions]\n",
        "Fs"
      ],
      "metadata": {
        "colab": {
          "base_uri": "https://localhost:8080/",
          "height": 68
        },
        "id": "BXUWw5Idj8SI",
        "outputId": "0d58865f-8e74-44a0-96f5-0a4409ae818b"
      },
      "execution_count": null,
      "outputs": [
        {
          "output_type": "execute_result",
          "data": {
            "text/plain": [
              "⎡1  1     1       1         2         ω        s         1     1        ω     \n",
              "⎢─, ──, ─────, ────────, ────────, ───────, ───────, - ───── + ─, ────────────\n",
              "⎢s   2  a + s         2         3   2    2   2    2    a + s   s   2          \n",
              "⎣   s          (a + s)   (a + s)   ω  + s   ω  + s                ω  + (a + s)\n",
              "\n",
              "       a + s    ⎤\n",
              "─, ─────────────⎥\n",
              "2   2          2⎥\n",
              "   ω  + (a + s) ⎦"
            ],
            "text/latex": "$\\displaystyle \\left[ \\frac{1}{s}, \\  \\frac{1}{s^{2}}, \\  \\frac{1}{a + s}, \\  \\frac{1}{\\left(a + s\\right)^{2}}, \\  \\frac{2}{\\left(a + s\\right)^{3}}, \\  \\frac{\\omega}{\\omega^{2} + s^{2}}, \\  \\frac{s}{\\omega^{2} + s^{2}}, \\  - \\frac{1}{a + s} + \\frac{1}{s}, \\  \\frac{\\omega}{\\omega^{2} + \\left(a + s\\right)^{2}}, \\  \\frac{a + s}{\\omega^{2} + \\left(a + s\\right)^{2}}\\right]$"
          },
          "metadata": {},
          "execution_count": 128
        }
      ]
    },
    {
      "cell_type": "markdown",
      "source": [
        "# Avaliação direta"
      ],
      "metadata": {
        "id": "fWyfat-Akc3C"
      }
    },
    {
      "cell_type": "code",
      "source": [
        "f = sym.exp(-t)\n",
        "f"
      ],
      "metadata": {
        "colab": {
          "base_uri": "https://localhost:8080/",
          "height": 38
        },
        "id": "4DgNo885kf8I",
        "outputId": "8a1b036c-7a8d-4507-bcc3-8d553701e324"
      },
      "execution_count": null,
      "outputs": [
        {
          "output_type": "execute_result",
          "data": {
            "text/plain": [
              " -t\n",
              "ℯ  "
            ],
            "text/latex": "$\\displaystyle e^{- t}$"
          },
          "metadata": {},
          "execution_count": 129
        }
      ]
    },
    {
      "cell_type": "code",
      "source": [
        "Fs, _, _ = sym.laplace_transform(f, t, s)\n",
        "Fs"
      ],
      "metadata": {
        "colab": {
          "base_uri": "https://localhost:8080/",
          "height": 52
        },
        "id": "Ziiypr4rkklx",
        "outputId": "7dc8010c-89ad-4756-a2e3-d09193d1913b"
      },
      "execution_count": null,
      "outputs": [
        {
          "output_type": "execute_result",
          "data": {
            "text/plain": [
              "  1  \n",
              "─────\n",
              "s + 1"
            ],
            "text/latex": "$\\displaystyle \\frac{1}{s + 1}$"
          },
          "metadata": {},
          "execution_count": 133
        }
      ]
    },
    {
      "cell_type": "code",
      "source": [
        "sym.inverse_laplace_transform(Fs, s, t)"
      ],
      "metadata": {
        "colab": {
          "base_uri": "https://localhost:8080/",
          "height": 38
        },
        "id": "omYGOIklqAZT",
        "outputId": "2b82f7a5-4c8c-42dc-8db0-4da374f96b33"
      },
      "execution_count": null,
      "outputs": [
        {
          "output_type": "execute_result",
          "data": {
            "text/plain": [
              " -t     \n",
              "ℯ  ⋅θ(t)"
            ],
            "text/latex": "$\\displaystyle e^{- t} \\theta\\left(t\\right)$"
          },
          "metadata": {},
          "execution_count": 135
        }
      ]
    },
    {
      "cell_type": "markdown",
      "source": [
        "# A função degrau unitário também conhecida como função degrau de Heaviside e é representada como θ(t) no Sympy."
      ],
      "metadata": {
        "id": "s3tWvv4ilCKR"
      }
    },
    {
      "cell_type": "code",
      "source": [
        "sym.Heaviside(t) # Degrau aplicado no tempo t=0"
      ],
      "metadata": {
        "colab": {
          "base_uri": "https://localhost:8080/",
          "height": 38
        },
        "id": "pgKG4UB-lAu5",
        "outputId": "245cbb8b-aad7-40e3-9a9b-84ec3fc55e3d"
      },
      "execution_count": null,
      "outputs": [
        {
          "output_type": "execute_result",
          "data": {
            "text/plain": [
              "θ(t)"
            ],
            "text/latex": "$\\displaystyle \\theta\\left(t\\right)$"
          },
          "metadata": {},
          "execution_count": 136
        }
      ]
    },
    {
      "cell_type": "code",
      "source": [
        "sym.plot(sym.Heaviside(t));"
      ],
      "metadata": {
        "colab": {
          "base_uri": "https://localhost:8080/",
          "height": 484
        },
        "id": "0c7jFgdblUnR",
        "outputId": "0ba31dc5-abca-434d-c851-e61606c355e2"
      },
      "execution_count": null,
      "outputs": [
        {
          "output_type": "display_data",
          "data": {
            "text/plain": [
              "<Figure size 640x480 with 1 Axes>"
            ],
            "image/png": "[encoded data removed]"
          },
          "metadata": {}
        }
      ]
    },
    {
      "cell_type": "markdown",
      "source": [
        "# Usando a bliblioteca Sympy para análise\n",
        "\n",
        "<img width=\"500\" height=\"auto\" src=\"data:image/png;base64,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\"/>"
      ],
      "metadata": {
        "id": "sT2rjH4nunIC"
      }
    },
    {
      "cell_type": "code",
      "execution_count": null,
      "metadata": {
        "colab": {
          "base_uri": "https://localhost:8080/",
          "height": 58
        },
        "id": "nIepByvxjVQn",
        "outputId": "bcdda9cc-a7c6-4f2e-fd02-80f811283465"
      },
      "outputs": [
        {
          "output_type": "execute_result",
          "data": {
            "text/plain": [
              "⎛   K₁       K₂  ⎞\n",
              "⎜───────, ───────⎟\n",
              "⎝s⋅τ + 1  s⋅τ + 1⎠"
            ],
            "text/latex": "$\\displaystyle \\left( \\frac{K_{1}}{s \\tau + 1}, \\  \\frac{K_{2}}{s \\tau + 1}\\right)$"
          },
          "metadata": {},
          "execution_count": 138
        }
      ],
      "source": [
        "\n",
        "\n",
        "# Criando as variáveis simbólicas\n",
        "t, tau, K1, K2, Delta_q = sym.symbols('t tau K1 K2 Delta_q', real=True)\n",
        "s = sym.symbols('s', complex=True)\n",
        "\n",
        "# Definindo as funções de transferência\n",
        "G_1 = K1/(tau*s + 1) # efeito de T_in\n",
        "G_2 = K2/(tau*s + 1) # efeito de q\n",
        "\n",
        "# Visualizando as funções de transferência\n",
        "(G_1, G_2)"
      ]
    },
    {
      "cell_type": "code",
      "source": [
        "# Definindo a perturbação degrau na carga térmica q\n",
        "U, a, cond = sym.laplace_transform(Delta_q, t, s)\n",
        "sym.simplify(U)"
      ],
      "metadata": {
        "colab": {
          "base_uri": "https://localhost:8080/",
          "height": 52
        },
        "id": "KU5vN6j4kTWb",
        "outputId": "986866bf-8596-4579-a404-11f525a5ae94"
      },
      "execution_count": null,
      "outputs": [
        {
          "output_type": "execute_result",
          "data": {
            "text/plain": [
              "Δ_q\n",
              "───\n",
              " s "
            ],
            "text/latex": "$\\displaystyle \\frac{\\Delta_{q}}{s}$"
          },
          "metadata": {},
          "execution_count": 139
        }
      ]
    },
    {
      "cell_type": "code",
      "source": [
        "# Expressando a resposta do sistema\n",
        "Ts = G_2 * U\n",
        "Ts"
      ],
      "metadata": {
        "colab": {
          "base_uri": "https://localhost:8080/",
          "height": 56
        },
        "id": "NRIij9IxkU3p",
        "outputId": "e1ec5884-fd89-4262-a419-c480df2e3272"
      },
      "execution_count": null,
      "outputs": [
        {
          "output_type": "execute_result",
          "data": {
            "text/plain": [
              "   Δ_q⋅K₂  \n",
              "───────────\n",
              "s⋅(s⋅τ + 1)"
            ],
            "text/latex": "$\\displaystyle \\frac{\\Delta_{q} K_{2}}{s \\left(s \\tau + 1\\right)}$"
          },
          "metadata": {},
          "execution_count": 140
        }
      ]
    },
    {
      "cell_type": "code",
      "source": [
        "# Calculando o valor final (em termos de variáveis-desvio)\n",
        "T_final = sym.limit(s*Ts, s, 0)\n",
        "T_final"
      ],
      "metadata": {
        "colab": {
          "base_uri": "https://localhost:8080/",
          "height": 38
        },
        "id": "MAowlTiTmEh9",
        "outputId": "0df71359-d441-48a1-d854-927b7a032d9b"
      },
      "execution_count": null,
      "outputs": [
        {
          "output_type": "execute_result",
          "data": {
            "text/plain": [
              "Δ_q⋅K₂"
            ],
            "text/latex": "$\\displaystyle \\Delta_{q} K_{2}$"
          },
          "metadata": {},
          "execution_count": 141
        }
      ]
    },
    {
      "cell_type": "code",
      "source": [
        "# Expandindo T em frações parciais e\n",
        "Tp = Ts.apart(s)\n",
        "Tp"
      ],
      "metadata": {
        "colab": {
          "base_uri": "https://localhost:8080/",
          "height": 53
        },
        "id": "YSMm5ecrjHsa",
        "outputId": "53c59bf4-5736-4a3f-a062-4ae9d867c20a"
      },
      "execution_count": null,
      "outputs": [
        {
          "output_type": "execute_result",
          "data": {
            "text/plain": [
              "  Δ_q⋅K₂⋅τ   Δ_q⋅K₂\n",
              "- ──────── + ──────\n",
              "  s⋅τ + 1      s   "
            ],
            "text/latex": "$\\displaystyle - \\frac{\\Delta_{q} K_{2} \\tau}{s \\tau + 1} + \\frac{\\Delta_{q} K_{2}}{s}$"
          },
          "metadata": {},
          "execution_count": 142
        }
      ]
    },
    {
      "cell_type": "code",
      "source": [
        "# Fazendo a transformada inversa de Laplace para voltar para o domínio do tempo\n",
        "Tt = sym.inverse_laplace_transform(Tp, s, t)\n",
        "Tt"
      ],
      "metadata": {
        "colab": {
          "base_uri": "https://localhost:8080/",
          "height": 40
        },
        "id": "K-AvXBoajRRY",
        "outputId": "c462f20e-11d1-4235-a6e0-3abc8c60031f"
      },
      "execution_count": null,
      "outputs": [
        {
          "output_type": "execute_result",
          "data": {
            "text/plain": [
              "                      -t      \n",
              "                      ───     \n",
              "                       τ      \n",
              "Δ_q⋅K₂⋅θ(t) - Δ_q⋅K₂⋅ℯ   ⋅θ(t)"
            ],
            "text/latex": "$\\displaystyle \\Delta_{q} K_{2} \\theta\\left(t\\right) - \\Delta_{q} K_{2} e^{- \\frac{t}{\\tau}} \\theta\\left(t\\right)$"
          },
          "metadata": {},
          "execution_count": 143
        }
      ]
    },
    {
      "cell_type": "code",
      "source": [
        "# Observando o comportamento gráfico ao longo do tempo\n",
        "# supondo os parametros\n",
        "K2 = 1.5; Delta_q = 1.0; tau = 2.0\n",
        "Tt = Delta_q*K2*(1-sym.exp(-t/tau))\n",
        "Tt"
      ],
      "metadata": {
        "colab": {
          "base_uri": "https://localhost:8080/",
          "height": 38
        },
        "id": "EUkMHZQxn7CJ",
        "outputId": "dd301af8-912d-48a6-a85c-dd64d29f0d92"
      },
      "execution_count": null,
      "outputs": [
        {
          "output_type": "execute_result",
          "data": {
            "text/plain": [
              "           -0.5⋅t\n",
              "1.5 - 1.5⋅ℯ      "
            ],
            "text/latex": "$\\displaystyle 1.5 - 1.5 e^{- 0.5 t}$"
          },
          "metadata": {},
          "execution_count": 144
        }
      ]
    },
    {
      "cell_type": "code",
      "source": [
        "plot(Tt, (t, 0, 10),\n",
        "     xlabel='tempo, t', ylabel='Temperatura, T');"
      ],
      "metadata": {
        "colab": {
          "base_uri": "https://localhost:8080/",
          "height": 484
        },
        "id": "KhhtfbRZolqr",
        "outputId": "ce176ffd-e594-423b-d439-bd1daca216cd"
      },
      "execution_count": null,
      "outputs": [
        {
          "output_type": "display_data",
          "data": {
            "text/plain": [
              "<Figure size 640x480 with 1 Axes>"
            ],
            "image/png": "[encoded data removed]"
          },
          "metadata": {}
        }
      ]
    },
    {
      "cell_type": "markdown",
      "source": [
        "# Inversas um pouco mais complicadas"
      ],
      "metadata": {
        "id": "e5-aM5eRi5-w"
      }
    },
    {
      "cell_type": "code",
      "source": [
        "Fs = 18/(s + 2) * 1/(s + 3)**2 * (1/s)\n",
        "Fs"
      ],
      "metadata": {
        "colab": {
          "base_uri": "https://localhost:8080/",
          "height": 58
        },
        "id": "hquriTd0i5f4",
        "outputId": "aa1b8794-6787-4f43-e493-acb57a2e444c"
      },
      "execution_count": null,
      "outputs": [
        {
          "output_type": "execute_result",
          "data": {
            "text/plain": [
              "        18        \n",
              "──────────────────\n",
              "                 2\n",
              "s⋅(s + 2)⋅(s + 3) "
            ],
            "text/latex": "$\\displaystyle \\frac{18}{s \\left(s + 2\\right) \\left(s + 3\\right)^{2}}$"
          },
          "metadata": {},
          "execution_count": 146
        }
      ]
    },
    {
      "cell_type": "code",
      "source": [
        "Fp = Fs.apart(s)\n",
        "Fp"
      ],
      "metadata": {
        "colab": {
          "base_uri": "https://localhost:8080/",
          "height": 58
        },
        "id": "DvrjMzGQjAq3",
        "outputId": "6e96233a-ce37-4ab9-a11e-f71e6e81757a"
      },
      "execution_count": null,
      "outputs": [
        {
          "output_type": "execute_result",
          "data": {
            "text/plain": [
              "  8        6         9     1\n",
              "───── + ──────── - ───── + ─\n",
              "s + 3          2   s + 2   s\n",
              "        (s + 3)             "
            ],
            "text/latex": "$\\displaystyle \\frac{8}{s + 3} + \\frac{6}{\\left(s + 3\\right)^{2}} - \\frac{9}{s + 2} + \\frac{1}{s}$"
          },
          "metadata": {},
          "execution_count": 147
        }
      ]
    },
    {
      "cell_type": "code",
      "source": [
        "Ft = sym.inverse_laplace_transform(Fs, s, t)\n",
        "Ft"
      ],
      "metadata": {
        "colab": {
          "base_uri": "https://localhost:8080/",
          "height": 38
        },
        "id": "XoN48cizm28a",
        "outputId": "d7a9e477-2f9a-45b6-f4ea-0f9798e2dfed"
      },
      "execution_count": null,
      "outputs": [
        {
          "output_type": "execute_result",
          "data": {
            "text/plain": [
              "     -3⋅t                  -2⋅t           -3⋅t     \n",
              "6⋅t⋅ℯ    ⋅θ(t) + θ(t) - 9⋅ℯ    ⋅θ(t) + 8⋅ℯ    ⋅θ(t)"
            ],
            "text/latex": "$\\displaystyle 6 t e^{- 3 t} \\theta\\left(t\\right) + \\theta\\left(t\\right) - 9 e^{- 2 t} \\theta\\left(t\\right) + 8 e^{- 3 t} \\theta\\left(t\\right)$"
          },
          "metadata": {},
          "execution_count": 148
        }
      ]
    },
    {
      "cell_type": "code",
      "source": [
        "plot(Ft, (t, 0, 10))"
      ],
      "metadata": {
        "colab": {
          "base_uri": "https://localhost:8080/",
          "height": 501
        },
        "id": "gKNdGaTVnDWo",
        "outputId": "e93c0329-f63c-491e-c157-9de6b8b61c57"
      },
      "execution_count": null,
      "outputs": [
        {
          "output_type": "display_data",
          "data": {
            "text/plain": [
              "<Figure size 640x480 with 1 Axes>"
            ],
            "image/png": "[encoded data removed]"
          },
          "metadata": {}
        },
        {
          "output_type": "execute_result",
          "data": {
            "text/plain": [
              "<sympy.plotting.plot.Plot at 0x7c4bf6f650f0>"
            ]
          },
          "metadata": {},
          "execution_count": 149
        }
      ]
    }
  ]
}
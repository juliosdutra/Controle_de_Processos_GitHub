{
  "nbformat": 4,
  "nbformat_minor": 0,
  "metadata": {
    "colab": {
      "provenance": [],
      "authorship_tag": "ABX9TyMQFvlyzIpce4XxhIQGR7zs",
      "include_colab_link": true
    },
    "kernelspec": {
      "name": "python3",
      "display_name": "Python 3"
    },
    "language_info": {
      "name": "python"
    }
  },
  "cells": [
    {
      "cell_type": "markdown",
      "metadata": {
        "id": "view-in-github",
        "colab_type": "text"
      },
      "source": [
        "<a href=\"https://colab.research.google.com/github/juliosdutra/Controle_de_Processos_UFES/blob/main/3.Transfer-functions/ABCD_FT.ipynb\" target=\"_parent\"><img src=\"https://colab.research.google.com/assets/colab-badge.svg\" alt=\"Open In Colab\"/></a>"
      ]
    },
    {
      "cell_type": "markdown",
      "source": [
        "<left><img src=\"https://github.com/juliosdutra/Controle_de_Processos_UFES/blob/main/imagens/cabe%C3%A7alho-geral.jpg?raw=true\" width=\"700\" height=\"175\">\n",
        "</left>"
      ],
      "metadata": {
        "id": "Im39dOUUS3gq"
      }
    },
    {
      "cell_type": "markdown",
      "source": [
        "## Instalando e importando as bibliotecas"
      ],
      "metadata": {
        "id": "9P9rVNprTb4e"
      }
    },
    {
      "cell_type": "code",
      "source": [
        "! pip install -qq control sympy"
      ],
      "metadata": {
        "id": "Kg7mc0Y2XMk9",
        "outputId": "7ed20a77-b97a-4f79-ebe4-10c5cee75cb0",
        "colab": {
          "base_uri": "https://localhost:8080/",
          "height": 17
        }
      },
      "execution_count": null,
      "outputs": [
        {
          "output_type": "display_data",
          "data": {
            "text/plain": [
              "<IPython.core.display.HTML object>"
            ],
            "text/html": [
              "<style>\n",
              "    body {\n",
              "      font-size: 25px;\n",
              "    }\n",
              "  "
            ]
          },
          "metadata": {}
        }
      ]
    },
    {
      "cell_type": "code",
      "source": [
        "import numpy as np\n",
        "import control as ct\n",
        "import matplotlib.pyplot as plt"
      ],
      "metadata": {
        "id": "PWvRihjdWlBc",
        "colab": {
          "base_uri": "https://localhost:8080/",
          "height": 17
        },
        "outputId": "9afa1800-e938-4de6-fa3d-78dc64d2e00d"
      },
      "execution_count": null,
      "outputs": [
        {
          "output_type": "display_data",
          "data": {
            "text/plain": [
              "<IPython.core.display.HTML object>"
            ],
            "text/html": [
              "<style>\n",
              "    body {\n",
              "      font-size: 25px;\n",
              "    }\n",
              "  "
            ]
          },
          "metadata": {}
        }
      ]
    },
    {
      "cell_type": "code",
      "source": [
        "# Ajustando o tamanho da fonte de saída das células: OPCIONAL\n",
        "from IPython.display import HTML\n",
        "shell = get_ipython()\n",
        "\n",
        "def adjust_font_size():\n",
        "  display(HTML('''<style>\n",
        "    body {\n",
        "      font-size: 25px;\n",
        "    }\n",
        "  '''))\n",
        "\n",
        "if adjust_font_size not in shell.events.callbacks['pre_execute']:\n",
        "  shell.events.register('pre_execute', adjust_font_size)"
      ],
      "metadata": {
        "id": "ICgpzGYtwFUg",
        "colab": {
          "base_uri": "https://localhost:8080/",
          "height": 17
        },
        "outputId": "967ec523-d92a-410c-c0f7-63f9bae34c6e"
      },
      "execution_count": null,
      "outputs": [
        {
          "output_type": "display_data",
          "data": {
            "text/plain": [
              "<IPython.core.display.HTML object>"
            ],
            "text/html": [
              "<style>\n",
              "    body {\n",
              "      font-size: 25px;\n",
              "    }\n",
              "  "
            ]
          },
          "metadata": {}
        }
      ]
    },
    {
      "cell_type": "markdown",
      "source": [
        "# Convertendo um espaço de estados em uma função de transferência"
      ],
      "metadata": {
        "id": "vs4LCcoATtEm"
      }
    },
    {
      "cell_type": "markdown",
      "source": [
        "Um modelo em espaço de estados pode ser convertido para uma função de transferência (ou matriz de transferência). Caso você tenha instalado a biblioteca Slycot (dependência obrigatória para sistemas MIMO), poderá converter diretamente um modelo em espaço de estados para a forma de uma matriz de transferência, usando G = tf(sys) onde sys é uma representação em espaço de estados.\n",
        "\n",
        "No Google Colab, ainda não é possível utilizar a biblioteca Slycot. A conversão pode ser feita usando uma programação com a biblioteca Sympy. Aqui abaixo, estão duas funções simples escritas pelo professor para facilitar o trabalho nesta disciplina.\n"
      ],
      "metadata": {
        "id": "d-j1dSoE6gVl"
      }
    },
    {
      "cell_type": "markdown",
      "source": [
        "A função `ABCD_to_tf(A, B, C, D)` é utilizada para manipulação simbólica e algébrica, convertendo um espaço de estados dado pelas matrizes `A`, `B`, `C` e `D` em uma matriz simbólica de funções de transferência, \\( **G**(s) \\). Em seguida, a função `get_tf(g_exp)` extrai os coeficientes do numerador e do denominador de uma função de transferência simbólica, `g_exp`, e converte-a para uma função de transferência numérica, a qual pode ser usada para extrair propriedades do sistema.\n"
      ],
      "metadata": {
        "id": "CjZ-ZPT-8jQe"
      }
    },
    {
      "cell_type": "code",
      "source": [
        "from sympy import symbols, Poly, eye\n",
        "\n",
        "def ABCD_to_tf(A,B,C,D):\n",
        "    '''  É utilizada para manipulação simbólica e algébrica para converter um espaço\n",
        "    de estados dado por (A, B, C, D) para uma matriz de funções de  transferência\n",
        "    no domínio de Laplace.'''\n",
        "    s = symbols('s')\n",
        "    n = A.shape[0]\n",
        "    G = C*(s*eye(n) - A).inv()*B + D\n",
        "    return G.as_immutable()\n",
        "\n",
        "def get_tf(g_exp):\n",
        "    '''Extrai os coeficiente do numerador e do denominador de uma função de transferência\n",
        "    simbólica e converte para um função de transferências numérica, a qual pode ser usada\n",
        "    para extrair propriedades dos sistema.'''\n",
        "    num, den = g_exp.as_numer_denom()\n",
        "    num_float = [float(i) for i in Poly(num).all_coeffs()]\n",
        "    den_float = [float(i) for i in Poly(den).all_coeffs()]\n",
        "    den_ = den_float[-1]\n",
        "    return ct.tf(np.array(num_float)/den_,\n",
        "                 np.array(den_float)/den_)\n"
      ],
      "metadata": {
        "id": "4zLUr1BwXA5e",
        "outputId": "220a7be1-7591-4ad0-ed7b-089b9e359f17",
        "colab": {
          "base_uri": "https://localhost:8080/",
          "height": 17
        }
      },
      "execution_count": null,
      "outputs": [
        {
          "output_type": "display_data",
          "data": {
            "text/plain": [
              "<IPython.core.display.HTML object>"
            ],
            "text/html": [
              "<style>\n",
              "    body {\n",
              "      font-size: 25px;\n",
              "    }\n",
              "  "
            ]
          },
          "metadata": {}
        },
        {
          "output_type": "display_data",
          "data": {
            "text/plain": [
              "<IPython.core.display.HTML object>"
            ],
            "text/html": [
              "<style>\n",
              "    body {\n",
              "      font-size: 25px;\n",
              "    }\n",
              "  "
            ]
          },
          "metadata": {}
        }
      ]
    },
    {
      "cell_type": "code",
      "source": [
        "# Especificar o modelo em espaço de estados (exemplo)\n",
        "A = np.array([[-1.14 , -0.01 ],\n",
        "              [29.332, -0.947]])\n",
        "B = np.array([[0.001, 1.   , 0.   ],\n",
        "              [0.255, 0.   , 2.092]])\n",
        "C = np.array([[1., 0.],\n",
        "              [0., 1.]])\n",
        "D = np.array([[0., 0., 0.],\n",
        "              [0., 0., 0.]])\n",
        "\n",
        "sys = ct.ss(A,B,C,D)\n",
        "\n",
        "sys"
      ],
      "metadata": {
        "colab": {
          "base_uri": "https://localhost:8080/",
          "height": 162
        },
        "id": "uUS9d0yaWf-O",
        "outputId": "36d7f7e0-ffbe-4115-9843-1dffe2405bed"
      },
      "execution_count": null,
      "outputs": [
        {
          "output_type": "display_data",
          "data": {
            "text/plain": [
              "<IPython.core.display.HTML object>"
            ],
            "text/html": [
              "<style>\n",
              "    body {\n",
              "      font-size: 25px;\n",
              "    }\n",
              "  "
            ]
          },
          "metadata": {}
        },
        {
          "output_type": "display_data",
          "data": {
            "text/plain": [
              "<IPython.core.display.HTML object>"
            ],
            "text/html": [
              "<style>\n",
              "    body {\n",
              "      font-size: 25px;\n",
              "    }\n",
              "  "
            ]
          },
          "metadata": {}
        },
        {
          "output_type": "execute_result",
          "data": {
            "text/plain": [
              "StateSpace(array([[-1.1400e+00, -1.0000e-02],\n",
              "       [ 2.9332e+01, -9.4700e-01]]), array([[1.000e-03, 1.000e+00, 0.000e+00],\n",
              "       [2.550e-01, 0.000e+00, 2.092e+00]]), array([[1., 0.],\n",
              "       [0., 1.]]), array([[0., 0., 0.],\n",
              "       [0., 0., 0.]]))"
            ],
            "text/latex": "$$\n\\left(\\begin{array}{rllrll|rllrllrll}\n-1.&\\hspace{-1em}14&\\hspace{-1em}\\phantom{\\cdot}&-0.&\\hspace{-1em}01&\\hspace{-1em}\\phantom{\\cdot}&0.&\\hspace{-1em}001&\\hspace{-1em}\\phantom{\\cdot}&1\\phantom{.}&\\hspace{-1em}&\\hspace{-1em}\\phantom{\\cdot}&0\\phantom{.}&\\hspace{-1em}&\\hspace{-1em}\\phantom{\\cdot}\\\\\n29.&\\hspace{-1em}3&\\hspace{-1em}\\phantom{\\cdot}&-0.&\\hspace{-1em}947&\\hspace{-1em}\\phantom{\\cdot}&0.&\\hspace{-1em}255&\\hspace{-1em}\\phantom{\\cdot}&0\\phantom{.}&\\hspace{-1em}&\\hspace{-1em}\\phantom{\\cdot}&2.&\\hspace{-1em}09&\\hspace{-1em}\\phantom{\\cdot}\\\\\n\\hline\n1\\phantom{.}&\\hspace{-1em}&\\hspace{-1em}\\phantom{\\cdot}&0\\phantom{.}&\\hspace{-1em}&\\hspace{-1em}\\phantom{\\cdot}&0\\phantom{.}&\\hspace{-1em}&\\hspace{-1em}\\phantom{\\cdot}&0\\phantom{.}&\\hspace{-1em}&\\hspace{-1em}\\phantom{\\cdot}&0\\phantom{.}&\\hspace{-1em}&\\hspace{-1em}\\phantom{\\cdot}\\\\\n0\\phantom{.}&\\hspace{-1em}&\\hspace{-1em}\\phantom{\\cdot}&1\\phantom{.}&\\hspace{-1em}&\\hspace{-1em}\\phantom{\\cdot}&0\\phantom{.}&\\hspace{-1em}&\\hspace{-1em}\\phantom{\\cdot}&0\\phantom{.}&\\hspace{-1em}&\\hspace{-1em}\\phantom{\\cdot}&0\\phantom{.}&\\hspace{-1em}&\\hspace{-1em}\\phantom{\\cdot}\\\\\n\\end{array}\\right)\n$$"
          },
          "metadata": {},
          "execution_count": 8
        }
      ]
    },
    {
      "cell_type": "code",
      "source": [
        "G = ABCD_to_tf(A,B,C,D) # fornece a matriz de funções de transferência\n",
        "G.simplify()"
      ],
      "metadata": {
        "id": "6HnoOfzBT4tL",
        "outputId": "1a03690e-59ad-466a-971e-338884b60ada",
        "colab": {
          "base_uri": "https://localhost:8080/",
          "height": 93
        }
      },
      "execution_count": null,
      "outputs": [
        {
          "output_type": "display_data",
          "data": {
            "text/plain": [
              "<IPython.core.display.HTML object>"
            ],
            "text/html": [
              "<style>\n",
              "    body {\n",
              "      font-size: 25px;\n",
              "    }\n",
              "  "
            ]
          },
          "metadata": {}
        },
        {
          "output_type": "display_data",
          "data": {
            "text/plain": [
              "<IPython.core.display.HTML object>"
            ],
            "text/html": [
              "<style>\n",
              "    body {\n",
              "      font-size: 25px;\n",
              "    }\n",
              "  "
            ]
          },
          "metadata": {}
        },
        {
          "output_type": "execute_result",
          "data": {
            "text/plain": [
              "Matrix([\n",
              "[(0.001*s - 0.001603)/(1.0*s**2 + 2.087*s + 1.3729), (1.0*s + 0.947)/(1.0*s**2 + 2.087*s + 1.3729),            -0.02092/(1.0*s**2 + 2.087*s + 1.3729)],\n",
              "[(0.255*s + 0.320032)/(1.0*s**2 + 2.087*s + 1.3729),          29.332/(1.0*s**2 + 2.087*s + 1.3729), (2.092*s + 2.38488)/(1.0*s**2 + 2.087*s + 1.3729)]])"
            ],
            "text/latex": "$\\displaystyle \\left[\\begin{matrix}\\frac{0.001 s - 0.001603}{1.0 s^{2} + 2.087 s + 1.3729} & \\frac{1.0 s + 0.947}{1.0 s^{2} + 2.087 s + 1.3729} & - \\frac{0.02092}{1.0 s^{2} + 2.087 s + 1.3729}\\\\\\frac{0.255 s + 0.320032}{1.0 s^{2} + 2.087 s + 1.3729} & \\frac{29.332}{1.0 s^{2} + 2.087 s + 1.3729} & \\frac{2.092 s + 2.38488}{1.0 s^{2} + 2.087 s + 1.3729}\\end{matrix}\\right]$"
          },
          "metadata": {},
          "execution_count": 9
        }
      ]
    },
    {
      "cell_type": "code",
      "source": [
        "Gp = get_tf(G[0,1])\n",
        "Gp"
      ],
      "metadata": {
        "id": "ytwsKWHqXi0n",
        "outputId": "a782714d-3e67-495a-a7d8-6e75398a5df6",
        "colab": {
          "base_uri": "https://localhost:8080/",
          "height": 56
        }
      },
      "execution_count": null,
      "outputs": [
        {
          "output_type": "display_data",
          "data": {
            "text/plain": [
              "<IPython.core.display.HTML object>"
            ],
            "text/html": [
              "<style>\n",
              "    body {\n",
              "      font-size: 25px;\n",
              "    }\n",
              "  "
            ]
          },
          "metadata": {}
        },
        {
          "output_type": "display_data",
          "data": {
            "text/plain": [
              "<IPython.core.display.HTML object>"
            ],
            "text/html": [
              "<style>\n",
              "    body {\n",
              "      font-size: 25px;\n",
              "    }\n",
              "  "
            ]
          },
          "metadata": {}
        },
        {
          "output_type": "execute_result",
          "data": {
            "text/plain": [
              "TransferFunction(array([0.72838517, 0.68978076]), array([0.72838517, 1.52013985, 1.        ]))"
            ],
            "text/latex": "$$\\frac{0.7284 s + 0.6898}{0.7284 s^2 + 1.52 s + 1}$$"
          },
          "metadata": {},
          "execution_count": 10
        }
      ]
    },
    {
      "cell_type": "code",
      "source": [
        "Gp.dcgain()"
      ],
      "metadata": {
        "id": "fRy3XgxMUvB_",
        "outputId": "c6deb566-4bbb-49e1-8bfa-883afb71d252",
        "colab": {
          "base_uri": "https://localhost:8080/",
          "height": 48
        }
      },
      "execution_count": null,
      "outputs": [
        {
          "output_type": "display_data",
          "data": {
            "text/plain": [
              "<IPython.core.display.HTML object>"
            ],
            "text/html": [
              "<style>\n",
              "    body {\n",
              "      font-size: 25px;\n",
              "    }\n",
              "  "
            ]
          },
          "metadata": {}
        },
        {
          "output_type": "display_data",
          "data": {
            "text/plain": [
              "<IPython.core.display.HTML object>"
            ],
            "text/html": [
              "<style>\n",
              "    body {\n",
              "      font-size: 25px;\n",
              "    }\n",
              "  "
            ]
          },
          "metadata": {}
        },
        {
          "output_type": "execute_result",
          "data": {
            "text/plain": [
              "0.6897807560638066"
            ]
          },
          "metadata": {},
          "execution_count": 11
        }
      ]
    },
    {
      "cell_type": "code",
      "source": [
        "Gp.poles()"
      ],
      "metadata": {
        "colab": {
          "base_uri": "https://localhost:8080/",
          "height": 48
        },
        "id": "HUzuZCYhXvYK",
        "outputId": "db0987ef-239c-4691-c30b-a83bff72d7f9"
      },
      "execution_count": null,
      "outputs": [
        {
          "output_type": "display_data",
          "data": {
            "text/plain": [
              "<IPython.core.display.HTML object>"
            ],
            "text/html": [
              "<style>\n",
              "    body {\n",
              "      font-size: 25px;\n",
              "    }\n",
              "  "
            ]
          },
          "metadata": {}
        },
        {
          "output_type": "display_data",
          "data": {
            "text/plain": [
              "<IPython.core.display.HTML object>"
            ],
            "text/html": [
              "<style>\n",
              "    body {\n",
              "      font-size: 25px;\n",
              "    }\n",
              "  "
            ]
          },
          "metadata": {}
        },
        {
          "output_type": "execute_result",
          "data": {
            "text/plain": [
              "array([-1.0435+0.53292378j, -1.0435-0.53292378j])"
            ]
          },
          "metadata": {},
          "execution_count": 12
        }
      ]
    },
    {
      "cell_type": "code",
      "source": [
        "Gp.zeros()"
      ],
      "metadata": {
        "colab": {
          "base_uri": "https://localhost:8080/",
          "height": 48
        },
        "id": "1Fboj2yFYEC2",
        "outputId": "8700ee58-ac26-4347-fc0d-01b916ecb632"
      },
      "execution_count": null,
      "outputs": [
        {
          "output_type": "display_data",
          "data": {
            "text/plain": [
              "<IPython.core.display.HTML object>"
            ],
            "text/html": [
              "<style>\n",
              "    body {\n",
              "      font-size: 25px;\n",
              "    }\n",
              "  "
            ]
          },
          "metadata": {}
        },
        {
          "output_type": "display_data",
          "data": {
            "text/plain": [
              "<IPython.core.display.HTML object>"
            ],
            "text/html": [
              "<style>\n",
              "    body {\n",
              "      font-size: 25px;\n",
              "    }\n",
              "  "
            ]
          },
          "metadata": {}
        },
        {
          "output_type": "execute_result",
          "data": {
            "text/plain": [
              "array([-0.947+0.j])"
            ]
          },
          "metadata": {},
          "execution_count": 13
        }
      ]
    },
    {
      "cell_type": "code",
      "source": [
        "t, y = ct.step_response(Gp)\n",
        "plt.plot(t,y);\n",
        "plt.grid();"
      ],
      "metadata": {
        "id": "0dwRYdVwX_UT",
        "outputId": "e6b3dc58-e7c5-4411-cfe7-69847ba0d850",
        "colab": {
          "base_uri": "https://localhost:8080/",
          "height": 430
        }
      },
      "execution_count": null,
      "outputs": [
        {
          "output_type": "display_data",
          "data": {
            "text/plain": [
              "<IPython.core.display.HTML object>"
            ],
            "text/html": [
              "<style>\n",
              "    body {\n",
              "      font-size: 25px;\n",
              "    }\n",
              "  "
            ]
          },
          "metadata": {}
        },
        {
          "output_type": "display_data",
          "data": {
            "text/plain": [
              "<IPython.core.display.HTML object>"
            ],
            "text/html": [
              "<style>\n",
              "    body {\n",
              "      font-size: 25px;\n",
              "    }\n",
              "  "
            ]
          },
          "metadata": {}
        },
        {
          "output_type": "display_data",
          "data": {
            "text/plain": [
              "<Figure size 640x480 with 1 Axes>"
            ],
            "image/png": "[encoded data removed]"
          },
          "metadata": {}
        }
      ]
    },
    {
      "cell_type": "code",
      "source": [],
      "metadata": {
        "id": "CSfslHkN6xqI"
      },
      "execution_count": null,
      "outputs": []
    }
  ]
}
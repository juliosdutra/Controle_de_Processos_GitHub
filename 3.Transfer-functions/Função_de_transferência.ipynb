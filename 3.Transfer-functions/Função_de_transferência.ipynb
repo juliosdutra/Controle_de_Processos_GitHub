{
  "nbformat": 4,
  "nbformat_minor": 0,
  "metadata": {
    "colab": {
      "provenance": [],
      "toc_visible": true,
      "authorship_tag": "ABX9TyNWMiUt1U5KVDjGVhb/sBvP",
      "include_colab_link": true
    },
    "kernelspec": {
      "name": "python3",
      "display_name": "Python 3"
    },
    "language_info": {
      "name": "python"
    }
  },
  "cells": [
    {
      "cell_type": "markdown",
      "metadata": {
        "id": "view-in-github",
        "colab_type": "text"
      },
      "source": [
        "<a href=\"https://colab.research.google.com/github/juliosdutra/Controle_de_Processos_UFES/blob/main/3.Transfer-functions/Fun%C3%A7%C3%A3o_de_transfer%C3%AAncia.ipynb\" target=\"_parent\"><img src=\"https://colab.research.google.com/assets/colab-badge.svg\" alt=\"Open In Colab\"/></a>"
      ]
    },
    {
      "cell_type": "markdown",
      "source": [],
      "metadata": {
        "id": "sjlLk499YROt"
      }
    },
    {
      "cell_type": "markdown",
      "source": [
        "<left><img src=\"https://github.com/juliosdutra/Controle_de_Processos_UFES/blob/main/imagens/cabe%C3%A7alho-geral.jpg?raw=true\" width=\"700\" height=\"175\">\n",
        "</left>"
      ],
      "metadata": {
        "id": "Im39dOUUS3gq"
      }
    },
    {
      "cell_type": "markdown",
      "source": [
        "# Funções de transferência"
      ],
      "metadata": {
        "id": "4of_R5Q7TOxH"
      }
    },
    {
      "cell_type": "markdown",
      "source": [
        "## Instalando e importando as bibliotecas"
      ],
      "metadata": {
        "id": "9P9rVNprTb4e"
      }
    },
    {
      "cell_type": "code",
      "source": [
        "! pip install -qq control sympy"
      ],
      "metadata": {
        "id": "Kg7mc0Y2XMk9"
      },
      "execution_count": 1,
      "outputs": []
    },
    {
      "cell_type": "code",
      "source": [
        "import numpy as np\n",
        "import control as ct\n",
        "import matplotlib.pyplot as plt"
      ],
      "metadata": {
        "id": "PWvRihjdWlBc"
      },
      "execution_count": 2,
      "outputs": []
    },
    {
      "cell_type": "markdown",
      "source": [
        "# Criando diretamente uma função de transferência"
      ],
      "metadata": {
        "id": "cHdZOQlFTlv2"
      }
    },
    {
      "cell_type": "code",
      "source": [],
      "metadata": {
        "id": "kke7cPHKTyDe"
      },
      "execution_count": 2,
      "outputs": []
    },
    {
      "cell_type": "markdown",
      "source": [
        "# Convertendo um espaço de estados em uma função de transferência"
      ],
      "metadata": {
        "id": "vs4LCcoATtEm"
      }
    },
    {
      "cell_type": "code",
      "source": [
        "from sympy import symbols, Poly, eye\n",
        "\n",
        "def ABCD_to_tf(A,B,C,D):\n",
        "    '''  É utilizada para manipulação simbólica e algébrica para converter um espaço\n",
        "    de estados dado por (A, B, C, D) para uma matriz de funções de  transferência\n",
        "    no domínio de Laplace.'''\n",
        "    s = symbols('s')\n",
        "    G = C*(s*eye(2) - A).inv()*B + D\n",
        "    return G.as_immutable()\n",
        "\n",
        "def get_tf(g_exp):\n",
        "    '''Extrai os coeficiente do numerador e do denominador de uma função de transferência\n",
        "    simbólica e converte para um função de transferências numérica, a qual pode ser usada\n",
        "    para extrair propriedades dos sistema.'''\n",
        "    num, den = g_exp.as_numer_denom()\n",
        "    num_float = [float(i) for i in Poly(num).all_coeffs()]\n",
        "    den_float = [float(i) for i in Poly(den).all_coeffs()]\n",
        "    den_ = den_float[-1]\n",
        "    return ct.tf(np.array(num_float)/den_,\n",
        "                 np.array(den_float)/den_)\n"
      ],
      "metadata": {
        "id": "4zLUr1BwXA5e"
      },
      "execution_count": 3,
      "outputs": []
    },
    {
      "cell_type": "code",
      "source": [
        "# modelo linear\n",
        "A = np.array([[-1.14 , -0.01 ],\n",
        "              [29.332, -0.947]])\n",
        "B = np.array([[0.001, 1.   , 0.   ],\n",
        "              [0.255, 0.   , 2.092]])\n",
        "C = np.array([[1., 0.],\n",
        "              [0., 1.]])\n",
        "D = np.array([[0., 0., 0.],\n",
        "              [0., 0., 0.]])\n",
        "\n",
        "sys = ct.ss(A,B,C,D)\n",
        "\n",
        "sys"
      ],
      "metadata": {
        "colab": {
          "base_uri": "https://localhost:8080/",
          "height": 98
        },
        "id": "uUS9d0yaWf-O",
        "outputId": "03ee8474-0ece-485e-b063-b57ad091a6d5"
      },
      "execution_count": 4,
      "outputs": [
        {
          "output_type": "execute_result",
          "data": {
            "text/plain": [
              "<LinearIOSystem:sys[2]:['u[0]', 'u[1]', 'u[2]']->['y[0]', 'y[1]']>"
            ],
            "text/latex": "$$\n\\left(\\begin{array}{rllrll|rllrllrll}\n-1.&\\hspace{-1em}14&\\hspace{-1em}\\phantom{\\cdot}&-0.&\\hspace{-1em}01&\\hspace{-1em}\\phantom{\\cdot}&0.&\\hspace{-1em}001&\\hspace{-1em}\\phantom{\\cdot}&1\\phantom{.}&\\hspace{-1em}&\\hspace{-1em}\\phantom{\\cdot}&0\\phantom{.}&\\hspace{-1em}&\\hspace{-1em}\\phantom{\\cdot}\\\\\n29.&\\hspace{-1em}3&\\hspace{-1em}\\phantom{\\cdot}&-0.&\\hspace{-1em}947&\\hspace{-1em}\\phantom{\\cdot}&0.&\\hspace{-1em}255&\\hspace{-1em}\\phantom{\\cdot}&0\\phantom{.}&\\hspace{-1em}&\\hspace{-1em}\\phantom{\\cdot}&2.&\\hspace{-1em}09&\\hspace{-1em}\\phantom{\\cdot}\\\\\n\\hline\n1\\phantom{.}&\\hspace{-1em}&\\hspace{-1em}\\phantom{\\cdot}&0\\phantom{.}&\\hspace{-1em}&\\hspace{-1em}\\phantom{\\cdot}&0\\phantom{.}&\\hspace{-1em}&\\hspace{-1em}\\phantom{\\cdot}&0\\phantom{.}&\\hspace{-1em}&\\hspace{-1em}\\phantom{\\cdot}&0\\phantom{.}&\\hspace{-1em}&\\hspace{-1em}\\phantom{\\cdot}\\\\\n0\\phantom{.}&\\hspace{-1em}&\\hspace{-1em}\\phantom{\\cdot}&1\\phantom{.}&\\hspace{-1em}&\\hspace{-1em}\\phantom{\\cdot}&0\\phantom{.}&\\hspace{-1em}&\\hspace{-1em}\\phantom{\\cdot}&0\\phantom{.}&\\hspace{-1em}&\\hspace{-1em}\\phantom{\\cdot}&0\\phantom{.}&\\hspace{-1em}&\\hspace{-1em}\\phantom{\\cdot}\\\\\n\\end{array}\\right)\n$$"
          },
          "metadata": {},
          "execution_count": 4
        }
      ]
    },
    {
      "cell_type": "code",
      "source": [
        "G = ABCD_to_tf(A,B,C,D)\n",
        "G[0,1].simplify()"
      ],
      "metadata": {
        "id": "6HnoOfzBT4tL",
        "outputId": "540340ab-66e7-4b61-e1ed-063e3e2c07ad",
        "colab": {
          "base_uri": "https://localhost:8080/",
          "height": 52
        }
      },
      "execution_count": 5,
      "outputs": [
        {
          "output_type": "execute_result",
          "data": {
            "text/plain": [
              "(29.332*s + 27.777404)/(29.332*s**2 + 61.215884*s + 40.2699028)"
            ],
            "text/latex": "$\\displaystyle \\frac{29.332 s + 27.777404}{29.332 s^{2} + 61.215884 s + 40.2699028}$"
          },
          "metadata": {},
          "execution_count": 5
        }
      ]
    },
    {
      "cell_type": "code",
      "source": [
        "Gp = get_tf(G[0,1])\n",
        "Gp"
      ],
      "metadata": {
        "id": "ytwsKWHqXi0n",
        "outputId": "5a0f919b-9c24-4f9f-e030-3c875b7054fa",
        "colab": {
          "base_uri": "https://localhost:8080/",
          "height": 39
        }
      },
      "execution_count": 6,
      "outputs": [
        {
          "output_type": "execute_result",
          "data": {
            "text/plain": [
              "TransferFunction(array([0.72838517, 0.68978076]), array([0.72838517, 1.52013985, 1.        ]))"
            ],
            "text/latex": "$$\\frac{0.7284 s + 0.6898}{0.7284 s^2 + 1.52 s + 1}$$"
          },
          "metadata": {},
          "execution_count": 6
        }
      ]
    },
    {
      "cell_type": "code",
      "source": [
        "Gp.dcgain()"
      ],
      "metadata": {
        "id": "fRy3XgxMUvB_",
        "outputId": "ebbc9a1c-7b09-4b85-8fd5-55cfe8add7d5",
        "colab": {
          "base_uri": "https://localhost:8080/"
        }
      },
      "execution_count": 7,
      "outputs": [
        {
          "output_type": "execute_result",
          "data": {
            "text/plain": [
              "0.6897807560638066"
            ]
          },
          "metadata": {},
          "execution_count": 7
        }
      ]
    },
    {
      "cell_type": "code",
      "source": [
        "Gp.poles()"
      ],
      "metadata": {
        "colab": {
          "base_uri": "https://localhost:8080/"
        },
        "id": "HUzuZCYhXvYK",
        "outputId": "c2b1751c-b450-462d-bec0-0d7fbffc9839"
      },
      "execution_count": 8,
      "outputs": [
        {
          "output_type": "execute_result",
          "data": {
            "text/plain": [
              "array([-1.0435+0.53292378j, -1.0435-0.53292378j])"
            ]
          },
          "metadata": {},
          "execution_count": 8
        }
      ]
    },
    {
      "cell_type": "code",
      "source": [
        "Gp.zeros()"
      ],
      "metadata": {
        "colab": {
          "base_uri": "https://localhost:8080/"
        },
        "id": "1Fboj2yFYEC2",
        "outputId": "9ba9ac67-d42c-415c-c107-e4923e971bb1"
      },
      "execution_count": 9,
      "outputs": [
        {
          "output_type": "execute_result",
          "data": {
            "text/plain": [
              "array([-0.947+0.j])"
            ]
          },
          "metadata": {},
          "execution_count": 9
        }
      ]
    },
    {
      "cell_type": "code",
      "source": [
        "wn, zeta, p = ct.damp(Gp)"
      ],
      "metadata": {
        "id": "3x7sLz9oVPAU",
        "outputId": "ae773733-5b1b-4574-e95d-a409c50b13d0",
        "colab": {
          "base_uri": "https://localhost:8080/"
        }
      },
      "execution_count": 10,
      "outputs": [
        {
          "output_type": "stream",
          "name": "stdout",
          "text": [
            "    Eigenvalue (pole)       Damping     Frequency\n",
            "    -1.043   +0.5329j        0.8906         1.172\n",
            "    -1.043   -0.5329j        0.8906         1.172\n"
          ]
        }
      ]
    },
    {
      "cell_type": "code",
      "source": [
        "t, y = ct.step_response(Gp)\n",
        "plt.plot(t,y)"
      ],
      "metadata": {
        "id": "0dwRYdVwX_UT",
        "outputId": "a5afa31e-3b58-4a13-c10f-afb9384e1664",
        "colab": {
          "base_uri": "https://localhost:8080/",
          "height": 447
        }
      },
      "execution_count": 11,
      "outputs": [
        {
          "output_type": "execute_result",
          "data": {
            "text/plain": [
              "[<matplotlib.lines.Line2D at 0x79d42ba7d840>]"
            ]
          },
          "metadata": {},
          "execution_count": 11
        },
        {
          "output_type": "display_data",
          "data": {
            "text/plain": [
              "<Figure size 640x480 with 1 Axes>"
            ],
            "image/png": "[encoded data removed]"
          },
          "metadata": {}
        }
      ]
    },
    {
      "cell_type": "code",
      "source": [],
      "metadata": {
        "id": "vh_l6AQWYGxN"
      },
      "execution_count": 13,
      "outputs": []
    }
  ]
}
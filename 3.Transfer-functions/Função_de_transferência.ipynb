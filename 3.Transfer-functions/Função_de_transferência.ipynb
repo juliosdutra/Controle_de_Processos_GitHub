{
  "nbformat": 4,
  "nbformat_minor": 0,
  "metadata": {
    "colab": {
      "provenance": [],
      "authorship_tag": "ABX9TyOFJLMhqg6TJVRk2qWXT7WJ",
      "include_colab_link": true
    },
    "kernelspec": {
      "name": "python3",
      "display_name": "Python 3"
    },
    "language_info": {
      "name": "python"
    }
  },
  "cells": [
    {
      "cell_type": "markdown",
      "metadata": {
        "id": "view-in-github",
        "colab_type": "text"
      },
      "source": [
        "<a href=\"https://colab.research.google.com/github/juliosdutra/Controle_de_Processos_UFES/blob/main/3.Transfer-functions/Fun%C3%A7%C3%A3o_de_transfer%C3%AAncia.ipynb\" target=\"_parent\"><img src=\"https://colab.research.google.com/assets/colab-badge.svg\" alt=\"Open In Colab\"/></a>"
      ]
    },
    {
      "cell_type": "markdown",
      "source": [
        "<left><img src=\"https://github.com/juliosdutra/Controle_de_Processos_UFES/blob/main/imagens/cabe%C3%A7alho-geral.jpg?raw=true\" width=\"700\" height=\"175\">\n",
        "</left>"
      ],
      "metadata": {
        "id": "Im39dOUUS3gq"
      }
    },
    {
      "cell_type": "markdown",
      "source": [
        "# Usando `scipy` (OPCIONAL)"
      ],
      "metadata": {
        "id": "9Fhsz2qoQu0R"
      }
    },
    {
      "cell_type": "code",
      "source": [
        "from scipy import signal\n",
        "import matplotlib.pyplot as plt\n",
        "\n",
        "# Definindo os parâmetros\n",
        "K = 1.0        # Ganho\n",
        "tau = 1.0      # Período\n",
        "xi = 0.7       # Fator de amortecimento\n",
        "\n",
        "# Definindo o numerador e denominador\n",
        "num = [K]  # Numerador\n",
        "den = [tau**2, 2*xi*tau, 1]  # Denominador\n",
        "\n",
        "# Criando a função de transferência\n",
        "G = signal.TransferFunction(num, den)\n",
        "\n",
        "# Calculando a resposta ao degrau\n",
        "t, y = signal.step(G)\n",
        "\n",
        "# Plotando a resposta\n",
        "plt.plot(t, y)\n",
        "plt.title(\"Resposta ao Degrau\")\n",
        "plt.xlabel(\"Tempo [s]\")\n",
        "plt.ylabel(\"Saída [y]\")\n",
        "plt.grid(True)\n",
        "plt.show()"
      ],
      "metadata": {
        "id": "aii1b-MIQ5YQ",
        "outputId": "f6e319f6-7bbb-47d5-9f19-22c8d6ff6964",
        "colab": {
          "base_uri": "https://localhost:8080/",
          "height": 472
        }
      },
      "execution_count": 1,
      "outputs": [
        {
          "output_type": "display_data",
          "data": {
            "text/plain": [
              "<Figure size 640x480 with 1 Axes>"
            ],
            "image/png": "[encoded data removed]"
          },
          "metadata": {}
        }
      ]
    },
    {
      "cell_type": "markdown",
      "source": [
        "# Usando python-control"
      ],
      "metadata": {
        "id": "8L1OECmPawC5"
      }
    },
    {
      "cell_type": "markdown",
      "source": [
        "## Instalando e importando as bibliotecas"
      ],
      "metadata": {
        "id": "9P9rVNprTb4e"
      }
    },
    {
      "cell_type": "code",
      "source": [
        "! pip install -qq control"
      ],
      "metadata": {
        "id": "Kg7mc0Y2XMk9"
      },
      "execution_count": 2,
      "outputs": []
    },
    {
      "cell_type": "code",
      "source": [
        "import numpy as np\n",
        "import control as ct\n",
        "import matplotlib.pyplot as plt\n",
        "\n",
        "# Ajustando o tamanho da fonte de saída das células: OPCIONAL\n",
        "from IPython.display import HTML\n",
        "shell = get_ipython()\n",
        "\n",
        "def adjust_font_size():\n",
        "  display(HTML('''<style>\n",
        "    body {\n",
        "      font-size: 25px;\n",
        "    }\n",
        "  '''))\n",
        "\n",
        "if adjust_font_size not in shell.events.callbacks['pre_execute']:\n",
        "  shell.events.register('pre_execute', adjust_font_size)"
      ],
      "metadata": {
        "id": "PWvRihjdWlBc"
      },
      "execution_count": 9,
      "outputs": []
    },
    {
      "cell_type": "code",
      "source": [
        "# Sistemas de primeira ordem\n"
      ],
      "metadata": {
        "id": "kke7cPHKTyDe"
      },
      "execution_count": null,
      "outputs": []
    },
    {
      "cell_type": "code",
      "source": [
        "# Sistemas de segunda ordem\n"
      ],
      "metadata": {
        "id": "dJxgmGg3CPwm"
      },
      "execution_count": null,
      "outputs": []
    },
    {
      "cell_type": "markdown",
      "source": [
        "## Algumas funções especiais"
      ],
      "metadata": {
        "id": "6HyvG4fvgo2h"
      }
    },
    {
      "cell_type": "code",
      "source": [
        "# Obter propriedades dos sistemas\n",
        "G = []\n",
        "for g in G:\n",
        "  print(g.poles())"
      ],
      "metadata": {
        "id": "5WEf4yhXDJqG",
        "outputId": "e1aa07e3-b013-4daf-881f-fc0a7a72bfbe",
        "colab": {
          "base_uri": "https://localhost:8080/",
          "height": 17
        }
      },
      "execution_count": 15,
      "outputs": [
        {
          "output_type": "display_data",
          "data": {
            "text/plain": [
              "<IPython.core.display.HTML object>"
            ],
            "text/html": [
              "<style>\n",
              "    body {\n",
              "      font-size: 25px;\n",
              "    }\n",
              "  "
            ]
          },
          "metadata": {}
        }
      ]
    },
    {
      "cell_type": "code",
      "source": [
        "G5 =\n",
        "ct.pzmap(G5);"
      ],
      "metadata": {
        "id": "aM3i46mPE_CC"
      },
      "execution_count": null,
      "outputs": []
    },
    {
      "cell_type": "code",
      "source": [
        "# Resposta ao degrau (step)\n",
        "delta = 1\n",
        "y0 = 2\n"
      ],
      "metadata": {
        "id": "bP4PUZAbGkND"
      },
      "execution_count": null,
      "outputs": []
    }
  ]
}
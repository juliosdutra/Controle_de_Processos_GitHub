{
  "nbformat": 4,
  "nbformat_minor": 0,
  "metadata": {
    "colab": {
      "provenance": [],
      "authorship_tag": "ABX9TyOuclyKd6xYA/u82TGWevsa",
      "include_colab_link": true
    },
    "kernelspec": {
      "name": "python3",
      "display_name": "Python 3"
    },
    "language_info": {
      "name": "python"
    }
  },
  "cells": [
    {
      "cell_type": "markdown",
      "metadata": {
        "id": "view-in-github",
        "colab_type": "text"
      },
      "source": [
        "<a href=\"https://colab.research.google.com/github/juliosdutra/Controle_de_Processos_UFES/blob/main/3.Transfer-functions/Fun%C3%A7%C3%A3o_de_transfer%C3%AAncia.ipynb\" target=\"_parent\"><img src=\"https://colab.research.google.com/assets/colab-badge.svg\" alt=\"Open In Colab\"/></a>"
      ]
    },
    {
      "cell_type": "markdown",
      "source": [
        "<left><img src=\"https://github.com/juliosdutra/Controle_de_Processos_UFES/blob/main/imagens/cabe%C3%A7alho-geral.jpg?raw=true\" width=\"700\" height=\"175\">\n",
        "</left>"
      ],
      "metadata": {
        "id": "Im39dOUUS3gq"
      }
    },
    {
      "cell_type": "markdown",
      "source": [
        "# Funções de transferência usando `scipy`"
      ],
      "metadata": {
        "id": "9Fhsz2qoQu0R"
      }
    },
    {
      "cell_type": "code",
      "source": [
        "from scipy import signal\n",
        "\n",
        "# Definindo os parâmetros\n",
        "K = 1.0        # Ganho\n",
        "tau = 1.0      # Período\n",
        "xi = 0.7       # Fator de amortecimento\n",
        "\n",
        "# Definindo o numerador e denominador\n",
        "num = [K]  # Numerador\n",
        "den = [tau**2, 2*xi*tau, 1]  # Denominador\n",
        "\n",
        "# Criando a função de transferência\n",
        "G = signal.TransferFunction(num, den)\n",
        "G"
      ],
      "metadata": {
        "id": "aii1b-MIQ5YQ",
        "outputId": "a1d28f35-9108-4927-b8e0-e684c314590a",
        "colab": {
          "base_uri": "https://localhost:8080/",
          "height": 175
        }
      },
      "execution_count": 65,
      "outputs": [
        {
          "output_type": "display_data",
          "data": {
            "text/plain": [
              "<IPython.core.display.HTML object>"
            ],
            "text/html": [
              "<style>\n",
              "    body {\n",
              "      font-size: 25px;\n",
              "    }\n",
              "  "
            ]
          },
          "metadata": {}
        },
        {
          "output_type": "execute_result",
          "data": {
            "text/plain": [
              "TransferFunctionContinuous(\n",
              "array([1.]),\n",
              "array([1. , 1.4, 1. ]),\n",
              "dt: None\n",
              ")"
            ]
          },
          "metadata": {},
          "execution_count": 65
        }
      ]
    },
    {
      "cell_type": "markdown",
      "source": [
        "## Instalando e importando as bibliotecas"
      ],
      "metadata": {
        "id": "9P9rVNprTb4e"
      }
    },
    {
      "cell_type": "code",
      "source": [
        "! pip install -qq control"
      ],
      "metadata": {
        "id": "Kg7mc0Y2XMk9",
        "outputId": "4aaf712e-c984-4424-88bf-14745677ce20",
        "colab": {
          "base_uri": "https://localhost:8080/"
        }
      },
      "execution_count": 1,
      "outputs": [
        {
          "output_type": "stream",
          "name": "stdout",
          "text": [
            "\u001b[?25l   \u001b[90m━━━━━━━━━━━━━━━━━━━━━━━━━━━━━━━━━━━━━━━━\u001b[0m \u001b[32m0.0/549.6 kB\u001b[0m \u001b[31m?\u001b[0m eta \u001b[36m-:--:--\u001b[0m\r\u001b[2K   \u001b[91m━━━━━━━━━━━\u001b[0m\u001b[90m╺\u001b[0m\u001b[90m━━━━━━━━━━━━━━━━━━━━━━━━━━━━\u001b[0m \u001b[32m153.6/549.6 kB\u001b[0m \u001b[31m4.2 MB/s\u001b[0m eta \u001b[36m0:00:01\u001b[0m\r\u001b[2K   \u001b[91m━━━━━━━━━━━━━━━━━━━━━━━━━━━━━━━━━━━━━━━\u001b[0m\u001b[90m╺\u001b[0m \u001b[32m542.7/549.6 kB\u001b[0m \u001b[31m9.7 MB/s\u001b[0m eta \u001b[36m0:00:01\u001b[0m\r\u001b[2K   \u001b[90m━━━━━━━━━━━━━━━━━━━━━━━━━━━━━━━━━━━━━━━━\u001b[0m \u001b[32m549.6/549.6 kB\u001b[0m \u001b[31m6.0 MB/s\u001b[0m eta \u001b[36m0:00:00\u001b[0m\n",
            "\u001b[?25h"
          ]
        }
      ]
    },
    {
      "cell_type": "code",
      "source": [
        "import numpy as np\n",
        "import control as ct\n",
        "import matplotlib.pyplot as plt"
      ],
      "metadata": {
        "id": "PWvRihjdWlBc"
      },
      "execution_count": 2,
      "outputs": []
    },
    {
      "cell_type": "code",
      "source": [
        "# Ajustando o tamanho da fonte de saída das células: OPCIONAL\n",
        "from IPython.display import HTML\n",
        "shell = get_ipython()\n",
        "\n",
        "def adjust_font_size():\n",
        "  display(HTML('''<style>\n",
        "    body {\n",
        "      font-size: 25px;\n",
        "    }\n",
        "  '''))\n",
        "\n",
        "if adjust_font_size not in shell.events.callbacks['pre_execute']:\n",
        "  shell.events.register('pre_execute', adjust_font_size)"
      ],
      "metadata": {
        "id": "ICgpzGYtwFUg"
      },
      "execution_count": 3,
      "outputs": []
    },
    {
      "cell_type": "markdown",
      "source": [
        "# Criando diretamente uma função de transferência"
      ],
      "metadata": {
        "id": "cHdZOQlFTlv2"
      }
    },
    {
      "cell_type": "code",
      "source": [
        "# Sistemas de primeira ordem\n",
        "G1 = ct.tf([5],[2,1])\n",
        "G2 = ct.tf([2],[1,1])\n",
        "G1"
      ],
      "metadata": {
        "id": "kke7cPHKTyDe",
        "outputId": "1f3c0ecb-ac53-42da-d25f-7fbf77a1a218",
        "colab": {
          "base_uri": "https://localhost:8080/",
          "height": 57
        }
      },
      "execution_count": 4,
      "outputs": [
        {
          "output_type": "display_data",
          "data": {
            "text/plain": [
              "<IPython.core.display.HTML object>"
            ],
            "text/html": [
              "<style>\n",
              "    body {\n",
              "      font-size: 25px;\n",
              "    }\n",
              "  "
            ]
          },
          "metadata": {}
        },
        {
          "output_type": "execute_result",
          "data": {
            "text/plain": [
              "TransferFunction(array([5]), array([2, 1]))"
            ],
            "text/latex": "$$\\frac{5}{2 s + 1}$$"
          },
          "metadata": {},
          "execution_count": 4
        }
      ]
    },
    {
      "cell_type": "code",
      "source": [
        "# Sistemas de segunda ordem\n",
        "s = ct.tf('s')\n",
        "G3 = 15/(1.5*s**2 + 0.4*s + 3)\n",
        "G4 = 15/(1.5*s**2 + 6*s + 3)\n",
        "G3"
      ],
      "metadata": {
        "id": "dJxgmGg3CPwm",
        "outputId": "3ded2f65-01df-456f-f5c5-97fe9461cc2f",
        "colab": {
          "base_uri": "https://localhost:8080/",
          "height": 57
        }
      },
      "execution_count": 5,
      "outputs": [
        {
          "output_type": "display_data",
          "data": {
            "text/plain": [
              "<IPython.core.display.HTML object>"
            ],
            "text/html": [
              "<style>\n",
              "    body {\n",
              "      font-size: 25px;\n",
              "    }\n",
              "  "
            ]
          },
          "metadata": {}
        },
        {
          "output_type": "execute_result",
          "data": {
            "text/plain": [
              "TransferFunction(array([15]), array([1.5, 0.4, 3. ]))"
            ],
            "text/latex": "$$\\frac{15}{1.5 s^2 + 0.4 s + 3}$$"
          },
          "metadata": {},
          "execution_count": 5
        }
      ]
    },
    {
      "cell_type": "code",
      "source": [
        "# Obter dos sistemas\n",
        "G = [G1, G2, G3, G4]\n",
        "for g in G:\n",
        "  print(g.poles())"
      ],
      "metadata": {
        "id": "5WEf4yhXDJqG",
        "outputId": "e3145e0e-fe9b-4890-c39d-d72d69d68074",
        "colab": {
          "base_uri": "https://localhost:8080/",
          "height": 144
        }
      },
      "execution_count": 7,
      "outputs": [
        {
          "output_type": "display_data",
          "data": {
            "text/plain": [
              "<IPython.core.display.HTML object>"
            ],
            "text/html": [
              "<style>\n",
              "    body {\n",
              "      font-size: 25px;\n",
              "    }\n",
              "  "
            ]
          },
          "metadata": {}
        },
        {
          "output_type": "stream",
          "name": "stdout",
          "text": [
            "[-0.5+0.j]\n",
            "[-1.+0.j]\n",
            "[-0.13333333+1.40791414j -0.13333333-1.40791414j]\n",
            "[-3.41421356+0.j -0.58578644+0.j]\n"
          ]
        }
      ]
    },
    {
      "cell_type": "code",
      "source": [
        "G5 = (3*s**3 + 2.5*s**2 + s)/(5*s**4 + 2.9*s**2 + 1)\n",
        "ct.pzmap(G5);"
      ],
      "metadata": {
        "id": "aM3i46mPE_CC",
        "outputId": "c9e04d29-7b0d-4f19-96b8-a0eef02c082d",
        "colab": {
          "base_uri": "https://localhost:8080/",
          "height": 495
        }
      },
      "execution_count": 8,
      "outputs": [
        {
          "output_type": "display_data",
          "data": {
            "text/plain": [
              "<IPython.core.display.HTML object>"
            ],
            "text/html": [
              "<style>\n",
              "    body {\n",
              "      font-size: 25px;\n",
              "    }\n",
              "  "
            ]
          },
          "metadata": {}
        },
        {
          "output_type": "display_data",
          "data": {
            "text/plain": [
              "<Figure size 640x480 with 1 Axes>"
            ],
            "image/png": "[encoded data removed]"
          },
          "metadata": {}
        }
      ]
    },
    {
      "cell_type": "code",
      "source": [
        "# Resposta ao degrau (step)\n",
        "delta = 1\n",
        "y0 = 2\n",
        "for g in G:\n",
        "  # Resposta ao degrau\n",
        "  t, y = ct.step_response(g, T=50)\n",
        "\n",
        "  # Obtém os coeficientes do numerador e denominador para exibir na legenda\n",
        "  num = g.num[0][0]  # Coeficientes do numerador\n",
        "  den = g.den[0][0]  # Coeficientes do denominador\n",
        "\n",
        "  # Formatação da legenda dependendo da ordem\n",
        "  if len(den) == 2:  # Sistema de 1ª ordem\n",
        "      label_text = rf\"$G(s) = \\frac{{{num[0]}}}{{{den[0]}s + {den[1]}}}$\"\n",
        "  elif len(den) == 3:  # Sistema de 2ª ordem\n",
        "      label_text = rf\"$G(s) = \\frac{{{num[0]}}}{{{den[0]}s^2 + {den[1]}s + {den[2]}}}$\"\n",
        "\n",
        "  # Saída gráfica\n",
        "  plt.plot(t, y0 + delta*y, label = label_text)\n",
        "\n",
        "plt.xlabel('Tempo, t')\n",
        "plt.ylabel('Saída do sistema, y')\n",
        "plt.legend(title=\"Funções de transferência\", bbox_to_anchor=(1.05, 1), loc='upper left')\n",
        "plt.axis([0, 50, 0, 12])\n",
        "plt.grid()"
      ],
      "metadata": {
        "id": "bP4PUZAbGkND",
        "outputId": "d1f32f68-2956-45d7-b521-c68bbcfa0c68",
        "colab": {
          "base_uri": "https://localhost:8080/",
          "height": 455
        }
      },
      "execution_count": 14,
      "outputs": [
        {
          "output_type": "display_data",
          "data": {
            "text/plain": [
              "<IPython.core.display.HTML object>"
            ],
            "text/html": [
              "<style>\n",
              "    body {\n",
              "      font-size: 25px;\n",
              "    }\n",
              "  "
            ]
          },
          "metadata": {}
        },
        {
          "output_type": "display_data",
          "data": {
            "text/plain": [
              "<Figure size 640x480 with 1 Axes>"
            ],
            "image/png": "[encoded data removed]"
          },
          "metadata": {}
        }
      ]
    }
  ]
}
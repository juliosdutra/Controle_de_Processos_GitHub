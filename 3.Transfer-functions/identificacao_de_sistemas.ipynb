{
  "nbformat": 4,
  "nbformat_minor": 0,
  "metadata": {
    "colab": {
      "provenance": [],
      "authorship_tag": "ABX9TyMYL78WfUYkViKtxuH0r6E5",
      "include_colab_link": true
    },
    "kernelspec": {
      "name": "python3",
      "display_name": "Python 3"
    },
    "language_info": {
      "name": "python"
    }
  },
  "cells": [
    {
      "cell_type": "markdown",
      "metadata": {
        "id": "view-in-github",
        "colab_type": "text"
      },
      "source": [
        "<a href=\"https://colab.research.google.com/github/juliosdutra/Controle_de_Processos_UFES/blob/main/3.Transfer-functions/identificacao_de_sistemas.ipynb\" target=\"_parent\"><img src=\"https://colab.research.google.com/assets/colab-badge.svg\" alt=\"Open In Colab\"/></a>"
      ]
    },
    {
      "cell_type": "markdown",
      "source": [
        "<left><img src=\"https://github.com/juliosdutra/Controle_de_Processos_UFES/blob/main/imagens/cabe%C3%A7alho-geral.jpg?raw=true\" width=\"700\" height=\"175\">\n",
        "</left>"
      ],
      "metadata": {
        "id": "3QVuSR13cfA0"
      }
    },
    {
      "cell_type": "code",
      "execution_count": 1,
      "metadata": {
        "id": "jgeR8tklXH66",
        "outputId": "267432b2-12cd-4fd6-d221-d574f0bb330b",
        "colab": {
          "base_uri": "https://localhost:8080/"
        }
      },
      "outputs": [
        {
          "output_type": "stream",
          "name": "stdout",
          "text": [
            "\u001b[?25l   \u001b[90m━━━━━━━━━━━━━━━━━━━━━━━━━━━━━━━━━━━━━━━━\u001b[0m \u001b[32m0.0/549.6 kB\u001b[0m \u001b[31m?\u001b[0m eta \u001b[36m-:--:--\u001b[0m\r\u001b[2K   \u001b[91m━━━━━━━━━━━━━━━━━━━━━━━━━━━━━━━━━━━━━━━\u001b[0m\u001b[90m╺\u001b[0m \u001b[32m542.7/549.6 kB\u001b[0m \u001b[31m25.3 MB/s\u001b[0m eta \u001b[36m0:00:01\u001b[0m\r\u001b[2K   \u001b[90m━━━━━━━━━━━━━━━━━━━━━━━━━━━━━━━━━━━━━━━━\u001b[0m \u001b[32m549.6/549.6 kB\u001b[0m \u001b[31m14.9 MB/s\u001b[0m eta \u001b[36m0:00:00\u001b[0m\n",
            "\u001b[?25h"
          ]
        }
      ],
      "source": [
        "# Instale a biblioteca control, se necessário\n",
        "!pip install -qq control"
      ]
    },
    {
      "cell_type": "code",
      "source": [
        "# Importar as bibliotecas\n",
        "import numpy as np\n",
        "import matplotlib.pyplot as plt\n",
        "import control as ct"
      ],
      "metadata": {
        "id": "l_X23Lo6cjfq"
      },
      "execution_count": 2,
      "outputs": []
    },
    {
      "cell_type": "markdown",
      "source": [
        "# Exemplo de aplicação"
      ],
      "metadata": {
        "id": "AZvkyGX5clha"
      }
    },
    {
      "cell_type": "code",
      "source": [
        "# Dados experimentais\n",
        "t = np.array([ 0.  ,  1.25,  2.5 ,  3.75,  5.  ,  6.25,  7.5 ,  8.75, 10.,\n",
        "       11.25, 12.5 , 13.75, 15.  , 16.25, 17.5 , 18.75, 20.  , 21.25,\n",
        "       22.5 , 23.75, 25.  , 26.25, 27.5 , 28.75, 30., 31.25  ])\n",
        "\n",
        "T = np.array([ 0. , -0.2, -0. ,  0.1,  1. ,  2.9,  4.5,  5.6,  6.6,  7.8,  7.9,\n",
        "        8.3,  8.9,  9.3,  9.6,  9.5,  9.8,  9.6,  9.6, 10. , 10. ,  9.9,\n",
        "        9.9,  9.8, 10., 10. ])\n",
        "\n",
        "# Visualização dos dados\n",
        "plt.plot(t,T,'or')\n",
        "plt.xlabel('Tempo, t (min)')\n",
        "plt.ylabel('Temperatura, T\\'(°C)')\n",
        "plt.grid();"
      ],
      "metadata": {
        "id": "fiBmbqUBcmZz",
        "outputId": "adc78072-0f66-4fd0-b378-72785cdeab0e",
        "colab": {
          "base_uri": "https://localhost:8080/",
          "height": 449
        }
      },
      "execution_count": 3,
      "outputs": [
        {
          "output_type": "display_data",
          "data": {
            "text/plain": [
              "<Figure size 640x480 with 1 Axes>"
            ],
            "image/png": "[encoded data removed]"
          },
          "metadata": {}
        }
      ]
    },
    {
      "cell_type": "code",
      "source": [],
      "metadata": {
        "id": "RfQjdeIqcqNK"
      },
      "execution_count": null,
      "outputs": []
    },
    {
      "cell_type": "code",
      "source": [],
      "metadata": {
        "id": "SPE9aMCOcqBD"
      },
      "execution_count": null,
      "outputs": []
    },
    {
      "cell_type": "markdown",
      "source": [
        "# Atividade Proposta\n",
        "Sua vez de colocar a mão na massa..."
      ],
      "metadata": {
        "id": "1gOaz09Jcquq"
      }
    },
    {
      "cell_type": "code",
      "source": [],
      "metadata": {
        "id": "CEoO6Ux8csVy"
      },
      "execution_count": null,
      "outputs": []
    }
  ]
}